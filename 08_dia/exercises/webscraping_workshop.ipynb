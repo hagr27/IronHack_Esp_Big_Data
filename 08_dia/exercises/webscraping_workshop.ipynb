{
 "cells": [
  {
   "cell_type": "markdown",
   "id": "4f033c79",
   "metadata": {},
   "source": [
    "\n",
    "# Taller de Web Scraping con BeautifulSoup y pandas\n",
    "\n",
    "Este notebook contiene un HTML embebido de ejemplo y una serie de ejercicios para practicar:\n",
    "\n",
    "- BeautifulSoup (find, find_all, select, attrs, get_text...)\n",
    "- pandas (crear DataFrames a partir de datos extraídos)\n",
    "- Limpieza y manipulación básica de texto\n",
    "\n",
    "👉 Completa los `# TODO` en cada celda.\n"
   ]
  },
  {
   "cell_type": "code",
   "execution_count": 1,
   "id": "ea58786e",
   "metadata": {},
   "outputs": [],
   "source": [
    "\n",
    "from bs4 import BeautifulSoup\n",
    "import pandas as pd\n",
    "import re\n",
    "\n",
    "HTML_DOC = \"\"\"\n",
    "<!DOCTYPE html>\n",
    "<html lang=\"es\">\n",
    "<head>\n",
    "  <meta charset=\"utf-8\">\n",
    "  <title>Food & Fun Facts</title>\n",
    "  <meta name=\"description\" content=\"Una colección de datos curiosos sobre comida y ocio.\">\n",
    "</head>\n",
    "<body>\n",
    "  <header id=\"top\">\n",
    "    <h1>Food & Fun Facts</h1>\n",
    "    <h2 class=\"tagline\">Cosas curiosas para aprender y contar</h2>\n",
    "    <nav>\n",
    "      <ul>\n",
    "        <li><a href=\"#fun-facts\">Fun Facts</a></li>\n",
    "        <li><a href=\"#restaurantes\">Restaurantes</a></li>\n",
    "        <li><a href=\"#recursos\">Recursos</a></li>\n",
    "      </ul>\n",
    "    </nav>\n",
    "  </header>\n",
    "\n",
    "  <main>\n",
    "    <section id=\"intro\">\n",
    "      <article>\n",
    "        <h3>Introducción</h3>\n",
    "        <p>Bienvenidos a la colección de datos curiosos. Aquí encontrarás hechos rápidos,\n",
    "           enlaces útiles y una pequeña tabla de restaurantes para practicar scraping.</p>\n",
    "      </article>\n",
    "    </section>\n",
    "\n",
    "    <section id=\"fun-facts\">\n",
    "      <h3>Fun Facts</h3>\n",
    "      <ul class=\"facts\">\n",
    "        <li class=\"fun-fact\" data-categoria=\"Historia\" data-source=\"Libro A\">\n",
    "          La pizza moderna se popularizó en Nápoles en el siglo XVIII.\n",
    "        </li>\n",
    "        <li class=\"fun-fact\" data-categoria=\"Ciencia\" data-source=\"Paper B\">\n",
    "          El picante no es un sabor, sino una sensación de dolor causada por la capsaicina.\n",
    "        </li>\n",
    "        <li class=\"fun-fact\" data-categoria=\"Cultura\" data-source=\"Artículo C\">\n",
    "          El té es la segunda bebida más consumida del mundo después del agua.\n",
    "        </li>\n",
    "        <li class=\"fun-fact\" data-categoria=\"Curiosidad\" data-source=\"Blog D\">\n",
    "          La miel puede conservarse comestible durante miles de años.\n",
    "        </li>\n",
    "        <li class=\"fun-fact\">\n",
    "          Algunas variedades de queso cuentan con hongos comestibles inocuos.\n",
    "        </li>\n",
    "      </ul>\n",
    "    </section>\n",
    "\n",
    "    <section id=\"restaurantes\">\n",
    "      <h3>Restaurantes recomendados</h3>\n",
    "      <table class=\"tabla-restaurantes\">\n",
    "        <thead>\n",
    "          <tr>\n",
    "            <th>Nombre</th>\n",
    "            <th>Ciudad</th>\n",
    "            <th>Tipo</th>\n",
    "            <th>Precio (€)</th>\n",
    "          </tr>\n",
    "        </thead>\n",
    "        <tbody>\n",
    "          <tr>\n",
    "            <td>La Trattoria</td>\n",
    "            <td>Roma</td>\n",
    "            <td>Italiana</td>\n",
    "            <td>20</td>\n",
    "          </tr>\n",
    "          <tr>\n",
    "            <td>Bistro 21</td>\n",
    "            <td>París</td>\n",
    "            <td>Francesa</td>\n",
    "            <td>35</td>\n",
    "          </tr>\n",
    "          <tr>\n",
    "            <td>Casa Mexicana</td>\n",
    "            <td>CDMX</td>\n",
    "            <td>Mexicana</td>\n",
    "            <td>12</td>\n",
    "          </tr>\n",
    "          <tr>\n",
    "            <td>Sushi Master</td>\n",
    "            <td>Tokio</td>\n",
    "            <td>Japonesa</td>\n",
    "            <td>30</td>\n",
    "          </tr>\n",
    "        </tbody>\n",
    "      </table>\n",
    "      <figure>\n",
    "        <img src=\"img/restaurante.jpg\" alt=\"Fachada de un restaurante clásico\">\n",
    "        <figcaption>Imagen ilustrativa</figcaption>\n",
    "      </figure>\n",
    "    </section>\n",
    "\n",
    "    <section id=\"recursos\">\n",
    "      <h3>Recursos</h3>\n",
    "      <ul>\n",
    "        <li><a href=\"https://es.wikipedia.org/wiki/Gastronom%C3%ADa\" target=\"_blank\" rel=\"external\">Gastronomía</a></li>\n",
    "        <li><a href=\"https://www.foodtimeline.org/\" target=\"_blank\" rel=\"external nofollow\">Food Timeline</a></li>\n",
    "        <li><a href=\"/contacto\" rel=\"internal\">Contacto</a></li>\n",
    "      </ul>\n",
    "      <p>Consulta también el <a href=\"#top\">inicio</a> de la página.</p>\n",
    "    </section>\n",
    "  </main>\n",
    "\n",
    "  <footer>\n",
    "    <small>© 2025 FoodFacts</small>\n",
    "  </footer>\n",
    "</body>\n",
    "</html>\n",
    "\"\"\"\n",
    "\n",
    "soup = BeautifulSoup(HTML_DOC, \"html.parser\")\n"
   ]
  },
  {
   "cell_type": "markdown",
   "id": "4dc3c257",
   "metadata": {},
   "source": [
    "### Ejercicio 1\n",
    "\n",
    "Extrae el título de la página (<title>) en una variable llamada page_title."
   ]
  },
  {
   "cell_type": "code",
   "execution_count": 2,
   "id": "2c6b3bbf",
   "metadata": {},
   "outputs": [
    {
     "name": "stdout",
     "output_type": "stream",
     "text": [
      "Food & Fun Facts <class 'bs4.element.Tag'>\n"
     ]
    }
   ],
   "source": [
    "# TODO Ejercicio 1\n",
    "print(soup.title.text, type(soup.title))\n"
   ]
  },
  {
   "cell_type": "markdown",
   "id": "7f652ff7",
   "metadata": {},
   "source": [
    "### Ejercicio 2\n",
    "\n",
    "Obtén el texto del h1 principal (header) en una variable main_h1."
   ]
  },
  {
   "cell_type": "code",
   "execution_count": 3,
   "id": "a8d4f652",
   "metadata": {},
   "outputs": [
    {
     "name": "stdout",
     "output_type": "stream",
     "text": [
      "Food & Fun Facts <class 'str'>\n"
     ]
    }
   ],
   "source": [
    "# TODO Ejercicio 2\n",
    "main_h1 = soup.find('header').h1.text\n",
    "print(main_h1, type(main_h1))"
   ]
  },
  {
   "cell_type": "markdown",
   "id": "1f7ed377",
   "metadata": {},
   "source": [
    "### Ejercicio 3\n",
    "\n",
    "Cuenta cuántas secciones (<section>) hay en el documento."
   ]
  },
  {
   "cell_type": "code",
   "execution_count": 4,
   "id": "cc24c84a",
   "metadata": {},
   "outputs": [
    {
     "data": {
      "text/plain": [
       "4"
      ]
     },
     "execution_count": 4,
     "metadata": {},
     "output_type": "execute_result"
    }
   ],
   "source": [
    "# TODO Ejercicio 3\n",
    "section_all = soup.find_all('section')\n",
    "\n",
    "len(section_all)"
   ]
  },
  {
   "cell_type": "markdown",
   "id": "47a5474c",
   "metadata": {},
   "source": [
    "### Ejercicio 4\n",
    "\n",
    "Recoge todos los elementos con class='fun-fact'."
   ]
  },
  {
   "cell_type": "code",
   "execution_count": 21,
   "id": "c4ac13be",
   "metadata": {},
   "outputs": [
    {
     "ename": "AttributeError",
     "evalue": "ResultSet object has no attribute \"contents\". You're probably treating a list of elements like a single element. Did you call find_all() when you meant to call find()?",
     "output_type": "error",
     "traceback": [
      "\u001b[0;31m---------------------------------------------------------------------------\u001b[0m",
      "\u001b[0;31mAttributeError\u001b[0m                            Traceback (most recent call last)",
      "Cell \u001b[0;32mIn[21], line 4\u001b[0m\n\u001b[1;32m      1\u001b[0m \u001b[38;5;66;03m# TODO Ejercicio 4\u001b[39;00m\n\u001b[1;32m      2\u001b[0m fun_fact \u001b[38;5;241m=\u001b[39m soup\u001b[38;5;241m.\u001b[39mfind_all(class_\u001b[38;5;241m=\u001b[39m\u001b[38;5;124m'\u001b[39m\u001b[38;5;124mfun-fact\u001b[39m\u001b[38;5;124m'\u001b[39m)\n\u001b[0;32m----> 4\u001b[0m \u001b[43mfun_fact\u001b[49m\u001b[38;5;241;43m.\u001b[39;49m\u001b[43mcontents\u001b[49m\n\u001b[1;32m      6\u001b[0m \u001b[38;5;66;03m#for i in fun_fact:\u001b[39;00m\n\u001b[1;32m      7\u001b[0m \u001b[38;5;66;03m#    print(str(i.get('class')), i.get('data-categoria'), i.get('data-source'))\u001b[39;00m\n",
      "File \u001b[0;32m~/.envs/IronHack/lib/python3.10/site-packages/bs4/element.py:2902\u001b[0m, in \u001b[0;36mResultSet.__getattr__\u001b[0;34m(self, key)\u001b[0m\n\u001b[1;32m   2900\u001b[0m \u001b[38;5;28;01mdef\u001b[39;00m\u001b[38;5;250m \u001b[39m\u001b[38;5;21m__getattr__\u001b[39m(\u001b[38;5;28mself\u001b[39m, key: \u001b[38;5;28mstr\u001b[39m) \u001b[38;5;241m-\u001b[39m\u001b[38;5;241m>\u001b[39m \u001b[38;5;28;01mNone\u001b[39;00m:\n\u001b[1;32m   2901\u001b[0m \u001b[38;5;250m    \u001b[39m\u001b[38;5;124;03m\"\"\"Raise a helpful exception to explain a common code fix.\"\"\"\u001b[39;00m\n\u001b[0;32m-> 2902\u001b[0m     \u001b[38;5;28;01mraise\u001b[39;00m \u001b[38;5;167;01mAttributeError\u001b[39;00m(\n\u001b[1;32m   2903\u001b[0m         \u001b[38;5;124mf\u001b[39m\u001b[38;5;124m\"\"\"\u001b[39m\u001b[38;5;124mResultSet object has no attribute \u001b[39m\u001b[38;5;124m\"\u001b[39m\u001b[38;5;132;01m{\u001b[39;00mkey\u001b[38;5;132;01m}\u001b[39;00m\u001b[38;5;124m\"\u001b[39m\u001b[38;5;124m. You\u001b[39m\u001b[38;5;124m'\u001b[39m\u001b[38;5;124mre probably treating a list of elements like a single element. Did you call find_all() when you meant to call find()?\u001b[39m\u001b[38;5;124m\"\"\"\u001b[39m\n\u001b[1;32m   2904\u001b[0m     )\n",
      "\u001b[0;31mAttributeError\u001b[0m: ResultSet object has no attribute \"contents\". You're probably treating a list of elements like a single element. Did you call find_all() when you meant to call find()?"
     ]
    }
   ],
   "source": [
    "# TODO Ejercicio 4\n",
    "fun_fact = soup.find_all(class_='fun-fact')\n",
    "\n",
    "fun_fact.contents\n",
    "\n",
    "#for i in fun_fact:\n",
    "#    print(str(i.get('class')), i.get('data-categoria'), i.get('data-source'))\n"
   ]
  },
  {
   "cell_type": "markdown",
   "id": "1fa159e0",
   "metadata": {},
   "source": [
    "### Ejercicio 5\n",
    "\n",
    "Construye un DataFrame df_facts con columnas fact, categoria, source."
   ]
  },
  {
   "cell_type": "code",
   "execution_count": 6,
   "id": "67d8056b",
   "metadata": {},
   "outputs": [
    {
     "data": {
      "text/html": [
       "<div>\n",
       "<style scoped>\n",
       "    .dataframe tbody tr th:only-of-type {\n",
       "        vertical-align: middle;\n",
       "    }\n",
       "\n",
       "    .dataframe tbody tr th {\n",
       "        vertical-align: top;\n",
       "    }\n",
       "\n",
       "    .dataframe thead th {\n",
       "        text-align: right;\n",
       "    }\n",
       "</style>\n",
       "<table border=\"1\" class=\"dataframe\">\n",
       "  <thead>\n",
       "    <tr style=\"text-align: right;\">\n",
       "      <th></th>\n",
       "      <th>fact</th>\n",
       "      <th>categoria</th>\n",
       "      <th>source</th>\n",
       "    </tr>\n",
       "  </thead>\n",
       "  <tbody>\n",
       "  </tbody>\n",
       "</table>\n",
       "</div>"
      ],
      "text/plain": [
       "Empty DataFrame\n",
       "Columns: [fact, categoria, source]\n",
       "Index: []"
      ]
     },
     "execution_count": 6,
     "metadata": {},
     "output_type": "execute_result"
    }
   ],
   "source": [
    "# TODO Ejercicio 5\n",
    "df_facts = pd.DataFrame(columns=['fact', 'categoria', 'source'])\n",
    "\n",
    "type(df_facts)\n",
    "df_facts"
   ]
  },
  {
   "cell_type": "markdown",
   "id": "c6a8db6d",
   "metadata": {},
   "source": [
    "### Ejercicio 6\n",
    "\n",
    "Añade una columna 'n_palabras' a df_facts con el número de palabras."
   ]
  },
  {
   "cell_type": "code",
   "execution_count": 7,
   "id": "b91dc421",
   "metadata": {},
   "outputs": [],
   "source": [
    "# TODO Ejercicio 6\n"
   ]
  },
  {
   "cell_type": "markdown",
   "id": "d08e60a4",
   "metadata": {},
   "source": [
    "### Ejercicio 7\n",
    "\n",
    "Filtra df_facts para quedarte con los que tengan categoría no nula."
   ]
  },
  {
   "cell_type": "code",
   "execution_count": null,
   "id": "2eedcd88",
   "metadata": {},
   "outputs": [],
   "source": [
    "# TODO Ejercicio 7\n"
   ]
  },
  {
   "cell_type": "markdown",
   "id": "9af39bd5",
   "metadata": {},
   "source": [
    "### Ejercicio 8\n",
    "\n",
    "Cuenta cuántos facts hay por categoría."
   ]
  },
  {
   "cell_type": "code",
   "execution_count": 9,
   "id": "a707c464",
   "metadata": {},
   "outputs": [],
   "source": [
    "# TODO Ejercicio 8\n"
   ]
  },
  {
   "cell_type": "markdown",
   "id": "94917f0a",
   "metadata": {},
   "source": [
    "### Ejercicio 9\n",
    "\n",
    "Extrae la tabla de restaurantes a un DataFrame df_restaurantes."
   ]
  },
  {
   "cell_type": "code",
   "execution_count": 38,
   "id": "482a9022",
   "metadata": {},
   "outputs": [
    {
     "name": "stderr",
     "output_type": "stream",
     "text": [
      "/tmp/ipykernel_47743/1584492070.py:3: FutureWarning: Passing literal html to 'read_html' is deprecated and will be removed in a future version. To read from a literal string, wrap it in a 'StringIO' object.\n",
      "  df_restaurantes = pd.read_html(str(tabla_restaurantes))[0]\n"
     ]
    },
    {
     "data": {
      "text/html": [
       "<div>\n",
       "<style scoped>\n",
       "    .dataframe tbody tr th:only-of-type {\n",
       "        vertical-align: middle;\n",
       "    }\n",
       "\n",
       "    .dataframe tbody tr th {\n",
       "        vertical-align: top;\n",
       "    }\n",
       "\n",
       "    .dataframe thead th {\n",
       "        text-align: right;\n",
       "    }\n",
       "</style>\n",
       "<table border=\"1\" class=\"dataframe\">\n",
       "  <thead>\n",
       "    <tr style=\"text-align: right;\">\n",
       "      <th></th>\n",
       "      <th>Nombre</th>\n",
       "      <th>Ciudad</th>\n",
       "      <th>Tipo</th>\n",
       "      <th>Precio (€)</th>\n",
       "    </tr>\n",
       "  </thead>\n",
       "  <tbody>\n",
       "    <tr>\n",
       "      <th>0</th>\n",
       "      <td>La Trattoria</td>\n",
       "      <td>Roma</td>\n",
       "      <td>Italiana</td>\n",
       "      <td>20</td>\n",
       "    </tr>\n",
       "    <tr>\n",
       "      <th>1</th>\n",
       "      <td>Bistro 21</td>\n",
       "      <td>París</td>\n",
       "      <td>Francesa</td>\n",
       "      <td>35</td>\n",
       "    </tr>\n",
       "    <tr>\n",
       "      <th>2</th>\n",
       "      <td>Casa Mexicana</td>\n",
       "      <td>CDMX</td>\n",
       "      <td>Mexicana</td>\n",
       "      <td>12</td>\n",
       "    </tr>\n",
       "    <tr>\n",
       "      <th>3</th>\n",
       "      <td>Sushi Master</td>\n",
       "      <td>Tokio</td>\n",
       "      <td>Japonesa</td>\n",
       "      <td>30</td>\n",
       "    </tr>\n",
       "  </tbody>\n",
       "</table>\n",
       "</div>"
      ],
      "text/plain": [
       "          Nombre Ciudad      Tipo  Precio (€)\n",
       "0   La Trattoria   Roma  Italiana          20\n",
       "1      Bistro 21  París  Francesa          35\n",
       "2  Casa Mexicana   CDMX  Mexicana          12\n",
       "3   Sushi Master  Tokio  Japonesa          30"
      ]
     },
     "execution_count": 38,
     "metadata": {},
     "output_type": "execute_result"
    }
   ],
   "source": [
    "# TODO Ejercicio 9\n",
    "tabla_restaurantes = soup.find(class_=\"tabla-restaurantes\")\n",
    "df_restaurantes = pd.read_html(str(tabla_restaurantes))[0]\n",
    "df_restaurantes"
   ]
  },
  {
   "cell_type": "markdown",
   "id": "a2e68a37",
   "metadata": {},
   "source": [
    "### Ejercicio 10\n",
    "\n",
    "Convierte la columna Precio (€) a numérico."
   ]
  },
  {
   "cell_type": "code",
   "execution_count": 40,
   "id": "5a46ee9c",
   "metadata": {},
   "outputs": [
    {
     "data": {
      "text/plain": [
       "Nombre         object\n",
       "Ciudad         object\n",
       "Tipo           object\n",
       "Precio (€)    float64\n",
       "dtype: object"
      ]
     },
     "execution_count": 40,
     "metadata": {},
     "output_type": "execute_result"
    }
   ],
   "source": [
    "# TODO Ejercicio 10\n",
    "df_restaurantes.dtypes\n",
    "\n",
    "df_restaurantes['Precio (€)'] = df_restaurantes['Precio (€)'].astype(float)\n",
    "df_restaurantes.dtypes"
   ]
  },
  {
   "cell_type": "markdown",
   "id": "43ad68ac",
   "metadata": {},
   "source": [
    "### Ejercicio 11\n",
    "\n",
    "Obtén el restaurante más caro (fila completa)."
   ]
  },
  {
   "cell_type": "code",
   "execution_count": 45,
   "id": "49965eb1",
   "metadata": {},
   "outputs": [
    {
     "data": {
      "text/plain": [
       "<bound method Series.max of 0    20.0\n",
       "1    35.0\n",
       "2    12.0\n",
       "3    30.0\n",
       "Name: Precio (€), dtype: float64>"
      ]
     },
     "execution_count": 45,
     "metadata": {},
     "output_type": "execute_result"
    }
   ],
   "source": [
    "# TODO Ejercicio 11\n",
    "df_restaurantes['Precio (€)'].max"
   ]
  },
  {
   "cell_type": "markdown",
   "id": "e63da267",
   "metadata": {},
   "source": [
    "### Ejercicio 12\n",
    "\n",
    "Extrae todos los enlaces del apartado Recursos a un DataFrame df_links con href, texto, rel."
   ]
  },
  {
   "cell_type": "code",
   "execution_count": 13,
   "id": "f043b626",
   "metadata": {},
   "outputs": [],
   "source": [
    "# TODO Ejercicio 12\n"
   ]
  },
  {
   "cell_type": "markdown",
   "id": "8cbc9e5e",
   "metadata": {},
   "source": [
    "### Ejercicio 13\n",
    "\n",
    "Separa df_links en externos vs internos."
   ]
  },
  {
   "cell_type": "code",
   "execution_count": 14,
   "id": "2a3494d9",
   "metadata": {},
   "outputs": [],
   "source": [
    "# TODO Ejercicio 13\n"
   ]
  },
  {
   "cell_type": "markdown",
   "id": "495cdfe3",
   "metadata": {},
   "source": [
    "### Ejercicio 14\n",
    "\n",
    "Extrae src y alt de la imagen del bloque de restaurantes en un diccionario."
   ]
  },
  {
   "cell_type": "code",
   "execution_count": 15,
   "id": "41caa17e",
   "metadata": {},
   "outputs": [],
   "source": [
    "# TODO Ejercicio 14\n"
   ]
  },
  {
   "cell_type": "markdown",
   "id": "c3072aad",
   "metadata": {},
   "source": [
    "### Ejercicio 15\n",
    "\n",
    "Crea una función limpiar_texto(s) y aplícala a la columna fact de df_facts."
   ]
  },
  {
   "cell_type": "code",
   "execution_count": 16,
   "id": "4a9a0c01",
   "metadata": {},
   "outputs": [],
   "source": [
    "# TODO Ejercicio 15\n"
   ]
  }
 ],
 "metadata": {
  "kernelspec": {
   "display_name": "IronHack",
   "language": "python",
   "name": "python3"
  },
  "language_info": {
   "codemirror_mode": {
    "name": "ipython",
    "version": 3
   },
   "file_extension": ".py",
   "mimetype": "text/x-python",
   "name": "python",
   "nbconvert_exporter": "python",
   "pygments_lexer": "ipython3",
   "version": "3.10.12"
  }
 },
 "nbformat": 4,
 "nbformat_minor": 5
}
