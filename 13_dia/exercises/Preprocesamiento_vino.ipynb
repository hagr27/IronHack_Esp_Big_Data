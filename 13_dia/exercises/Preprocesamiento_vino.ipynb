{
 "cells": [
  {
   "cell_type": "markdown",
   "id": "e20ac082-b87b-484f-a58e-9abfc74cfd87",
   "metadata": {},
   "source": [
    "### Librerias"
   ]
  },
  {
   "cell_type": "code",
   "execution_count": 35,
   "id": "587c4496-12c3-43df-977e-89a52d3d8cb7",
   "metadata": {},
   "outputs": [],
   "source": [
    "# LIBRERIAS\n",
    "import pandas as pd\n",
    "import numpy as np\n",
    "import seaborn as sns\n",
    "import matplotlib.pyplot as plt\n",
    "from sklearn.preprocessing import MinMaxScaler, StandardScaler, OneHotEncoder"
   ]
  },
  {
   "cell_type": "markdown",
   "id": "a08997a9-b746-4e83-ba9b-2536175cad87",
   "metadata": {},
   "source": [
    "### Cargar datos"
   ]
  },
  {
   "cell_type": "code",
   "execution_count": 36,
   "id": "075de99a-739d-42b1-b885-b9ca69914a44",
   "metadata": {},
   "outputs": [
    {
     "data": {
      "text/html": [
       "<div>\n",
       "<style scoped>\n",
       "    .dataframe tbody tr th:only-of-type {\n",
       "        vertical-align: middle;\n",
       "    }\n",
       "\n",
       "    .dataframe tbody tr th {\n",
       "        vertical-align: top;\n",
       "    }\n",
       "\n",
       "    .dataframe thead th {\n",
       "        text-align: right;\n",
       "    }\n",
       "</style>\n",
       "<table border=\"1\" class=\"dataframe\">\n",
       "  <thead>\n",
       "    <tr style=\"text-align: right;\">\n",
       "      <th></th>\n",
       "      <th>fixed acidity</th>\n",
       "      <th>volatile acidity</th>\n",
       "      <th>citric acid</th>\n",
       "      <th>residual sugar</th>\n",
       "      <th>chlorides</th>\n",
       "      <th>free sulfur dioxide</th>\n",
       "      <th>total sulfur dioxide</th>\n",
       "      <th>density</th>\n",
       "      <th>pH</th>\n",
       "      <th>sulphates</th>\n",
       "      <th>alcohol</th>\n",
       "      <th>quality</th>\n",
       "    </tr>\n",
       "  </thead>\n",
       "  <tbody>\n",
       "    <tr>\n",
       "      <th>0</th>\n",
       "      <td>7.4</td>\n",
       "      <td>0.70</td>\n",
       "      <td>0.00</td>\n",
       "      <td>1.9</td>\n",
       "      <td>0.076</td>\n",
       "      <td>11.0</td>\n",
       "      <td>34.0</td>\n",
       "      <td>0.9978</td>\n",
       "      <td>3.51</td>\n",
       "      <td>0.56</td>\n",
       "      <td>9.4</td>\n",
       "      <td>5</td>\n",
       "    </tr>\n",
       "    <tr>\n",
       "      <th>1</th>\n",
       "      <td>7.8</td>\n",
       "      <td>0.88</td>\n",
       "      <td>0.00</td>\n",
       "      <td>2.6</td>\n",
       "      <td>0.098</td>\n",
       "      <td>25.0</td>\n",
       "      <td>67.0</td>\n",
       "      <td>0.9968</td>\n",
       "      <td>3.20</td>\n",
       "      <td>0.68</td>\n",
       "      <td>9.8</td>\n",
       "      <td>5</td>\n",
       "    </tr>\n",
       "    <tr>\n",
       "      <th>2</th>\n",
       "      <td>7.8</td>\n",
       "      <td>0.76</td>\n",
       "      <td>0.04</td>\n",
       "      <td>2.3</td>\n",
       "      <td>0.092</td>\n",
       "      <td>15.0</td>\n",
       "      <td>54.0</td>\n",
       "      <td>0.9970</td>\n",
       "      <td>3.26</td>\n",
       "      <td>0.65</td>\n",
       "      <td>9.8</td>\n",
       "      <td>5</td>\n",
       "    </tr>\n",
       "    <tr>\n",
       "      <th>3</th>\n",
       "      <td>11.2</td>\n",
       "      <td>0.28</td>\n",
       "      <td>0.56</td>\n",
       "      <td>1.9</td>\n",
       "      <td>0.075</td>\n",
       "      <td>17.0</td>\n",
       "      <td>60.0</td>\n",
       "      <td>0.9980</td>\n",
       "      <td>3.16</td>\n",
       "      <td>0.58</td>\n",
       "      <td>9.8</td>\n",
       "      <td>6</td>\n",
       "    </tr>\n",
       "    <tr>\n",
       "      <th>4</th>\n",
       "      <td>7.4</td>\n",
       "      <td>0.70</td>\n",
       "      <td>0.00</td>\n",
       "      <td>1.9</td>\n",
       "      <td>0.076</td>\n",
       "      <td>11.0</td>\n",
       "      <td>34.0</td>\n",
       "      <td>0.9978</td>\n",
       "      <td>3.51</td>\n",
       "      <td>0.56</td>\n",
       "      <td>9.4</td>\n",
       "      <td>5</td>\n",
       "    </tr>\n",
       "  </tbody>\n",
       "</table>\n",
       "</div>"
      ],
      "text/plain": [
       "   fixed acidity  volatile acidity  citric acid  residual sugar  chlorides  \\\n",
       "0            7.4              0.70         0.00             1.9      0.076   \n",
       "1            7.8              0.88         0.00             2.6      0.098   \n",
       "2            7.8              0.76         0.04             2.3      0.092   \n",
       "3           11.2              0.28         0.56             1.9      0.075   \n",
       "4            7.4              0.70         0.00             1.9      0.076   \n",
       "\n",
       "   free sulfur dioxide  total sulfur dioxide  density    pH  sulphates  \\\n",
       "0                 11.0                  34.0   0.9978  3.51       0.56   \n",
       "1                 25.0                  67.0   0.9968  3.20       0.68   \n",
       "2                 15.0                  54.0   0.9970  3.26       0.65   \n",
       "3                 17.0                  60.0   0.9980  3.16       0.58   \n",
       "4                 11.0                  34.0   0.9978  3.51       0.56   \n",
       "\n",
       "   alcohol  quality  \n",
       "0      9.4        5  \n",
       "1      9.8        5  \n",
       "2      9.8        5  \n",
       "3      9.8        6  \n",
       "4      9.4        5  "
      ]
     },
     "execution_count": 36,
     "metadata": {},
     "output_type": "execute_result"
    }
   ],
   "source": [
    "# 1. Cargar el dataset de calidad del vino\n",
    "url = \"https://archive.ics.uci.edu/ml/machine-learning-databases/wine-quality/winequality-red.csv\"\n",
    "df = pd.read_csv(url, sep=';')\n",
    "df.head()"
   ]
  },
  {
   "cell_type": "markdown",
   "id": "3fc50012-0dfe-4fb8-9a93-199491196a16",
   "metadata": {},
   "source": [
    "### Exploración inicial"
   ]
  },
  {
   "cell_type": "code",
   "execution_count": 37,
   "id": "2afbf14a-bb44-4727-bf62-0ad06182fb0d",
   "metadata": {},
   "outputs": [
    {
     "name": "stdout",
     "output_type": "stream",
     "text": [
      "1.Filas:    1599\n",
      "2.Columnas: 12\n"
     ]
    }
   ],
   "source": [
    "# Tamaño del DataFrame\n",
    "print(\"1.Filas:   \", df.shape[0])\n",
    "print(\"2.Columnas:\", df.shape[1])"
   ]
  },
  {
   "cell_type": "code",
   "execution_count": 80,
   "id": "bb681c89",
   "metadata": {},
   "outputs": [
    {
     "name": "stdout",
     "output_type": "stream",
     "text": [
      "1.Tamaño:     19188\n",
      "2.Nulos:      0\n",
      "3.No Nulos:   19188\n"
     ]
    }
   ],
   "source": [
    "# Conteo de valores\n",
    "print(\"1.Tamaño:    \", df.size)\n",
    "print(\"2.Nulos:     \", df.isna().sum().sum())\n",
    "print(\"3.No Nulos:  \", df.size - df.isna().sum().sum())"
   ]
  },
  {
   "cell_type": "code",
   "execution_count": 39,
   "id": "2807cf0c-664b-4285-a958-59c3f411c633",
   "metadata": {},
   "outputs": [
    {
     "data": {
      "text/plain": [
       "Index(['fixed acidity', 'volatile acidity', 'citric acid', 'residual sugar',\n",
       "       'chlorides', 'free sulfur dioxide', 'total sulfur dioxide', 'density',\n",
       "       'pH', 'sulphates', 'alcohol', 'quality'],\n",
       "      dtype='object')"
      ]
     },
     "execution_count": 39,
     "metadata": {},
     "output_type": "execute_result"
    }
   ],
   "source": [
    "df.columns"
   ]
  },
  {
   "cell_type": "code",
   "execution_count": 40,
   "id": "60157407-2a1b-4ef4-b617-fd240eca59cb",
   "metadata": {},
   "outputs": [],
   "source": [
    "### BUENAS PRACTICAS!!! No queremos espacios en Python!\n",
    "df.columns = df.columns.str.replace(' ', '_')"
   ]
  },
  {
   "cell_type": "code",
   "execution_count": null,
   "id": "fe1cebaf-4d29-4327-883f-9990e3353a9d",
   "metadata": {},
   "outputs": [
    {
     "data": {
      "text/html": [
       "<div>\n",
       "<style scoped>\n",
       "    .dataframe tbody tr th:only-of-type {\n",
       "        vertical-align: middle;\n",
       "    }\n",
       "\n",
       "    .dataframe tbody tr th {\n",
       "        vertical-align: top;\n",
       "    }\n",
       "\n",
       "    .dataframe thead th {\n",
       "        text-align: right;\n",
       "    }\n",
       "</style>\n",
       "<table border=\"1\" class=\"dataframe\">\n",
       "  <thead>\n",
       "    <tr style=\"text-align: right;\">\n",
       "      <th></th>\n",
       "      <th>fixed_acidity</th>\n",
       "      <th>volatile_acidity</th>\n",
       "      <th>citric_acid</th>\n",
       "      <th>residual_sugar</th>\n",
       "      <th>chlorides</th>\n",
       "      <th>free_sulfur_dioxide</th>\n",
       "      <th>total_sulfur_dioxide</th>\n",
       "      <th>density</th>\n",
       "      <th>pH</th>\n",
       "      <th>sulphates</th>\n",
       "      <th>alcohol</th>\n",
       "      <th>quality</th>\n",
       "    </tr>\n",
       "  </thead>\n",
       "  <tbody>\n",
       "    <tr>\n",
       "      <th>count</th>\n",
       "      <td>1599.000000</td>\n",
       "      <td>1599.000000</td>\n",
       "      <td>1599.000000</td>\n",
       "      <td>1599.000000</td>\n",
       "      <td>1599.000000</td>\n",
       "      <td>1599.000000</td>\n",
       "      <td>1599.000000</td>\n",
       "      <td>1599.000000</td>\n",
       "      <td>1599.000000</td>\n",
       "      <td>1599.000000</td>\n",
       "      <td>1599.000000</td>\n",
       "      <td>1599.000000</td>\n",
       "    </tr>\n",
       "    <tr>\n",
       "      <th>mean</th>\n",
       "      <td>8.319637</td>\n",
       "      <td>0.527821</td>\n",
       "      <td>0.270976</td>\n",
       "      <td>2.538806</td>\n",
       "      <td>0.087467</td>\n",
       "      <td>15.874922</td>\n",
       "      <td>46.467792</td>\n",
       "      <td>0.996747</td>\n",
       "      <td>3.311113</td>\n",
       "      <td>0.658149</td>\n",
       "      <td>10.422983</td>\n",
       "      <td>5.636023</td>\n",
       "    </tr>\n",
       "    <tr>\n",
       "      <th>std</th>\n",
       "      <td>1.741096</td>\n",
       "      <td>0.179060</td>\n",
       "      <td>0.194801</td>\n",
       "      <td>1.409928</td>\n",
       "      <td>0.047065</td>\n",
       "      <td>10.460157</td>\n",
       "      <td>32.895324</td>\n",
       "      <td>0.001887</td>\n",
       "      <td>0.154386</td>\n",
       "      <td>0.169507</td>\n",
       "      <td>1.065668</td>\n",
       "      <td>0.807569</td>\n",
       "    </tr>\n",
       "    <tr>\n",
       "      <th>min</th>\n",
       "      <td>4.600000</td>\n",
       "      <td>0.120000</td>\n",
       "      <td>0.000000</td>\n",
       "      <td>0.900000</td>\n",
       "      <td>0.012000</td>\n",
       "      <td>1.000000</td>\n",
       "      <td>6.000000</td>\n",
       "      <td>0.990070</td>\n",
       "      <td>2.740000</td>\n",
       "      <td>0.330000</td>\n",
       "      <td>8.400000</td>\n",
       "      <td>3.000000</td>\n",
       "    </tr>\n",
       "    <tr>\n",
       "      <th>25%</th>\n",
       "      <td>7.100000</td>\n",
       "      <td>0.390000</td>\n",
       "      <td>0.090000</td>\n",
       "      <td>1.900000</td>\n",
       "      <td>0.070000</td>\n",
       "      <td>7.000000</td>\n",
       "      <td>22.000000</td>\n",
       "      <td>0.995600</td>\n",
       "      <td>3.210000</td>\n",
       "      <td>0.550000</td>\n",
       "      <td>9.500000</td>\n",
       "      <td>5.000000</td>\n",
       "    </tr>\n",
       "    <tr>\n",
       "      <th>50%</th>\n",
       "      <td>7.900000</td>\n",
       "      <td>0.520000</td>\n",
       "      <td>0.260000</td>\n",
       "      <td>2.200000</td>\n",
       "      <td>0.079000</td>\n",
       "      <td>14.000000</td>\n",
       "      <td>38.000000</td>\n",
       "      <td>0.996750</td>\n",
       "      <td>3.310000</td>\n",
       "      <td>0.620000</td>\n",
       "      <td>10.200000</td>\n",
       "      <td>6.000000</td>\n",
       "    </tr>\n",
       "    <tr>\n",
       "      <th>75%</th>\n",
       "      <td>9.200000</td>\n",
       "      <td>0.640000</td>\n",
       "      <td>0.420000</td>\n",
       "      <td>2.600000</td>\n",
       "      <td>0.090000</td>\n",
       "      <td>21.000000</td>\n",
       "      <td>62.000000</td>\n",
       "      <td>0.997835</td>\n",
       "      <td>3.400000</td>\n",
       "      <td>0.730000</td>\n",
       "      <td>11.100000</td>\n",
       "      <td>6.000000</td>\n",
       "    </tr>\n",
       "    <tr>\n",
       "      <th>max</th>\n",
       "      <td>15.900000</td>\n",
       "      <td>1.580000</td>\n",
       "      <td>1.000000</td>\n",
       "      <td>15.500000</td>\n",
       "      <td>0.611000</td>\n",
       "      <td>72.000000</td>\n",
       "      <td>289.000000</td>\n",
       "      <td>1.003690</td>\n",
       "      <td>4.010000</td>\n",
       "      <td>2.000000</td>\n",
       "      <td>14.900000</td>\n",
       "      <td>8.000000</td>\n",
       "    </tr>\n",
       "  </tbody>\n",
       "</table>\n",
       "</div>"
      ],
      "text/plain": [
       "       fixed_acidity  volatile_acidity  citric_acid  residual_sugar  \\\n",
       "count    1599.000000       1599.000000  1599.000000     1599.000000   \n",
       "mean        8.319637          0.527821     0.270976        2.538806   \n",
       "std         1.741096          0.179060     0.194801        1.409928   \n",
       "min         4.600000          0.120000     0.000000        0.900000   \n",
       "25%         7.100000          0.390000     0.090000        1.900000   \n",
       "50%         7.900000          0.520000     0.260000        2.200000   \n",
       "75%         9.200000          0.640000     0.420000        2.600000   \n",
       "max        15.900000          1.580000     1.000000       15.500000   \n",
       "\n",
       "         chlorides  free_sulfur_dioxide  total_sulfur_dioxide      density  \\\n",
       "count  1599.000000          1599.000000           1599.000000  1599.000000   \n",
       "mean      0.087467            15.874922             46.467792     0.996747   \n",
       "std       0.047065            10.460157             32.895324     0.001887   \n",
       "min       0.012000             1.000000              6.000000     0.990070   \n",
       "25%       0.070000             7.000000             22.000000     0.995600   \n",
       "50%       0.079000            14.000000             38.000000     0.996750   \n",
       "75%       0.090000            21.000000             62.000000     0.997835   \n",
       "max       0.611000            72.000000            289.000000     1.003690   \n",
       "\n",
       "                pH    sulphates      alcohol      quality  \n",
       "count  1599.000000  1599.000000  1599.000000  1599.000000  \n",
       "mean      3.311113     0.658149    10.422983     5.636023  \n",
       "std       0.154386     0.169507     1.065668     0.807569  \n",
       "min       2.740000     0.330000     8.400000     3.000000  \n",
       "25%       3.210000     0.550000     9.500000     5.000000  \n",
       "50%       3.310000     0.620000    10.200000     6.000000  \n",
       "75%       3.400000     0.730000    11.100000     6.000000  \n",
       "max       4.010000     2.000000    14.900000     8.000000  "
      ]
     },
     "execution_count": 58,
     "metadata": {},
     "output_type": "execute_result"
    }
   ],
   "source": [
    "df.describe()"
   ]
  },
  {
   "cell_type": "code",
   "execution_count": null,
   "id": "8beb8d7d",
   "metadata": {},
   "outputs": [
    {
     "data": {
      "text/plain": [
       "<Axes: xlabel='free_sulfur_dioxide', ylabel='Count'>"
      ]
     },
     "execution_count": 57,
     "metadata": {},
     "output_type": "execute_result"
    },
    {
     "data": {
      "image/png": "[encoded data removed]",
      "text/plain": [
       "<Figure size 640x480 with 2 Axes>"
      ]
     },
     "metadata": {},
     "output_type": "display_data"
    }
   ],
   "source": [
    "plt.subplot(1,2,1)\n",
    "sns.histplot(df.total_sulfur_dioxide)\n",
    "\n",
    "plt.subplot(1,2,2)\n",
    "sns.histplot(df.free_sulfur_dioxide)"
   ]
  },
  {
   "cell_type": "code",
   "execution_count": null,
   "id": "94988272-19a8-4605-ac73-68f70e95e1db",
   "metadata": {},
   "outputs": [
    {
     "data": {
      "text/plain": [
       "np.int64(0)"
      ]
     },
     "execution_count": 83,
     "metadata": {},
     "output_type": "execute_result"
    }
   ],
   "source": [
    "# 1 Duplicados\n",
    "df.duplicated().sum()"
   ]
  },
  {
   "cell_type": "code",
   "execution_count": 96,
   "id": "04923cbd",
   "metadata": {},
   "outputs": [
    {
     "name": "stdout",
     "output_type": "stream",
     "text": [
      "Duplicados después de limpieza: 0\n"
     ]
    }
   ],
   "source": [
    "# Elimina duplicados\n",
    "df = df.drop_duplicates()\n",
    "\n",
    "# Verificamos de nuevo\n",
    "print(\"Duplicados después de limpieza:\", df.duplicated().sum())"
   ]
  },
  {
   "cell_type": "code",
   "execution_count": 97,
   "id": "f489a4ab",
   "metadata": {},
   "outputs": [
    {
     "name": "stdout",
     "output_type": "stream",
     "text": [
      "\n",
      "3) Variables con más variabilidad:\n",
      " total_sulfur_dioxide    33.408946\n",
      "free_sulfur_dioxide     10.447270\n",
      "Name: std, dtype: float64\n"
     ]
    }
   ],
   "source": [
    "# 3. Mayor variabilidad\n",
    "variabilidad = df.describe().loc['std'].sort_values(ascending=False).head(2)\n",
    "print(\"\\n3) Variables con más variabilidad:\\n\", variabilidad)"
   ]
  },
  {
   "cell_type": "code",
   "execution_count": 98,
   "id": "e946aa05",
   "metadata": {},
   "outputs": [
    {
     "name": "stdout",
     "output_type": "stream",
     "text": [
      "\n",
      "4) Alcohol -> Media: 10.43 Mediana: 10.2\n"
     ]
    }
   ],
   "source": [
    "# 4. Media y mediana de alcohol\n",
    "mean_alcohol = df[\"alcohol\"].mean()\n",
    "median_alcohol = df[\"alcohol\"].median()\n",
    "print(\"\\n4) Alcohol -> Media:\", round(mean_alcohol, 2), \"Mediana:\", round(median_alcohol, 2))"
   ]
  },
  {
   "cell_type": "markdown",
   "id": "cd721e9f-7682-4e44-9a6f-c2894f4638cb",
   "metadata": {},
   "source": [
    "#### Chequear Outliers"
   ]
  },
  {
   "cell_type": "code",
   "execution_count": 100,
   "id": "461e945d-0802-4393-9e27-4540b5a0ec66",
   "metadata": {
    "scrolled": true
   },
   "outputs": [
    {
     "data": {
      "image/png": "[encoded data removed]",
      "text/plain": [
       "<Figure size 1000x500 with 1 Axes>"
      ]
     },
     "metadata": {},
     "output_type": "display_data"
    }
   ],
   "source": [
    "# 4. Aplicar transformaciones a las variables numéricas\n",
    "# 4.1. Chequeo de outliers con boxplot\n",
    "plt.figure(figsize=(10, 5))\n",
    "sns.boxplot(data=df.select_dtypes(include=[\"number\"]))\n",
    "plt.xticks(rotation=90) #Para que se vean los titulos\n",
    "plt.title(\"Boxplot de variables numéricas para detectar outliers\")\n",
    "plt.show()"
   ]
  },
  {
   "cell_type": "code",
   "execution_count": 101,
   "id": "800a57d4-4185-460f-9ff3-41f7500c2e49",
   "metadata": {},
   "outputs": [
    {
     "data": {
      "image/png": "[encoded data removed]",
      "text/plain": [
       "<Figure size 1000x500 with 1 Axes>"
      ]
     },
     "metadata": {},
     "output_type": "display_data"
    }
   ],
   "source": [
    "# Podéis hacerlo de una sola variable\n",
    "plt.figure(figsize=(10, 5))\n",
    "sns.boxplot(data=df[[\"residual_sugar\"]])\n",
    "plt.show()"
   ]
  },
  {
   "cell_type": "markdown",
   "id": "3413e2e2-c986-4095-a0c9-a43a23e156de",
   "metadata": {},
   "source": [
    "#### Quitar outliers"
   ]
  },
  {
   "cell_type": "code",
   "execution_count": 106,
   "id": "5feab902",
   "metadata": {},
   "outputs": [
    {
     "name": "stdout",
     "output_type": "stream",
     "text": [
      "P1: 1.4  | P99: 8.3\n",
      "Total de outliers en residual sugar: 25\n",
      "Tamaño original: (1359, 12)\n",
      "Tamaño sin outliers (1%-99%): (1334, 12)\n"
     ]
    },
    {
     "data": {
      "image/png": "[encoded data removed]",
      "text/plain": [
       "<Figure size 1200x500 with 2 Axes>"
      ]
     },
     "metadata": {},
     "output_type": "display_data"
    }
   ],
   "source": [
    "# 5 Outliers en residual sugar (1% y 99%)\n",
    "import matplotlib.pyplot as plt\n",
    "import seaborn as sns\n",
    "\n",
    "# Calcular percentiles 1% y 99%\n",
    "q1 = df[\"residual_sugar\"].quantile(0.01)\n",
    "q99 = df[\"residual_sugar\"].quantile(0.99)\n",
    "\n",
    "print(\"P1:\", q1, \" | P99:\", q99)\n",
    "\n",
    "# Filtrar outliers (los extremos)\n",
    "outliers = df[(df[\"residual_sugar\"] < q1) | (df[\"residual_sugar\"] > q99)]\n",
    "print(\"Total de outliers en residual sugar:\", outliers[\"residual_sugar\"].count())\n",
    "\n",
    "# Crear df_clean2 SIN outliers\n",
    "df_clean2 = df[(df[\"residual_sugar\"] >= q1) & (df[\"residual_sugar\"] <= q99)]\n",
    "\n",
    "print(\"Tamaño original:\", df.shape)\n",
    "print(\"Tamaño sin outliers (1%-99%):\", df_clean2.shape)\n",
    "\n",
    "# Visualizar comparación con boxplots\n",
    "plt.figure(figsize=(12,5))\n",
    "\n",
    "plt.subplot(1,2,1)\n",
    "sns.boxplot(data=df[[\"residual_sugar\"]])\n",
    "plt.title(\"Con outliers\")\n",
    "\n",
    "plt.subplot(1,2,2)\n",
    "sns.boxplot(data=df_clean2[[\"residual_sugar\"]])\n",
    "plt.title(\"Sin outliers (1%-99%)\")\n",
    "\n",
    "plt.show()\n",
    "df = df_clean2"
   ]
  },
  {
   "cell_type": "code",
   "execution_count": 109,
   "id": "57715dab",
   "metadata": {},
   "outputs": [
    {
     "name": "stdout",
     "output_type": "stream",
     "text": [
      "\n",
      "6) Distribución por grupos de calidad:\n",
      " quality_group\n",
      "medio    1093\n",
      "alto      181\n",
      "bajo       60\n",
      "Name: count, dtype: int64\n"
     ]
    },
    {
     "name": "stderr",
     "output_type": "stream",
     "text": [
      "/tmp/ipykernel_3845/327547346.py:2: SettingWithCopyWarning: \n",
      "A value is trying to be set on a copy of a slice from a DataFrame.\n",
      "Try using .loc[row_indexer,col_indexer] = value instead\n",
      "\n",
      "See the caveats in the documentation: https://pandas.pydata.org/pandas-docs/stable/user_guide/indexing.html#returning-a-view-versus-a-copy\n",
      "  df[\"quality_group\"] = pd.cut(df[\"quality\"], bins=[0,4,6,10],\n"
     ]
    }
   ],
   "source": [
    "# 6. Categorías de calidad\n",
    "df[\"quality_group\"] = pd.cut(df[\"quality\"], bins=[0,4,6,10],\n",
    "                             labels=[\"bajo\",\"medio\",\"alto\"])\n",
    "print(\"\\n6) Distribución por grupos de calidad:\\n\", df[\"quality_group\"].value_counts())"
   ]
  },
  {
   "cell_type": "code",
   "execution_count": 110,
   "id": "f3f06e7e",
   "metadata": {},
   "outputs": [
    {
     "name": "stdout",
     "output_type": "stream",
     "text": [
      "\n",
      "7) Correlación alcohol-quality: 0.483\n"
     ]
    }
   ],
   "source": [
    "# 7. Correlación alcohol - quality\n",
    "corr_alcohol_quality = df[\"alcohol\"].corr(df[\"quality\"])\n",
    "print(\"\\n7) Correlación alcohol-quality:\", round(corr_alcohol_quality, 3))"
   ]
  },
  {
   "cell_type": "code",
   "execution_count": 111,
   "id": "2f2cea21",
   "metadata": {},
   "outputs": [
    {
     "name": "stdout",
     "output_type": "stream",
     "text": [
      "\n",
      "8) Correlación density-alcohol: -0.495\n",
      "Interpretación: densidad y alcohol están inversamente relacionados (a más alcohol, menor densidad).\n"
     ]
    }
   ],
   "source": [
    "# 8. Correlación density - alcohol\n",
    "corr_density_alcohol = df[\"density\"].corr(df[\"alcohol\"])\n",
    "print(\"\\n8) Correlación density-alcohol:\", round(corr_density_alcohol, 3))\n",
    "print(\"Interpretación: densidad y alcohol están inversamente relacionados (a más alcohol, menor densidad).\")\n"
   ]
  },
  {
   "cell_type": "code",
   "execution_count": 114,
   "id": "cbe1ff50",
   "metadata": {},
   "outputs": [
    {
     "name": "stdout",
     "output_type": "stream",
     "text": [
      "\n",
      "9) Vinos con mayor alcohol_sugar_ratio:\n",
      "       alcohol  residual_sugar  alcohol_sugar_ratio\n",
      "390      12.9             1.4             9.214286\n",
      "1122     12.3             1.4             8.785714\n",
      "1270     14.0             1.6             8.750000\n",
      "1298     12.2             1.4             8.714286\n",
      "354      11.9             1.4             8.500000\n"
     ]
    },
    {
     "name": "stderr",
     "output_type": "stream",
     "text": [
      "/tmp/ipykernel_3845/130723282.py:2: SettingWithCopyWarning: \n",
      "A value is trying to be set on a copy of a slice from a DataFrame.\n",
      "Try using .loc[row_indexer,col_indexer] = value instead\n",
      "\n",
      "See the caveats in the documentation: https://pandas.pydata.org/pandas-docs/stable/user_guide/indexing.html#returning-a-view-versus-a-copy\n",
      "  df[\"alcohol_sugar_ratio\"] = df[\"alcohol\"] / df[\"residual_sugar\"]\n"
     ]
    }
   ],
   "source": [
    "# 9. Nueva columna ratio\n",
    "df[\"alcohol_sugar_ratio\"] = df[\"alcohol\"] / df[\"residual_sugar\"]\n",
    "top_ratio = df.sort_values(\"alcohol_sugar_ratio\", ascending=False).head(5)\n",
    "print(\"\\n9) Vinos con mayor alcohol_sugar_ratio:\\n\", top_ratio[[\"alcohol\",\"residual_sugar\",\"alcohol_sugar_ratio\"]])\n"
   ]
  },
  {
   "cell_type": "code",
   "execution_count": 115,
   "id": "57eb469f",
   "metadata": {},
   "outputs": [
    {
     "name": "stdout",
     "output_type": "stream",
     "text": [
      "\n",
      "10) Variables más correlacionadas con quality:\n",
      " quality             1.000000\n",
      "alcohol             0.482926\n",
      "volatile_acidity    0.400042\n",
      "Name: quality, dtype: float64\n"
     ]
    }
   ],
   "source": [
    "# 10. Variable más importante para predecir calidad (correlación más alta con quality)\n",
    "correlaciones = df.corr(numeric_only=True)[\"quality\"].abs().sort_values(ascending=False)\n",
    "print(\"\\n10) Variables más correlacionadas con quality:\\n\", correlaciones.head(3))"
   ]
  },
  {
   "cell_type": "code",
   "execution_count": 116,
   "id": "d7dec188",
   "metadata": {},
   "outputs": [
    {
     "name": "stdout",
     "output_type": "stream",
     "text": [
      "\n",
      "11) Proporción pH < 3.2: 21.96 %\n"
     ]
    }
   ],
   "source": [
    "# 11. Proporción de vinos con pH < 3.2\n",
    "prop_ph = (df[\"pH\"] < 3.2).mean()\n",
    "print(\"\\n11) Proporción pH < 3.2:\", round(prop_ph*100, 2), \"%\")"
   ]
  },
  {
   "cell_type": "code",
   "execution_count": 119,
   "id": "118363f4",
   "metadata": {},
   "outputs": [
    {
     "name": "stdout",
     "output_type": "stream",
     "text": [
      "\n",
      "12) Fixed acidity fuera de 5-15: 7\n",
      "Sugerencia: revisar si son errores o valores extremos válidos; podrían eliminarse si afectan el modelo.\n"
     ]
    }
   ],
   "source": [
    "# 12. Fixed acidity fuera de rango\n",
    "outliers_acidity = df[(df[\"fixed_acidity\"] < 5) | (df[\"fixed_acidity\"] > 15)]\n",
    "print(\"\\n12) Fixed acidity fuera de 5-15:\", outliers_acidity.shape[0])\n",
    "print(\"Sugerencia: revisar si son errores o valores extremos válidos; podrían eliminarse si afectan el modelo.\")\n"
   ]
  },
  {
   "cell_type": "code",
   "execution_count": 120,
   "id": "db127433",
   "metadata": {},
   "outputs": [
    {
     "name": "stdout",
     "output_type": "stream",
     "text": [
      "\n",
      "13) Citric acid imputación -> Usaría la mediana (menos sensible a outliers que la media).\n"
     ]
    }
   ],
   "source": [
    "# 13. Estrategia de imputación citric acid\n",
    "print(\"\\n13) Citric acid imputación -> Usaría la mediana (menos sensible a outliers que la media).\")\n"
   ]
  },
  {
   "cell_type": "code",
   "execution_count": 121,
   "id": "22d944c1",
   "metadata": {},
   "outputs": [
    {
     "name": "stdout",
     "output_type": "stream",
     "text": [
      "\n",
      "14) Proporción vinos buenos: 13.57 %\n"
     ]
    },
    {
     "name": "stderr",
     "output_type": "stream",
     "text": [
      "/tmp/ipykernel_3845/3667224707.py:2: SettingWithCopyWarning: \n",
      "A value is trying to be set on a copy of a slice from a DataFrame.\n",
      "Try using .loc[row_indexer,col_indexer] = value instead\n",
      "\n",
      "See the caveats in the documentation: https://pandas.pydata.org/pandas-docs/stable/user_guide/indexing.html#returning-a-view-versus-a-copy\n",
      "  df[\"quality_bin\"] = df[\"quality\"].apply(lambda x: \"bueno\" if x>=7 else \"no bueno\")\n"
     ]
    }
   ],
   "source": [
    "# 14. Quality binaria (bueno/no bueno)\n",
    "df[\"quality_bin\"] = df[\"quality\"].apply(lambda x: \"bueno\" if x>=7 else \"no bueno\")\n",
    "prop_buenos = (df[\"quality_bin\"]==\"bueno\").mean()\n",
    "print(\"\\n14) Proporción vinos buenos:\", round(prop_buenos*100, 2), \"%\")"
   ]
  },
  {
   "cell_type": "code",
   "execution_count": 122,
   "id": "0a56ea66",
   "metadata": {},
   "outputs": [
    {
     "name": "stdout",
     "output_type": "stream",
     "text": [
      "\n",
      "15) Sugerencias:\n",
      "- Descartar: 'residual sugar' si hay demasiados outliers sin relación fuerte con quality.\n",
      "- Transformar: 'density', 'alcohol_sugar_ratio', log-transform a 'residual sugar'.\n",
      "- Escalar variables con diferentes escalas (StandardScaler/MinMaxScaler).\n"
     ]
    }
   ],
   "source": [
    "# 15. Variables a descartar o transformar\n",
    "print(\"\\n15) Sugerencias:\")\n",
    "print(\"- Descartar: 'residual sugar' si hay demasiados outliers sin relación fuerte con quality.\")\n",
    "print(\"- Transformar: 'density', 'alcohol_sugar_ratio', log-transform a 'residual sugar'.\")\n",
    "print(\"- Escalar variables con diferentes escalas (StandardScaler/MinMaxScaler).\")"
   ]
  },
  {
   "cell_type": "code",
   "execution_count": null,
   "id": "d7fc0f55",
   "metadata": {},
   "outputs": [],
   "source": []
  },
  {
   "cell_type": "code",
   "execution_count": null,
   "id": "2b95831b",
   "metadata": {},
   "outputs": [],
   "source": []
  },
  {
   "cell_type": "code",
   "execution_count": null,
   "id": "35a29c6b",
   "metadata": {},
   "outputs": [],
   "source": []
  },
  {
   "cell_type": "markdown",
   "id": "97553dbe-a60d-4607-8897-344cbfbafb91",
   "metadata": {},
   "source": [
    "### X-y SPLIT"
   ]
  },
  {
   "cell_type": "code",
   "execution_count": 46,
   "id": "45a90e9b-af4a-4813-ab2a-355b0b339e90",
   "metadata": {},
   "outputs": [],
   "source": [
    "# 2. Separar la variable objetivo ('quality') y las variables predictoras (X-y SPLIT)\n",
    "\n",
    "\n"
   ]
  },
  {
   "cell_type": "markdown",
   "id": "a3ed9253-ba9e-48a8-9db6-396f4eb83431",
   "metadata": {},
   "source": [
    "### Separar numéricas y categóricas"
   ]
  },
  {
   "cell_type": "code",
   "execution_count": 47,
   "id": "2f45622f-5ff4-433b-bea2-0d963e04a12f",
   "metadata": {},
   "outputs": [
    {
     "ename": "NameError",
     "evalue": "name 'X' is not defined",
     "output_type": "error",
     "traceback": [
      "\u001b[0;31m---------------------------------------------------------------------------\u001b[0m",
      "\u001b[0;31mNameError\u001b[0m                                 Traceback (most recent call last)",
      "Cell \u001b[0;32mIn[47], line 2\u001b[0m\n\u001b[1;32m      1\u001b[0m \u001b[38;5;66;03m# 3. Separar variables numéricas y categóricas\u001b[39;00m\n\u001b[0;32m----> 2\u001b[0m numericas \u001b[38;5;241m=\u001b[39m \u001b[43mX\u001b[49m\u001b[38;5;241m.\u001b[39mselect_dtypes(include\u001b[38;5;241m=\u001b[39m[\u001b[38;5;124m\"\u001b[39m\u001b[38;5;124mnumber\u001b[39m\u001b[38;5;124m\"\u001b[39m])\u001b[38;5;241m.\u001b[39mcolumns\u001b[38;5;241m.\u001b[39mtolist()\n\u001b[1;32m      3\u001b[0m categoricas \u001b[38;5;241m=\u001b[39m X\u001b[38;5;241m.\u001b[39mselect_dtypes(exclude\u001b[38;5;241m=\u001b[39m[\u001b[38;5;124m\"\u001b[39m\u001b[38;5;124mnumber\u001b[39m\u001b[38;5;124m\"\u001b[39m])\u001b[38;5;241m.\u001b[39mcolumns\u001b[38;5;241m.\u001b[39mtolist()\n",
      "\u001b[0;31mNameError\u001b[0m: name 'X' is not defined"
     ]
    }
   ],
   "source": [
    "# 3. Separar variables numéricas y categóricas\n",
    "numericas = X.select_dtypes(include=[\"number\"]).columns.tolist()\n",
    "categoricas = X.select_dtypes(exclude=[\"number\"]).columns.tolist()"
   ]
  },
  {
   "cell_type": "code",
   "execution_count": null,
   "id": "ef9b4b91-f1fe-4c8b-acee-e47f71d1287f",
   "metadata": {},
   "outputs": [],
   "source": [
    "# OPCION 2!!! (Quizás más recomendable)\n",
    "numericas_df = X.select_dtypes(include=[\"number\"])\n",
    "categoricas_df = X.select_dtypes(exclude=[\"number\"])"
   ]
  },
  {
   "cell_type": "markdown",
   "id": "308010ec-2c88-4b95-ac33-2cbc10c758cc",
   "metadata": {},
   "source": [
    "### TRANSFORMACIONES NUMÉRICAS"
   ]
  },
  {
   "cell_type": "markdown",
   "id": "62e77faf-f60a-4ae8-a528-40e9ce34c51e",
   "metadata": {},
   "source": [
    "#### Standarizacion y Normalizacion"
   ]
  },
  {
   "cell_type": "code",
   "execution_count": null,
   "id": "4856d0d4-178b-4d0b-af3e-28156a0c1f14",
   "metadata": {},
   "outputs": [],
   "source": [
    "# 2. StandardScaler\n",
    "scaler = StandardScaler()\n",
    "df_filtered['total_sulfur_dioxide_scaled'] = scaler.fit_transform(df_filtered[['total_sulfur_dioxide']].fillna(0))\n",
    "plt.subplot(1, 2, 1)\n",
    "sns.histplot(df_filtered['total_sulfur_dioxide_scaled'], kde=True, color='green', bins=50)\n",
    "plt.title(\"Distribución después de StandardScaler\")\n",
    "plt.xlabel(\"total_sulfur_dioxide (Standard Scaled)\")\n",
    "plt.ylabel(\"Frecuencia\")\n",
    "\n",
    "# 3. MinMaxScaler\n",
    "minmax_scaler = MinMaxScaler()\n",
    "df_filtered['total_sulfur_dioxide_minmax'] = minmax_scaler.fit_transform(df_filtered[['total_sulfur_dioxide']].fillna(0))\n",
    "plt.subplot(1, 2, 2)\n",
    "sns.histplot(df_filtered['total_sulfur_dioxide_minmax'], kde=True, color='orange', bins=50)\n",
    "plt.title(\"Distribución después de MinMaxScaler\")\n",
    "plt.xlabel(\"total_sulfur_dioxide (Min-Max Scaled)\")\n",
    "plt.ylabel(\"Frecuencia\")"
   ]
  },
  {
   "cell_type": "markdown",
   "id": "19854f73-3190-4d1b-86eb-b8a384962501",
   "metadata": {},
   "source": [
    "#### Transformacion logaritmica"
   ]
  },
  {
   "cell_type": "code",
   "execution_count": null,
   "id": "31aaf643-a8ac-44ea-abcc-5ca4cba67a3f",
   "metadata": {},
   "outputs": [],
   "source": [
    "# Dibujemos su distribucion (Continuas --> HISTOGRAMA)\n",
    "plt.figure(figsize=(15, 10))\n",
    "sns.histplot(X['residual_sugar'].dropna(), kde=True, color='blue', bins=50)"
   ]
  },
  {
   "cell_type": "code",
   "execution_count": null,
   "id": "d4388960-5c94-4cd0-ba66-6592396f7170",
   "metadata": {},
   "outputs": [],
   "source": [
    "# 4.2. Aplicar transformación logarítmica a una variable sesgada (ejemplo: 'residual sugar')\n",
    "X[\"residual_sugar_log\"] = np.log1p(X[\"residual_sugar\"])  # log(1+x) para evitar log(0)\n",
    "X.head()"
   ]
  },
  {
   "cell_type": "code",
   "execution_count": null,
   "id": "7a326808-dffa-438a-a772-1382cec2b10b",
   "metadata": {},
   "outputs": [],
   "source": [
    "# Comparemos su distribucion con la transformada (Continuas --> HISTOGRAMA)\n",
    "plt.figure(figsize=(15, 10))\n",
    "sns.histplot(X['residual_sugar_log'].dropna(), kde=True, color='blue', bins=50)"
   ]
  },
  {
   "cell_type": "markdown",
   "id": "450912d5-6463-4f01-be42-4cebc1b5492a",
   "metadata": {},
   "source": [
    "#### Binning"
   ]
  },
  {
   "cell_type": "code",
   "execution_count": null,
   "id": "086857aa-4925-43e5-8070-0ace71a8b1a9",
   "metadata": {},
   "outputs": [],
   "source": [
    "# 4.4. Discretización de una variable numérica (ejemplo: 'alcohol')\n",
    "# Nota: Este dataset no contiene variables categóricas originales, pero podemos crear una para demostración\n",
    "X[\"alcohol_binned\"] = pd.cut(X[\"alcohol\"], bins=3, labels=[\"Bajo\", \"Medio\", \"Alto\"]) # Bins tambien puede ser una lista\n",
    "X.sample(10)"
   ]
  },
  {
   "cell_type": "code",
   "execution_count": null,
   "id": "9b0136c6-151c-4e5b-849a-175c99dbddb9",
   "metadata": {},
   "outputs": [],
   "source": []
  },
  {
   "cell_type": "code",
   "execution_count": null,
   "id": "1fd0ccaa-5f76-4a17-a50b-d9c1b7f95c96",
   "metadata": {},
   "outputs": [],
   "source": []
  },
  {
   "cell_type": "markdown",
   "id": "fe99f36c-25a3-4265-adfc-d8c86360a670",
   "metadata": {},
   "source": [
    "### CODIFICACIÓN CATEGÓRICAS"
   ]
  },
  {
   "cell_type": "code",
   "execution_count": null,
   "id": "d97a8680-4a63-44e5-b167-928f890dedff",
   "metadata": {},
   "outputs": [],
   "source": [
    "cat_df = X[[\"alcohol_binned\"]]\n",
    "cat_df.head()"
   ]
  },
  {
   "cell_type": "code",
   "execution_count": null,
   "id": "4ecbe451-1c2e-4c02-9a10-ffd7a7c3987d",
   "metadata": {},
   "outputs": [],
   "source": [
    "# 5.1. Label Encoding con .map() Bajo que sea 0, Medio 1 y Alto 2. Hazlo en cat_df!!!!!!!\n",
    "\n"
   ]
  },
  {
   "cell_type": "code",
   "execution_count": null,
   "id": "7d97006d-9864-46e7-a6f1-10d4e5dc13cc",
   "metadata": {},
   "outputs": [],
   "source": [
    "# 5.2. Aplicar encoding con apply + lambda. Haz lo mismo pero de otra manera!!\n",
    "\n"
   ]
  },
  {
   "cell_type": "code",
   "execution_count": null,
   "id": "d2f45b18-2dba-47da-a6f0-9571031e8eec",
   "metadata": {},
   "outputs": [],
   "source": [
    "cat_df.sample(10)"
   ]
  },
  {
   "cell_type": "code",
   "execution_count": null,
   "id": "c810ceba-c6b0-4a99-a367-17b27919282f",
   "metadata": {},
   "outputs": [],
   "source": [
    "# 5.3. One-hot encoding con pandas\n",
    "dummie_df = pd.get_dummies(X[[\"alcohol_binned\"]], columns=[\"alcohol_binned\"], drop_first=True)\n",
    "dummie_df"
   ]
  },
  {
   "cell_type": "code",
   "execution_count": null,
   "id": "4b8dd8b5-1ff4-462e-a037-8c9388b6d75d",
   "metadata": {},
   "outputs": [],
   "source": [
    "dummie_df = dummie_df.astype(int)\n",
    "dummie_df"
   ]
  },
  {
   "cell_type": "code",
   "execution_count": null,
   "id": "4fe5f50d-b7c2-4445-93f6-c65dcfe70880",
   "metadata": {},
   "outputs": [],
   "source": [
    "# 5.4. One-hot encoding con OneHotEncoder\n",
    "encoder = OneHotEncoder(sparse_output=False, drop='first')\n",
    "encoded_cat = encoder.fit_transform(X[[\"alcohol_binned\"]])\n",
    "encoded_cat_df = pd.DataFrame(encoded_cat, columns=encoder.get_feature_names_out([\"alcohol_binned\"]))\n",
    "encoded_cat_df"
   ]
  },
  {
   "cell_type": "code",
   "execution_count": null,
   "id": "51960b57-310a-4819-a426-deab3d9317a1",
   "metadata": {},
   "outputs": [],
   "source": []
  },
  {
   "cell_type": "code",
   "execution_count": null,
   "id": "189294c6-3ba6-420f-b426-641d5a819bc2",
   "metadata": {},
   "outputs": [],
   "source": []
  },
  {
   "cell_type": "code",
   "execution_count": null,
   "id": "9e273a14-d519-45bd-8143-a87e76a9d11b",
   "metadata": {},
   "outputs": [],
   "source": []
  }
 ],
 "metadata": {
  "kernelspec": {
   "display_name": "IronHack",
   "language": "python",
   "name": "python3"
  },
  "language_info": {
   "codemirror_mode": {
    "name": "ipython",
    "version": 3
   },
   "file_extension": ".py",
   "mimetype": "text/x-python",
   "name": "python",
   "nbconvert_exporter": "python",
   "pygments_lexer": "ipython3",
   "version": "3.10.12"
  }
 },
 "nbformat": 4,
 "nbformat_minor": 5
}
