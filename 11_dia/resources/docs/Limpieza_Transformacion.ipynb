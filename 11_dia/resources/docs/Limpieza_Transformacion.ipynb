{
 "cells": [
  {
   "cell_type": "markdown",
   "id": "d38c98bd",
   "metadata": {},
   "source": [
    "\n",
    "# Limpieza y transformación de datos (Notebook resuelto)\n",
    "Dataset: `dataset_sucio.csv` (nulos, duplicados, outliers, fechas en texto y variables categóricas).  \n",
    "Objetivo: preparar los datos para modelado sin entrar aún en EDA completo.\n"
   ]
  },
  {
   "cell_type": "markdown",
   "id": "02b6e56b",
   "metadata": {},
   "source": [
    "## 1. Carga del dataset y exploración inicial"
   ]
  },
  {
   "cell_type": "code",
   "execution_count": null,
   "id": "1e45adf2-4fd8-4ff0-929a-c30d93ee464f",
   "metadata": {},
   "outputs": [],
   "source": [
    "import pandas as pd\n",
    "import numpy as np"
   ]
  },
  {
   "cell_type": "code",
   "execution_count": null,
   "id": "e7bbc098",
   "metadata": {},
   "outputs": [],
   "source": [
    "pd.set_option(\"display.max_columns\", None)\n",
    "\n",
    "df = pd.read_csv(\"dataset_sucio.csv\")\n",
    "df.head()"
   ]
  },
  {
   "cell_type": "code",
   "execution_count": null,
   "id": "bfeab0c5",
   "metadata": {},
   "outputs": [],
   "source": [
    "df.info()"
   ]
  },
  {
   "cell_type": "code",
   "execution_count": null,
   "id": "10723d3b",
   "metadata": {},
   "outputs": [],
   "source": [
    "df.describe(include='all').T"
   ]
  },
  {
   "cell_type": "markdown",
   "id": "2564efe1",
   "metadata": {},
   "source": [
    "## 2. Detección y eliminación de duplicados"
   ]
  },
  {
   "cell_type": "code",
   "execution_count": null,
   "id": "934dfc36-766e-4909-afb3-60f6e8a64c27",
   "metadata": {},
   "outputs": [],
   "source": [
    "duplicados_absolutos = df.duplicated().sum()\n",
    "duplicados_absolutos"
   ]
  },
  {
   "cell_type": "code",
   "execution_count": null,
   "id": "aa7ac371-f42e-4679-a42f-d9d79c8f55eb",
   "metadata": {},
   "outputs": [],
   "source": [
    "df.duplicated().sum()"
   ]
  },
  {
   "cell_type": "code",
   "execution_count": null,
   "id": "0a6ad371",
   "metadata": {},
   "outputs": [],
   "source": [
    "\n",
    "duplicados_por_id = df.duplicated(subset=[\"id\"]).sum()\n",
    "print(\"Duplicados totales:\", duplicados_absolutos)\n",
    "print(\"Duplicados por id:\", duplicados_por_id)\n"
   ]
  },
  {
   "cell_type": "code",
   "execution_count": null,
   "id": "598e8c46",
   "metadata": {},
   "outputs": [],
   "source": [
    "\n",
    "# Eliminamos duplicados completos primero\n",
    "df = df.drop_duplicates().copy()\n",
    "# También nos aseguramos que cada 'id' sea único\n",
    "df = df.drop_duplicates(subset=[\"id\"]).copy()\n",
    "df.shape\n"
   ]
  },
  {
   "cell_type": "markdown",
   "id": "2f57c8d2",
   "metadata": {},
   "source": [
    "## 3. Detección y tratamiento de nulos"
   ]
  },
  {
   "cell_type": "code",
   "execution_count": null,
   "id": "6393588a",
   "metadata": {},
   "outputs": [],
   "source": [
    "df.isnull().sum()"
   ]
  },
  {
   "cell_type": "code",
   "execution_count": null,
   "id": "c4cd0229",
   "metadata": {},
   "outputs": [],
   "source": [
    "\n",
    "# Ejemplo: imputar nulos en 'ciudad' con 'Desconocido'\n",
    "df[\"ciudad\"] = df[\"ciudad\"].fillna(\"Desconocido\")\n",
    "\n",
    "# Ejemplo: eliminar filas con fecha_contrato nula\n",
    "df = df.dropna(subset=[\"fecha_contrato\"])\n",
    "df.isnull().sum()\n"
   ]
  },
  {
   "cell_type": "markdown",
   "id": "c2f7f614",
   "metadata": {},
   "source": [
    "## 4. Detección y manejo de outliers"
   ]
  },
  {
   "cell_type": "code",
   "execution_count": null,
   "id": "574803e7",
   "metadata": {},
   "outputs": [],
   "source": [
    "\n",
    "# Salario: revisar valores extremos\n",
    "df[\"salario\"].describe()\n"
   ]
  },
  {
   "cell_type": "code",
   "execution_count": null,
   "id": "d378e37f",
   "metadata": {},
   "outputs": [],
   "source": [
    "\n",
    "# Podemos recortar valores de salario demasiado altos\n",
    "q_low, q_high = df[\"salario\"].quantile([0.01, 0.99])\n",
    "df[\"salario\"] = df[\"salario\"].clip(lower=q_low, upper=q_high)\n",
    "df[\"salario\"].describe()\n"
   ]
  },
  {
   "cell_type": "markdown",
   "id": "c056564f",
   "metadata": {},
   "source": [
    "## 5. Transformaciones de columnas"
   ]
  },
  {
   "cell_type": "code",
   "execution_count": null,
   "id": "343c61b0",
   "metadata": {},
   "outputs": [],
   "source": [
    "\n",
    "# Convertir columna fecha_contrato a datetime (invalid -> NaT)\n",
    "df[\"fecha_contrato\"] = pd.to_datetime(df[\"fecha_contrato\"], errors=\"coerce\")\n",
    "df[[\"fecha_contrato\"]].head()\n"
   ]
  },
  {
   "cell_type": "code",
   "execution_count": null,
   "id": "c8e15b64",
   "metadata": {},
   "outputs": [],
   "source": [
    "\n",
    "# Cambiar tipo de 'departamento' a categoría\n",
    "df[\"departamento\"] = df[\"departamento\"].astype(\"category\")\n",
    "df.dtypes\n"
   ]
  },
  {
   "cell_type": "code",
   "execution_count": null,
   "id": "50e6bca1",
   "metadata": {},
   "outputs": [],
   "source": [
    "\n",
    "# Ejemplo extra 1: normalizar nombres a minúsculas\n",
    "df[\"nombre\"] = df[\"nombre\"].str.lower()\n",
    "df[\"apellido\"] = df[\"apellido\"].str.lower()\n",
    "df[[\"nombre\",\"apellido\"]].head()\n"
   ]
  },
  {
   "cell_type": "code",
   "execution_count": null,
   "id": "41d4fc89",
   "metadata": {},
   "outputs": [],
   "source": [
    "\n",
    "# Ejemplo extra 2: crear columna año de la fecha\n",
    "df[\"anio_contrato\"] = df[\"fecha_contrato\"].dt.year\n",
    "df[[\"fecha_contrato\",\"anio_contrato\"]].head()\n"
   ]
  },
  {
   "cell_type": "markdown",
   "id": "53debdaf",
   "metadata": {},
   "source": [
    "## 6. Binning de variables"
   ]
  },
  {
   "cell_type": "code",
   "execution_count": null,
   "id": "2d87fe96",
   "metadata": {},
   "outputs": [],
   "source": [
    "\n",
    "# Con pd.cut: agrupar edades\n",
    "df[\"grupo_edad\"] = pd.cut(df[\"edad\"], bins=[17,29,49,69], labels=[\"joven\",\"adulto\",\"mayor\"])\n",
    "df[[\"edad\",\"grupo_edad\"]].head()\n"
   ]
  },
  {
   "cell_type": "code",
   "execution_count": null,
   "id": "47202431",
   "metadata": {},
   "outputs": [],
   "source": [
    "\n",
    "# Con apply + lambda\n",
    "df[\"rango_salario\"] = df[\"salario\"].apply(lambda x: \"alto\" if x>30000 else \"bajo\")\n",
    "df[[\"salario\",\"rango_salario\"]].head()\n"
   ]
  },
  {
   "cell_type": "markdown",
   "id": "87adea33",
   "metadata": {},
   "source": [
    "## 7. Encoding de variables categóricas"
   ]
  },
  {
   "cell_type": "code",
   "execution_count": null,
   "id": "ef9e1711",
   "metadata": {},
   "outputs": [],
   "source": [
    "\n",
    "# Label encoding sencillo\n",
    "df[\"departamento_code\"] = df[\"departamento\"].cat.codes\n",
    "df[[\"departamento\",\"departamento_code\"]].head()\n"
   ]
  },
  {
   "cell_type": "code",
   "execution_count": null,
   "id": "2bfaddc9",
   "metadata": {},
   "outputs": [],
   "source": [
    "\n",
    "# One-hot encoding\n",
    "df_encoded = pd.get_dummies(df, columns=[\"ciudad\"])\n",
    "df_encoded.head()\n"
   ]
  },
  {
   "cell_type": "markdown",
   "id": "cc39b454",
   "metadata": {},
   "source": [
    "## 8. Feature Engineering"
   ]
  },
  {
   "cell_type": "code",
   "execution_count": null,
   "id": "d1cc2105",
   "metadata": {},
   "outputs": [],
   "source": [
    "\n",
    "# Crear margen = ventas - costes\n",
    "df[\"margen\"] = df[\"ventas\"] - df[\"costes\"]\n",
    "\n",
    "# Crear beneficio relativo\n",
    "df[\"beneficio_pct\"] = (df[\"margen\"] / df[\"ventas\"]).round(2)\n",
    "\n",
    "# Crear columna nombre_completo\n",
    "df[\"nombre_completo\"] = df[\"nombre\"] + \" \" + df[\"apellido\"]\n",
    "\n",
    "# Crear variable booleana\n",
    "df[\"es_joven\"] = df[\"edad\"] < 30\n",
    "\n",
    "# Extraer mes del contrato\n",
    "df[\"mes_contrato\"] = df[\"fecha_contrato\"].dt.month\n",
    "\n",
    "df.head()\n"
   ]
  }
 ],
 "metadata": {
  "kernelspec": {
   "display_name": "Python 3 (ipykernel)",
   "language": "python",
   "name": "python3"
  },
  "language_info": {
   "codemirror_mode": {
    "name": "ipython",
    "version": 3
   },
   "file_extension": ".py",
   "mimetype": "text/x-python",
   "name": "python",
   "nbconvert_exporter": "python",
   "pygments_lexer": "ipython3",
   "version": "3.12.2"
  }
 },
 "nbformat": 4,
 "nbformat_minor": 5
}
