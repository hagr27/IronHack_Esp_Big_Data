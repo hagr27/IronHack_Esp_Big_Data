{
 "cells": [
  {
   "cell_type": "markdown",
   "id": "d38c98bd",
   "metadata": {},
   "source": [
    "\n",
    "# Limpieza y transformación de datos (Notebook resuelto)\n",
    "Dataset: `dataset_sucio.csv` (nulos, duplicados, outliers, fechas en texto y variables categóricas).  \n",
    "Objetivo: preparar los datos para modelado sin entrar aún en EDA completo.\n"
   ]
  },
  {
   "cell_type": "markdown",
   "id": "02b6e56b",
   "metadata": {},
   "source": [
    "## 1. Carga del dataset y exploración inicial"
   ]
  },
  {
   "cell_type": "code",
   "execution_count": null,
   "id": "1e45adf2-4fd8-4ff0-929a-c30d93ee464f",
   "metadata": {},
   "outputs": [],
   "source": [
    "import pandas as pd\n",
    "import numpy as np"
   ]
  },
  {
   "cell_type": "code",
   "execution_count": null,
   "id": "e7bbc098",
   "metadata": {},
   "outputs": [],
   "source": [
    "pd.set_option(\"display.max_columns\", None)\n",
    "\n",
    "df = pd.read_csv(\"dataset_sucio.csv\")\n",
    "df.head()"
   ]
  },
  {
   "cell_type": "code",
   "execution_count": null,
   "id": "f2942219-fbc2-4349-8099-4c4143b892b1",
   "metadata": {},
   "outputs": [],
   "source": [
    "df.tail()"
   ]
  },
  {
   "cell_type": "code",
   "execution_count": null,
   "id": "3f3c14c6-d135-4752-8350-1d0d5c41339e",
   "metadata": {},
   "outputs": [],
   "source": [
    "df.shape"
   ]
  },
  {
   "cell_type": "code",
   "execution_count": null,
   "id": "bfeab0c5",
   "metadata": {},
   "outputs": [],
   "source": [
    "df.info()"
   ]
  },
  {
   "cell_type": "code",
   "execution_count": null,
   "id": "b43451fb-8a74-46a7-9b02-2a7af128e00a",
   "metadata": {},
   "outputs": [],
   "source": [
    "df.describe()"
   ]
  },
  {
   "cell_type": "code",
   "execution_count": null,
   "id": "10723d3b",
   "metadata": {},
   "outputs": [],
   "source": [
    "df.describe(include='all').T"
   ]
  },
  {
   "cell_type": "code",
   "execution_count": null,
   "id": "f1250e73-7076-4a26-927b-7b560a0563d0",
   "metadata": {},
   "outputs": [],
   "source": [
    "df.departamento.unique()"
   ]
  },
  {
   "cell_type": "code",
   "execution_count": null,
   "id": "32901bfa-1b66-442f-94a3-03759756e4cd",
   "metadata": {},
   "outputs": [],
   "source": [
    "df.departamento.value_counts()"
   ]
  },
  {
   "cell_type": "markdown",
   "id": "2564efe1",
   "metadata": {},
   "source": [
    "## 2. Detección y eliminación de duplicados"
   ]
  },
  {
   "cell_type": "code",
   "execution_count": null,
   "id": "809ec19d-db53-4f60-b65e-5d7c280d1f3d",
   "metadata": {},
   "outputs": [],
   "source": [
    "df.duplicated().sum("
   ]
  },
  {
   "cell_type": "code",
   "execution_count": null,
   "id": "934dfc36-766e-4909-afb3-60f6e8a64c27",
   "metadata": {},
   "outputs": [],
   "source": [
    "duplicados_absolutos = df.duplicated().sum() #numero de duplicados que tengo\n",
    "duplicados_absolutos"
   ]
  },
  {
   "cell_type": "code",
   "execution_count": null,
   "id": "60ec024f-0f0f-4b6c-bbab-748ec4ebc6d8",
   "metadata": {},
   "outputs": [],
   "source": [
    "df.duplicated(subset=[\"id\"]).sum() #cuantos tienen mismo id"
   ]
  },
  {
   "cell_type": "code",
   "execution_count": null,
   "id": "e7091f36-831f-4fa8-b2ca-2af0062fc762",
   "metadata": {},
   "outputs": [],
   "source": [
    "df.duplicated(subset=[\"apellido\"]).sum() #cuantos tienen mismo apellido"
   ]
  },
  {
   "cell_type": "code",
   "execution_count": null,
   "id": "46afac42-54b8-45bc-ab2e-17af68ac2d1e",
   "metadata": {},
   "outputs": [],
   "source": [
    "# FILAS DUPLICADAS\n",
    "df[df.duplicated(keep='last')]"
   ]
  },
  {
   "cell_type": "code",
   "execution_count": null,
   "id": "838d27f7-9010-44a9-b99a-8bfa63bc6abd",
   "metadata": {},
   "outputs": [],
   "source": [
    "lucia= df[(df.nombre=='Lucía')]\n",
    "lucia[lucia.apellido=='Martín']"
   ]
  },
  {
   "cell_type": "code",
   "execution_count": null,
   "id": "db558a4e-b69e-41a9-adfb-560dca51d52e",
   "metadata": {},
   "outputs": [],
   "source": [
    "df[df.id==190]"
   ]
  },
  {
   "cell_type": "code",
   "execution_count": null,
   "id": "d9f9ff40-527b-424c-97fe-c4acd217941c",
   "metadata": {},
   "outputs": [],
   "source": [
    "df[df.duplicated()] # veo filas duplicadas "
   ]
  },
  {
   "cell_type": "code",
   "execution_count": null,
   "id": "1e05ca8c-cc38-4ebf-bb14-58164d926a6c",
   "metadata": {},
   "outputs": [],
   "source": [
    "df_limpio = df[~df.duplicated()]\n",
    "len(df_limpio)"
   ]
  },
  {
   "cell_type": "code",
   "execution_count": null,
   "id": "15f9589d-476e-48b9-bd6e-af3f4837a8ac",
   "metadata": {},
   "outputs": [],
   "source": [
    "# BORRADO DE FILAS DUPLICADAS \n",
    "df.drop_duplicates() # Los duplicados de filas enteras"
   ]
  },
  {
   "cell_type": "code",
   "execution_count": null,
   "id": "598e8c46",
   "metadata": {},
   "outputs": [],
   "source": [
    "# Eliminamos duplicados completos primero\n",
    "df = df.drop_duplicates().copy()\n",
    "# También nos aseguramos que cada 'id' sea único\n",
    "df = df.drop_duplicates(subset=[\"id\"]).copy()\n",
    "df.shape"
   ]
  },
  {
   "cell_type": "markdown",
   "id": "2f57c8d2",
   "metadata": {},
   "source": [
    "## 3. Detección y tratamiento de nulos"
   ]
  },
  {
   "cell_type": "markdown",
   "id": "f0bdb38e-98ed-4e0b-83e9-006c6db0e4aa",
   "metadata": {},
   "source": [
    "##### Podeis usar tanto .isnull() como .isna()"
   ]
  },
  {
   "cell_type": "code",
   "execution_count": null,
   "id": "c31c57f5-2c96-4298-aa90-6fa92fc2ca33",
   "metadata": {},
   "outputs": [],
   "source": [
    "df.isna()"
   ]
  },
  {
   "cell_type": "code",
   "execution_count": null,
   "id": "6393588a",
   "metadata": {},
   "outputs": [],
   "source": [
    "df.isnull().sum()"
   ]
  },
  {
   "cell_type": "code",
   "execution_count": null,
   "id": "f0e6620c-0fd3-4af1-89cb-6a39f802141e",
   "metadata": {},
   "outputs": [],
   "source": [
    "df_sin_nulos = df[~df.fecha_contrato.isna()]\n",
    "df_sin_nulos.shape"
   ]
  },
  {
   "cell_type": "code",
   "execution_count": null,
   "id": "0d8d2a8c-3722-40e7-9eeb-316ad654cef1",
   "metadata": {},
   "outputs": [],
   "source": [
    "df_sin_nulos.info()"
   ]
  },
  {
   "cell_type": "code",
   "execution_count": null,
   "id": "c4cd0229",
   "metadata": {},
   "outputs": [],
   "source": [
    "\n",
    "# Ejemplo: imputar nulos en 'ciudad' con 'Desconocido'\n",
    "df[\"ciudad\"] = df[\"ciudad\"].fillna(\"Desconocido\")\n",
    "\n",
    "# Ejemplo: eliminar filas con fecha_contrato nula\n",
    "df = df.dropna(subset=[\"fecha_contrato\"])\n",
    "df.isnull().sum()\n"
   ]
  },
  {
   "cell_type": "code",
   "execution_count": null,
   "id": "d2cc2660-b285-4e57-8d58-0848b25a029f",
   "metadata": {},
   "outputs": [],
   "source": [
    "# IMPUTAR CONTINUA \n",
    "# - media, mediana --> crea sesgos\n",
    "# - valor anterior o posterior, media del valor anterior y posterior --> acciones y series temporales"
   ]
  },
  {
   "cell_type": "markdown",
   "id": "c2f7f614",
   "metadata": {},
   "source": [
    "## 4. Detección y manejo de outliers"
   ]
  },
  {
   "cell_type": "code",
   "execution_count": null,
   "id": "574803e7",
   "metadata": {},
   "outputs": [],
   "source": [
    "# Salario: revisar valores extremos\n",
    "df[\"salario\"].describe()"
   ]
  },
  {
   "cell_type": "code",
   "execution_count": null,
   "id": "d378e37f",
   "metadata": {},
   "outputs": [],
   "source": [
    "# Podemos recortar valores de salario demasiado altos\n",
    "#q_low, q_high = df[\"salario\"].quantile([0.2, 0.8])\n",
    "#df[\"salario\"] = df[\"salario\"].clip(lower=q_low, upper=q_high)\n",
    "#df[\"salario\"].describe()\n"
   ]
  },
  {
   "cell_type": "code",
   "execution_count": null,
   "id": "4f3d52e0-4604-4188-9138-7f4c43d39708",
   "metadata": {},
   "outputs": [],
   "source": [
    "df.head()"
   ]
  },
  {
   "cell_type": "code",
   "execution_count": null,
   "id": "102407f4-353f-4fdc-bd4a-aec9d105ad4c",
   "metadata": {},
   "outputs": [],
   "source": [
    "# CAMBIANDO VALORES!!!!!!! Manipulando los datos!!!!"
   ]
  },
  {
   "cell_type": "markdown",
   "id": "0f4dcb80-1ae6-454b-84f2-035dc811c11f",
   "metadata": {},
   "source": [
    "##### MEJOR OPCION - quitar las filas con valores outliers IQR"
   ]
  },
  {
   "cell_type": "code",
   "execution_count": null,
   "id": "13e86296-6423-4c8e-99b3-8aff1fbfc5e9",
   "metadata": {},
   "outputs": [],
   "source": [
    "df.describe()"
   ]
  },
  {
   "cell_type": "code",
   "execution_count": null,
   "id": "ce975e2a-134a-4452-9ca3-3455f14e1fcf",
   "metadata": {},
   "outputs": [],
   "source": [
    "# Calcular Q1 (25%) y Q3 (75%)\n",
    "Q1 = df['salario'].quantile(0.25)\n",
    "print('Q1 = ', Q1)\n",
    "Q3 = df['salario'].quantile(0.75)\n",
    "print('Q3 = ', Q3)\n",
    "\n",
    "# Calcular IQR\n",
    "IQR = Q3 - Q1\n",
    "print('IQR = ', IQR)\n",
    "\n",
    "# Definir límites inferior y superior\n",
    "limite_inferior = Q1 - 0.5 * IQR\n",
    "limite_superior = Q3 + 2.5 * IQR\n",
    "print(limite_inferior)\n",
    "print(limite_superior)"
   ]
  },
  {
   "cell_type": "code",
   "execution_count": null,
   "id": "144aba40-2053-4c05-ab9b-50b110b475aa",
   "metadata": {},
   "outputs": [],
   "source": [
    "1.5*IQR"
   ]
  },
  {
   "cell_type": "code",
   "execution_count": null,
   "id": "4230958e-5bdb-45f8-86f9-f1c607dc7aa4",
   "metadata": {},
   "outputs": [],
   "source": [
    "df['salario'].min()"
   ]
  },
  {
   "cell_type": "code",
   "execution_count": null,
   "id": "f232ac84-c07f-4aae-881a-05dfcef06d36",
   "metadata": {},
   "outputs": [],
   "source": [
    "df[df['salario'] > 62500]"
   ]
  },
  {
   "cell_type": "code",
   "execution_count": null,
   "id": "a5c07d16-0858-4249-9e2e-0dd6e8cdb826",
   "metadata": {},
   "outputs": [],
   "source": [
    "# Filtrar los datos dentro de los límites\n",
    "df_sin_outliers = df[(df['salario'] >= limite_inferior) & (df['salario'] <= limite_superior)]\n",
    "len(df_sin_outliers)"
   ]
  },
  {
   "cell_type": "markdown",
   "id": "c056564f",
   "metadata": {},
   "source": [
    "## 5. Transformaciones de columnas"
   ]
  },
  {
   "cell_type": "code",
   "execution_count": null,
   "id": "4d17eeea-4ad6-4bec-8996-b60297e02315",
   "metadata": {},
   "outputs": [],
   "source": [
    "df.info()"
   ]
  },
  {
   "cell_type": "code",
   "execution_count": null,
   "id": "343c61b0",
   "metadata": {},
   "outputs": [],
   "source": [
    "\n",
    "# Convertir columna fecha_contrato a datetime (invalid -> NaT)\n",
    "df[\"fecha_contrato\"] = pd.to_datetime(df[\"fecha_contrato\"], errors=\"coerce\")\n",
    "df[[\"fecha_contrato\"]].head()\n"
   ]
  },
  {
   "cell_type": "code",
   "execution_count": null,
   "id": "b8781dd2-0ce6-4dc0-ad02-9794bcbdda60",
   "metadata": {},
   "outputs": [],
   "source": []
  },
  {
   "cell_type": "code",
   "execution_count": null,
   "id": "c8e15b64",
   "metadata": {},
   "outputs": [],
   "source": [
    "# Cambiar tipo de 'departamento' a categoría\n",
    "df[\"departamento\"] = df[\"departamento\"].astype(\"category\")\n",
    "df.dtypes\n"
   ]
  },
  {
   "cell_type": "code",
   "execution_count": null,
   "id": "50e6bca1",
   "metadata": {},
   "outputs": [],
   "source": [
    "\n",
    "# Ejemplo extra 1: normalizar nombres a minúsculas\n",
    "df[\"nombre\"] = df[\"nombre\"].str.lower()\n",
    "\n",
    "df[\"apellido\"] = df[\"apellido\"].str.lower()\n",
    "\n",
    "df[[\"nombre\",\"apellido\"]].head()"
   ]
  },
  {
   "cell_type": "code",
   "execution_count": null,
   "id": "d3eeefd2-2c93-445c-8f4f-e5ab1829e6a0",
   "metadata": {},
   "outputs": [],
   "source": [
    "# QUITAR TODOS LAS TILDES DE NOMBRE Y APELLIDO\n",
    "\n",
    "df['nombre'] = df['nombre'].apply(lambda x: x.replace('í','i').replace('ó','o').replace('é','e'))\n",
    "df['apellido'] = df['apellido'].apply(lambda x: x.replace('í','i').replace('ó','o').replace('é','e'))\n",
    "\n",
    "df[['nombre','apellido']].head()"
   ]
  },
  {
   "cell_type": "code",
   "execution_count": null,
   "id": "3c3564b3-9adf-4b72-8748-52c248b9e0c7",
   "metadata": {},
   "outputs": [],
   "source": [
    "# Ejemplo extra 2: crear columna año de la fecha\n",
    "df[\"anio_contrato\"] = df[\"fecha_contrato\"].dt.year\n",
    "df[[\"fecha_contrato\",\"anio_contrato\"]].head()"
   ]
  },
  {
   "cell_type": "code",
   "execution_count": null,
   "id": "41d4fc89",
   "metadata": {},
   "outputs": [],
   "source": [
    "# ESTO DARA ERROR PORQUE HAY NULOS!!! Primero quitad o imputad los nulos\n",
    "df[\"anio_contrato\"] = df[\"anio_contrato\"].astype(int)"
   ]
  },
  {
   "cell_type": "markdown",
   "id": "53debdaf",
   "metadata": {},
   "source": [
    "## 6. Binning de variables"
   ]
  },
  {
   "cell_type": "code",
   "execution_count": null,
   "id": "31457fef-9986-4750-8957-d2fcd157a6a2",
   "metadata": {},
   "outputs": [],
   "source": [
    "df.edad.describe()"
   ]
  },
  {
   "cell_type": "code",
   "execution_count": null,
   "id": "2d87fe96",
   "metadata": {},
   "outputs": [],
   "source": [
    "\n",
    "# Con pd.cut: agrupar edades\n",
    "df[\"grupo_edad\"] = pd.cut(df[\"edad\"], bins=[17,29,49,69], labels=[\"joven\",\"adulto\",\"mayor\"])\n",
    "df[[\"edad\",\"grupo_edad\"]].head()\n"
   ]
  },
  {
   "cell_type": "code",
   "execution_count": null,
   "id": "5c74732a-cf33-40b8-8c8f-fa3dea958398",
   "metadata": {},
   "outputs": [],
   "source": [
    "df.grupo_edad.value_counts()"
   ]
  },
  {
   "cell_type": "code",
   "execution_count": null,
   "id": "47202431",
   "metadata": {},
   "outputs": [],
   "source": [
    "# Con apply + lambda\n",
    "df[\"rango_salario\"] = df[\"salario\"].apply(lambda x: \"alto\" if x>30000 else (\"medio\" if x>25000 else 'bajo'))\n",
    "df[[\"salario\",\"rango_salario\"]].head()"
   ]
  },
  {
   "cell_type": "markdown",
   "id": "87adea33",
   "metadata": {},
   "source": [
    "## 7. Encoding de variables categóricas"
   ]
  },
  {
   "cell_type": "code",
   "execution_count": null,
   "id": "37c2d1a2-e7a8-41c0-8cd6-149ce5266e75",
   "metadata": {},
   "outputs": [],
   "source": [
    "df.departamento.unique()"
   ]
  },
  {
   "cell_type": "code",
   "execution_count": null,
   "id": "ef9e1711",
   "metadata": {},
   "outputs": [],
   "source": [
    "### ESTO NO ES MUY BUENA PRACTICA SI NO ES ORDINAL\n",
    "# Label encoding sencillo\n",
    "df[\"departamento_code\"] = df[\"departamento\"].cat.codes\n",
    "df[[\"departamento\",\"departamento_code\"]].head()\n"
   ]
  },
  {
   "cell_type": "markdown",
   "id": "e8c52a80-f8e4-4a16-a3aa-5fb4757d4ec4",
   "metadata": {},
   "source": [
    "### ONE-HOT ENCODING"
   ]
  },
  {
   "cell_type": "code",
   "execution_count": null,
   "id": "bf1bd573-076b-4ddb-a302-b066f1a9cdd9",
   "metadata": {},
   "outputs": [],
   "source": [
    "onehot_df = pd.get_dummies(df['departamento'])*1\n",
    "onehot_df"
   ]
  },
  {
   "cell_type": "code",
   "execution_count": null,
   "id": "2bfaddc9",
   "metadata": {
    "scrolled": true
   },
   "outputs": [],
   "source": [
    "# One-hot encoding\n",
    "df_encoded = pd.get_dummies(df, columns=[\"ciudad\"]) # NO HACER SI HAY MUCHAS CATEGORIAS!\n",
    "df_encoded.head()\n"
   ]
  },
  {
   "cell_type": "code",
   "execution_count": null,
   "id": "200e5939-09d5-440b-ad89-b285c8a8843b",
   "metadata": {},
   "outputs": [],
   "source": [
    "df_encoded.drop(columns=['id','nombre','apellido'],inplace=True)"
   ]
  },
  {
   "cell_type": "code",
   "execution_count": null,
   "id": "6cb011fd-fce5-4a5b-85e5-04211edba8d9",
   "metadata": {},
   "outputs": [],
   "source": [
    "df_encoded.head()"
   ]
  },
  {
   "cell_type": "markdown",
   "id": "cc39b454",
   "metadata": {},
   "source": [
    "## 8. Feature Engineering = Creatividad"
   ]
  },
  {
   "cell_type": "code",
   "execution_count": null,
   "id": "be798981-2957-4ca4-b44f-20759297bfdb",
   "metadata": {},
   "outputs": [],
   "source": [
    "# Crear margen = ventas - costes\n",
    "df[\"margen\"] = df[\"ventas\"] - df[\"costes\"]\n",
    "df.head()"
   ]
  },
  {
   "cell_type": "code",
   "execution_count": null,
   "id": "29fbb4aa-4830-4863-b0b7-d356f87cb068",
   "metadata": {},
   "outputs": [],
   "source": [
    "# Crear beneficio relativo\n",
    "df[\"beneficio_pct\"] = (df[\"margen\"] / df[\"ventas\"]).round(2)"
   ]
  },
  {
   "cell_type": "code",
   "execution_count": null,
   "id": "44ac5b1f-856a-4407-afc8-b30dc0053bd5",
   "metadata": {},
   "outputs": [],
   "source": [
    "df.head()"
   ]
  },
  {
   "cell_type": "code",
   "execution_count": null,
   "id": "efb9d0c5-0eb6-428f-99fd-8b2467568317",
   "metadata": {},
   "outputs": [],
   "source": [
    "# Crear columna nombre_completo\n",
    "df[\"nombre_completo\"] = df[\"nombre\"] + \" \" + df[\"apellido\"]\n",
    "df.head()"
   ]
  },
  {
   "cell_type": "code",
   "execution_count": null,
   "id": "e61fb7f6-9635-428b-b8b9-0f1572994395",
   "metadata": {},
   "outputs": [],
   "source": [
    "# Crear variable booleana\n",
    "df[\"es_joven\"] = df[\"edad\"] < 30\n",
    "df[\"es_joven\"] = df[\"es_joven\"]*1  # Lo que es False se pone 0 y lo que es True se pone 1\n",
    "df.head()"
   ]
  },
  {
   "cell_type": "code",
   "execution_count": null,
   "id": "d1cc2105",
   "metadata": {},
   "outputs": [],
   "source": [
    "# Extraer mes del contrato\n",
    "df[\"fecha_contrato\"] = df[\"fecha_contrato\"]\n",
    "df[\"mes_contrato\"] = df[\"fecha_contrato\"].dt.month\n",
    "df.head()\n"
   ]
  },
  {
   "cell_type": "code",
   "execution_count": null,
   "id": "b1218207-ae3a-4a4c-b990-b405090c8675",
   "metadata": {},
   "outputs": [],
   "source": []
  },
  {
   "cell_type": "code",
   "execution_count": null,
   "id": "101fe722-e7e0-49d5-85b2-a0c51d40d0a8",
   "metadata": {},
   "outputs": [],
   "source": []
  }
 ],
 "metadata": {
  "kernelspec": {
   "display_name": "Python 3 (ipykernel)",
   "language": "python",
   "name": "python3"
  },
  "language_info": {
   "codemirror_mode": {
    "name": "ipython",
    "version": 3
   },
   "file_extension": ".py",
   "mimetype": "text/x-python",
   "name": "python",
   "nbconvert_exporter": "python",
   "pygments_lexer": "ipython3",
   "version": "3.12.2"
  }
 },
 "nbformat": 4,
 "nbformat_minor": 5
}
