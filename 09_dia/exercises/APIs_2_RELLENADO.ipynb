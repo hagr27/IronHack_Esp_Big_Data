{
 "cells": [
  {
   "cell_type": "markdown",
   "metadata": {},
   "source": [
    "<center>\n",
    "<img src=\"https://openclipart.org/image/400px/215664\"\n",
    "    style=\"width:35%;\">\n",
    "    <h1 style=\"color: #00BFFF;\">APIs</h1>\n",
    "</center>"
   ]
  },
  {
   "cell_type": "markdown",
   "metadata": {},
   "source": [
    "##### **RESTful APIs** provide a **standardized way** to retrieve, update, or delete data from other systems."
   ]
  },
  {
   "cell_type": "markdown",
   "metadata": {},
   "source": [
    "- Usually, **we (the client) send a request, and they (the server) return a response, often in JSON - JavaScript Object Notation - format**. While JSON looks similar to the dictionaries we're used to in Python, it's worth noting that when represented as raw text (e.g., in an API response), the entire JSON structure is a *string*. However, within that structure, JSON can represent various data types like numbers, booleans, and arrays, not just strings.\n",
    "\n",
    "- APIs always need to provide documentation for their various services: **endpoints**.  Each endpoint is a different URL.  \n",
    "- Sometimes we have to pass **parameters** to an API endpoint, similar to when we pass parameters to a Python function.\n",
    "\n",
    "At this point in the Bootcamp, **reading documentation becomes essential**, as each API will \"work\" differently, and to use it, we will need to know what it requires.\n",
    "\n",
    "[Here](https://github.com/public-apis/public-apis) is a repository where you can find several free APIs if you feel like exploring a bit."
   ]
  },
  {
   "cell_type": "markdown",
   "metadata": {},
   "source": [
    "<h2 style=\"color: #008080;\">APIs with Python</h2>"
   ]
  },
  {
   "cell_type": "markdown",
   "metadata": {},
   "source": [
    "You can make requests to RESTful APIs using libraries like `requests` (same we used for web scraping!). "
   ]
  },
  {
   "cell_type": "code",
   "execution_count": null,
   "metadata": {},
   "outputs": [],
   "source": [
    "# pip install requests"
   ]
  },
  {
   "cell_type": "markdown",
   "metadata": {},
   "source": [
    "<h1 style=\"color: #00BFFF;\">00 | Use case: International Space Station</h1>"
   ]
  },
  {
   "cell_type": "code",
   "execution_count": 1,
   "metadata": {},
   "outputs": [],
   "source": [
    "# 📚 Basic libraries\n",
    "import requests\n",
    "import pandas as pd"
   ]
  },
  {
   "cell_type": "markdown",
   "metadata": {},
   "source": [
    "<h1 style=\"color: #00BFFF;\">01 | Data Extraction</h1>"
   ]
  },
  {
   "cell_type": "markdown",
   "metadata": {},
   "source": [
    "<center>\n",
    "<img src=\"https://upload.wikimedia.org/wikipedia/commons/thumb/1/17/STS-134_EVA4_view_to_the_Space_Shuttle_Endeavour.jpg/1920px-STS-134_EVA4_view_to_the_Space_Shuttle_Endeavour.jpg\"\n",
    "    style=\"width:40%;\">\n",
    "</center>"
   ]
  },
  {
   "cell_type": "markdown",
   "metadata": {},
   "source": [
    "Let's get information from ISS (International Space Station)! We'll start looking at the [ISS API documentation](https://wheretheiss.at/w/developer)"
   ]
  },
  {
   "cell_type": "markdown",
   "metadata": {},
   "source": [
    "<h2 style=\"color: #008080;\">Endpoints</h2>"
   ]
  },
  {
   "cell_type": "markdown",
   "metadata": {},
   "source": [
    "#### Accessing an **endpoint**\n",
    "\n",
    "APIs always need to provide documentation for their various services: **endpoints**.  Each endpoint is a different URL.  "
   ]
  },
  {
   "cell_type": "code",
   "execution_count": 3,
   "metadata": {},
   "outputs": [],
   "source": [
    "# We'll use the endpoint satellites, we read it gives us information about satellites\n",
    "url = \"https://api.wheretheiss.at/v1/satellites\""
   ]
  },
  {
   "cell_type": "markdown",
   "metadata": {},
   "source": [
    "**Examples**\n",
    "- Satellite details: `https://api.wheretheiss.at/v1/satellites`\n",
    "- ISS position: `https://api.wheretheiss.at/v1/satellites/25544`\n",
    "- Coordinates information: `https://api.wheretheiss.at/v1/coordinates/37.795517,-122.393693`\n",
    "\n"
   ]
  },
  {
   "cell_type": "markdown",
   "metadata": {},
   "source": [
    "This API allows you to access various data related to the International Space Station (ISS), including its current, past, or future position, timezone information for specific coordinates, and more.\n",
    "\n",
    "**Key Features**\n",
    "- **Authentication**: No authentication is currently required, but future endpoints may include this.\n",
    "- **Rate Limiting**: Limited to approximately 1 request per second.\n",
    "- **Responses**: Default to JSON format, with optional parameters to modify response appearance.\n",
    "- **Endpoints**: Several endpoints provide different types of information:\n",
    "    - **satellites**: Information about satellites, including the ISS.\n"
   ]
  },
  {
   "cell_type": "markdown",
   "metadata": {},
   "source": [
    "<h2 style=\"color: #008080;\">GET</h2>"
   ]
  },
  {
   "cell_type": "markdown",
   "metadata": {},
   "source": [
    "Making a `GET request` to the API is simply a call to a `URL` that returns information."
   ]
  },
  {
   "cell_type": "markdown",
   "metadata": {},
   "source": [
    "Here is an example on how to make a request with Python:\n",
    "\n",
    "```python\n",
    "url = \"https://api.example.com/products\"\n",
    "response = requests.get(url)\n",
    "\n",
    "if response.status_code == 200:\n",
    "    products = response.json()\n",
    "    # Now you can analyze and work with the products data in Python\n",
    "```"
   ]
  },
  {
   "cell_type": "code",
   "execution_count": 5,
   "metadata": {},
   "outputs": [],
   "source": [
    "response = requests.get(url)\n",
    "data = response.json()"
   ]
  },
  {
   "cell_type": "code",
   "execution_count": 27,
   "metadata": {},
   "outputs": [
    {
     "data": {
      "text/plain": [
       "list"
      ]
     },
     "execution_count": 27,
     "metadata": {},
     "output_type": "execute_result"
    }
   ],
   "source": [
    "type(data)"
   ]
  },
  {
   "cell_type": "code",
   "execution_count": 7,
   "metadata": {},
   "outputs": [
    {
     "data": {
      "text/plain": [
       "[{'name': 'iss', 'id': 25544}]"
      ]
     },
     "execution_count": 7,
     "metadata": {},
     "output_type": "execute_result"
    }
   ],
   "source": [
    "data"
   ]
  },
  {
   "cell_type": "code",
   "execution_count": 9,
   "metadata": {},
   "outputs": [
    {
     "data": {
      "text/plain": [
       "1"
      ]
     },
     "execution_count": 9,
     "metadata": {},
     "output_type": "execute_result"
    }
   ],
   "source": [
    "len(data)"
   ]
  },
  {
   "cell_type": "code",
   "execution_count": 17,
   "metadata": {},
   "outputs": [
    {
     "data": {
      "text/plain": [
       "'25544'"
      ]
     },
     "execution_count": 17,
     "metadata": {},
     "output_type": "execute_result"
    }
   ],
   "source": [
    "str(data[]['id'])"
   ]
  },
  {
   "cell_type": "code",
   "execution_count": 21,
   "metadata": {},
   "outputs": [
    {
     "data": {
      "text/plain": [
       "'25544'"
      ]
     },
     "execution_count": 21,
     "metadata": {},
     "output_type": "execute_result"
    }
   ],
   "source": [
    "# ¿Cómo sacarias el id de este satelite? Conviertelo en string\n",
    "id_ = str(data[0]['id'])\n",
    "id_"
   ]
  },
  {
   "cell_type": "code",
   "execution_count": 25,
   "metadata": {},
   "outputs": [
    {
     "data": {
      "text/plain": [
       "'https://api.wheretheiss.at/v1/satellites/25544'"
      ]
     },
     "execution_count": 25,
     "metadata": {},
     "output_type": "execute_result"
    }
   ],
   "source": [
    "# Crea la url del id\n",
    "url_id = url + '/' + id_\n",
    "url_id"
   ]
  },
  {
   "cell_type": "code",
   "execution_count": 29,
   "metadata": {},
   "outputs": [
    {
     "data": {
      "text/plain": [
       "{'name': 'iss',\n",
       " 'id': 25544,\n",
       " 'latitude': 34.115305253851,\n",
       " 'longitude': 37.206378422647,\n",
       " 'altitude': 414.48427162453,\n",
       " 'velocity': 27605.982819302,\n",
       " 'visibility': 'daylight',\n",
       " 'footprint': 4479.2947777087,\n",
       " 'timestamp': 1758796953,\n",
       " 'daynum': 2460943.9462153,\n",
       " 'solar_lat': -1.0427815567723,\n",
       " 'solar_lon': 17.261545196442,\n",
       " 'units': 'kilometers'}"
      ]
     },
     "execution_count": 29,
     "metadata": {},
     "output_type": "execute_result"
    }
   ],
   "source": [
    "response2 = requests.get(url_id)\n",
    "data_id = response2.json()\n",
    "data_id"
   ]
  },
  {
   "cell_type": "code",
   "execution_count": 33,
   "metadata": {},
   "outputs": [
    {
     "data": {
      "text/plain": [
       "dict"
      ]
     },
     "execution_count": 33,
     "metadata": {},
     "output_type": "execute_result"
    }
   ],
   "source": [
    "type(data_id)"
   ]
  },
  {
   "cell_type": "markdown",
   "metadata": {},
   "source": [
    "Sometimes we can pass **parameters** to an API endpoint, similar to when we pass parameters to a Python function."
   ]
  },
  {
   "cell_type": "markdown",
   "metadata": {},
   "source": [
    "- API parameters are specific values that you include in a request to an API endpoint to filter, sort, or detail the data that you want to retrieve. They allow you to customize the request to get exactly the information you need."
   ]
  },
  {
   "cell_type": "markdown",
   "metadata": {},
   "source": [
    "- There are several types of parameters that can be used in API requests, such as Path Parameters, Query Parameters, Header Parameters and Request Body Parameters. Let's look at them with an example using another endpoint."
   ]
  },
  {
   "cell_type": "markdown",
   "metadata": {},
   "source": [
    "<h2 style=\"color: #008080;\">Path Parameters</h2>"
   ]
  },
  {
   "cell_type": "markdown",
   "metadata": {},
   "source": [
    "- **Endpoints**: Several endpoints provide different types of information:\n",
    "    - **satellites**: Information about satellites, including the ISS.\n",
    "    - **satellites/[id]**: Position, velocity, and related information for a satellite."
   ]
  },
  {
   "cell_type": "code",
   "execution_count": null,
   "metadata": {},
   "outputs": [],
   "source": [
    "# data[0][\"id\"]"
   ]
  },
  {
   "cell_type": "code",
   "execution_count": 35,
   "metadata": {},
   "outputs": [],
   "source": [
    "key = str(data[0][\"id\"])"
   ]
  },
  {
   "cell_type": "code",
   "execution_count": 37,
   "metadata": {},
   "outputs": [],
   "source": [
    "iss = \"https://api.wheretheiss.at/v1/satellites/\"+key"
   ]
  },
  {
   "cell_type": "code",
   "execution_count": 39,
   "metadata": {},
   "outputs": [],
   "source": [
    "response = requests.get(iss)\n",
    "data_particular = response.json()"
   ]
  },
  {
   "cell_type": "code",
   "execution_count": 40,
   "metadata": {},
   "outputs": [
    {
     "data": {
      "text/plain": [
       "{'name': 'iss',\n",
       " 'id': 25544,\n",
       " 'latitude': 42.763850703163,\n",
       " 'longitude': 50.769904136958,\n",
       " 'altitude': 416.63703204582,\n",
       " 'velocity': 27604.164812494,\n",
       " 'visibility': 'daylight',\n",
       " 'footprint': 4490.3144630567,\n",
       " 'timestamp': 1758797173,\n",
       " 'daynum': 2460943.9487616,\n",
       " 'solar_lat': -1.0437731679845,\n",
       " 'solar_lon': 16.344658945323,\n",
       " 'units': 'kilometers'}"
      ]
     },
     "execution_count": 40,
     "metadata": {},
     "output_type": "execute_result"
    }
   ],
   "source": [
    "data_particular"
   ]
  },
  {
   "cell_type": "markdown",
   "metadata": {},
   "source": [
    "##### **Path Parameters**\n",
    "\n",
    "These are embedded in the URL path and are used to identify a specific resource. For example, in the URL above `https://api.wheretheiss.at/v1/satellites/25544`, the number `25544` is a path parameter that identifies a specific sattelite."
   ]
  },
  {
   "cell_type": "markdown",
   "metadata": {},
   "source": [
    "<h2 style=\"color: #008080;\">Where is my Data?</h2>"
   ]
  },
  {
   "cell_type": "code",
   "execution_count": null,
   "metadata": {},
   "outputs": [],
   "source": [
    "import pandas as pd"
   ]
  },
  {
   "cell_type": "code",
   "execution_count": 44,
   "metadata": {},
   "outputs": [],
   "source": [
    "df = pd.DataFrame([data_particular])"
   ]
  },
  {
   "cell_type": "code",
   "execution_count": 46,
   "metadata": {},
   "outputs": [
    {
     "data": {
      "text/html": [
       "<div>\n",
       "<style scoped>\n",
       "    .dataframe tbody tr th:only-of-type {\n",
       "        vertical-align: middle;\n",
       "    }\n",
       "\n",
       "    .dataframe tbody tr th {\n",
       "        vertical-align: top;\n",
       "    }\n",
       "\n",
       "    .dataframe thead th {\n",
       "        text-align: right;\n",
       "    }\n",
       "</style>\n",
       "<table border=\"1\" class=\"dataframe\">\n",
       "  <thead>\n",
       "    <tr style=\"text-align: right;\">\n",
       "      <th></th>\n",
       "      <th>name</th>\n",
       "      <th>id</th>\n",
       "      <th>latitude</th>\n",
       "      <th>longitude</th>\n",
       "      <th>altitude</th>\n",
       "      <th>velocity</th>\n",
       "      <th>visibility</th>\n",
       "      <th>footprint</th>\n",
       "      <th>timestamp</th>\n",
       "      <th>daynum</th>\n",
       "      <th>solar_lat</th>\n",
       "      <th>solar_lon</th>\n",
       "      <th>units</th>\n",
       "    </tr>\n",
       "  </thead>\n",
       "  <tbody>\n",
       "    <tr>\n",
       "      <th>0</th>\n",
       "      <td>iss</td>\n",
       "      <td>25544</td>\n",
       "      <td>42.763851</td>\n",
       "      <td>50.769904</td>\n",
       "      <td>416.637032</td>\n",
       "      <td>27604.164812</td>\n",
       "      <td>daylight</td>\n",
       "      <td>4490.314463</td>\n",
       "      <td>1758797173</td>\n",
       "      <td>2.460944e+06</td>\n",
       "      <td>-1.043773</td>\n",
       "      <td>16.344659</td>\n",
       "      <td>kilometers</td>\n",
       "    </tr>\n",
       "  </tbody>\n",
       "</table>\n",
       "</div>"
      ],
      "text/plain": [
       "  name     id   latitude  longitude    altitude      velocity visibility  \\\n",
       "0  iss  25544  42.763851  50.769904  416.637032  27604.164812   daylight   \n",
       "\n",
       "     footprint   timestamp        daynum  solar_lat  solar_lon       units  \n",
       "0  4490.314463  1758797173  2.460944e+06  -1.043773  16.344659  kilometers  "
      ]
     },
     "execution_count": 46,
     "metadata": {},
     "output_type": "execute_result"
    }
   ],
   "source": [
    "df"
   ]
  },
  {
   "cell_type": "markdown",
   "metadata": {},
   "source": [
    "<h2 style=\"color: #008080;\">More Data = More Requests</h2>"
   ]
  },
  {
   "cell_type": "code",
   "execution_count": 48,
   "metadata": {},
   "outputs": [],
   "source": [
    "import time"
   ]
  },
  {
   "cell_type": "code",
   "execution_count": 50,
   "metadata": {},
   "outputs": [
    {
     "name": "stdout",
     "output_type": "stream",
     "text": [
      "0\n",
      "1\n",
      "2\n",
      "3\n",
      "4\n",
      "5\n",
      "6\n",
      "7\n",
      "8\n",
      "9\n",
      "10\n",
      "11\n",
      "12\n",
      "13\n",
      "14\n"
     ]
    }
   ],
   "source": [
    "for i in range(15):\n",
    "    print (i)"
   ]
  },
  {
   "cell_type": "code",
   "execution_count": 52,
   "metadata": {},
   "outputs": [],
   "source": [
    "positions = []\n",
    "\n",
    "for i in range(15): # loop runs 15 times = 15 API requests\n",
    "    response = requests.get(url_id)\n",
    "    data2 = response.json()\n",
    "    \n",
    "    positions.append(data2)\n",
    "    time.sleep(1) # pauses 1 second between each request"
   ]
  },
  {
   "cell_type": "code",
   "execution_count": 54,
   "metadata": {},
   "outputs": [
    {
     "data": {
      "text/plain": [
       "list"
      ]
     },
     "execution_count": 54,
     "metadata": {},
     "output_type": "execute_result"
    }
   ],
   "source": [
    "type(positions)"
   ]
  },
  {
   "cell_type": "code",
   "execution_count": 56,
   "metadata": {},
   "outputs": [
    {
     "data": {
      "text/plain": [
       "[{'name': 'iss',\n",
       "  'id': 25544,\n",
       "  'latitude': 48.921699810223,\n",
       "  'longitude': 67.709377107979,\n",
       "  'altitude': 418.52127606261,\n",
       "  'velocity': 27601.58607313,\n",
       "  'visibility': 'daylight',\n",
       "  'footprint': 4499.9327129262,\n",
       "  'timestamp': 1758797387,\n",
       "  'daynum': 2460943.9512384,\n",
       "  'solar_lat': -1.0447377351609,\n",
       "  'solar_lon': 15.452778554783,\n",
       "  'units': 'kilometers'},\n",
       " {'name': 'iss',\n",
       "  'id': 25544,\n",
       "  'latitude': 48.965125621907,\n",
       "  'longitude': 67.886084486891,\n",
       "  'altitude': 418.53634405125,\n",
       "  'velocity': 27601.560413309,\n",
       "  'visibility': 'daylight',\n",
       "  'footprint': 4500.0095276146,\n",
       "  'timestamp': 1758797389,\n",
       "  'daynum': 2460943.9512616,\n",
       "  'solar_lat': -1.0447467497604,\n",
       "  'solar_lon': 15.444443269503,\n",
       "  'units': 'kilometers'},\n",
       " {'name': 'iss',\n",
       "  'id': 25544,\n",
       "  'latitude': 49.008254960879,\n",
       "  'longitude': 68.063115224731,\n",
       "  'altitude': 418.55135339285,\n",
       "  'velocity': 27601.534741756,\n",
       "  'visibility': 'daylight',\n",
       "  'footprint': 4500.0860417403,\n",
       "  'timestamp': 1758797391,\n",
       "  'daynum': 2460943.9512847,\n",
       "  'solar_lat': -1.0447557645352,\n",
       "  'solar_lon': 15.436107816534,\n",
       "  'units': 'kilometers'},\n",
       " {'name': 'iss',\n",
       "  'id': 25544,\n",
       "  'latitude': 49.029707394962,\n",
       "  'longitude': 68.151748373216,\n",
       "  'altitude': 418.55883571857,\n",
       "  'velocity': 27601.521902167,\n",
       "  'visibility': 'daylight',\n",
       "  'footprint': 4500.1241843013,\n",
       "  'timestamp': 1758797392,\n",
       "  'daynum': 2460943.9512963,\n",
       "  'solar_lat': -1.0447602718334,\n",
       "  'solar_lon': 15.431940173891,\n",
       "  'units': 'kilometers'},\n",
       " {'name': 'iss',\n",
       "  'id': 25544,\n",
       "  'latitude': 49.072388067168,\n",
       "  'longitude': 68.329253045269,\n",
       "  'altitude': 418.57375580701,\n",
       "  'velocity': 27601.496215118,\n",
       "  'visibility': 'daylight',\n",
       "  'footprint': 4500.2002410797,\n",
       "  'timestamp': 1758797394,\n",
       "  'daynum': 2460943.9513194,\n",
       "  'solar_lat': -1.0447692864328,\n",
       "  'solar_lon': 15.423604888614,\n",
       "  'units': 'kilometers'},\n",
       " {'name': 'iss',\n",
       "  'id': 25544,\n",
       "  'latitude': 49.114769019094,\n",
       "  'longitude': 68.507074543623,\n",
       "  'altitude': 418.58861624558,\n",
       "  'velocity': 27601.470517934,\n",
       "  'visibility': 'daylight',\n",
       "  'footprint': 4500.2759922302,\n",
       "  'timestamp': 1758797396,\n",
       "  'daynum': 2460943.9513426,\n",
       "  'solar_lat': -1.0447783010293,\n",
       "  'solar_lon': 15.41526960333,\n",
       "  'units': 'kilometers'},\n",
       " {'name': 'iss',\n",
       "  'id': 25544,\n",
       "  'latitude': 49.135846803485,\n",
       "  'longitude': 68.596103719257,\n",
       "  'altitude': 418.59602400939,\n",
       "  'velocity': 27601.457665676,\n",
       "  'visibility': 'daylight',\n",
       "  'footprint': 4500.3137527585,\n",
       "  'timestamp': 1758797397,\n",
       "  'daynum': 2460943.9513542,\n",
       "  'solar_lat': -1.0447828083247,\n",
       "  'solar_lon': 15.411101960681,\n",
       "  'units': 'kilometers'},\n",
       " {'name': 'iss',\n",
       "  'id': 25544,\n",
       "  'latitude': 49.177777238213,\n",
       "  'longitude': 68.774401733107,\n",
       "  'altitude': 418.61079474998,\n",
       "  'velocity': 27601.431953575,\n",
       "  'visibility': 'daylight',\n",
       "  'footprint': 4500.3890443648,\n",
       "  'timestamp': 1758797399,\n",
       "  'daynum': 2460943.9513773,\n",
       "  'solar_lat': -1.0447918231051,\n",
       "  'solar_lon': 15.402766507726,\n",
       "  'units': 'kilometers'},\n",
       " {'name': 'iss',\n",
       "  'id': 25544,\n",
       "  'latitude': 49.219404740736,\n",
       "  'longitude': 68.953009868886,\n",
       "  'altitude': 418.62550485261,\n",
       "  'velocity': 27601.406232925,\n",
       "  'visibility': 'daylight',\n",
       "  'footprint': 4500.4640253536,\n",
       "  'timestamp': 1758797401,\n",
       "  'daynum': 2460943.9514005,\n",
       "  'solar_lat': -1.0448008376987,\n",
       "  'solar_lon': 15.394431222435,\n",
       "  'units': 'kilometers'},\n",
       " {'name': 'iss',\n",
       "  'id': 25544,\n",
       "  'latitude': 49.260729216627,\n",
       "  'longitude': 69.131930418821,\n",
       "  'altitude': 418.64015434203,\n",
       "  'velocity': 27601.380503631,\n",
       "  'visibility': 'daylight',\n",
       "  'footprint': 4500.5386958699,\n",
       "  'timestamp': 1758797403,\n",
       "  'daynum': 2460943.9514236,\n",
       "  'solar_lat': -1.0448098522951,\n",
       "  'solar_lon': 15.386095937153,\n",
       "  'units': 'kilometers'},\n",
       " {'name': 'iss',\n",
       "  'id': 25544,\n",
       "  'latitude': 49.301749728042,\n",
       "  'longitude': 69.311162066951,\n",
       "  'altitude': 418.65474294704,\n",
       "  'velocity': 27601.354766115,\n",
       "  'visibility': 'daylight',\n",
       "  'footprint': 4500.6130545503,\n",
       "  'timestamp': 1758797405,\n",
       "  'daynum': 2460943.9514468,\n",
       "  'solar_lat': -1.0448188668915,\n",
       "  'solar_lon': 15.377760651871,\n",
       "  'units': 'kilometers'},\n",
       " {'name': 'iss',\n",
       "  'id': 25544,\n",
       "  'latitude': 49.322146523927,\n",
       "  'longitude': 69.40089774662,\n",
       "  'altitude': 418.66201462589,\n",
       "  'velocity': 27601.341893887,\n",
       "  'visibility': 'daylight',\n",
       "  'footprint': 4500.650118018,\n",
       "  'timestamp': 1758797406,\n",
       "  'daynum': 2460943.9514583,\n",
       "  'solar_lat': -1.0448233743708,\n",
       "  'solar_lon': 15.373592841551,\n",
       "  'units': 'kilometers'},\n",
       " {'name': 'iss',\n",
       "  'id': 25544,\n",
       "  'latitude': 49.362709331018,\n",
       "  'longitude': 69.580593526735,\n",
       "  'altitude': 418.67651139851,\n",
       "  'velocity': 27601.316144823,\n",
       "  'visibility': 'daylight',\n",
       "  'footprint': 4500.7240064018,\n",
       "  'timestamp': 1758797408,\n",
       "  'daynum': 2460943.9514815,\n",
       "  'solar_lat': -1.0448323889671,\n",
       "  'solar_lon': 15.36525755627,\n",
       "  'units': 'kilometers'},\n",
       " {'name': 'iss',\n",
       "  'id': 25544,\n",
       "  'latitude': 49.402965843141,\n",
       "  'longitude': 69.760597006857,\n",
       "  'altitude': 418.69094661663,\n",
       "  'velocity': 27601.290388581,\n",
       "  'visibility': 'daylight',\n",
       "  'footprint': 4500.7975795814,\n",
       "  'timestamp': 1758797410,\n",
       "  'daynum': 2460943.9515046,\n",
       "  'solar_lat': -1.0448414035635,\n",
       "  'solar_lon': 15.356922270987,\n",
       "  'units': 'kilometers'},\n",
       " {'name': 'iss',\n",
       "  'id': 25544,\n",
       "  'latitude': 49.422978948984,\n",
       "  'longitude': 69.85071369705,\n",
       "  'altitude': 418.69814105992,\n",
       "  'velocity': 27601.277507898,\n",
       "  'visibility': 'daylight',\n",
       "  'footprint': 4500.8342475533,\n",
       "  'timestamp': 1758797411,\n",
       "  'daynum': 2460943.9515162,\n",
       "  'solar_lat': -1.0448459108588,\n",
       "  'solar_lon': 15.352754628341,\n",
       "  'units': 'kilometers'}]"
      ]
     },
     "execution_count": 56,
     "metadata": {},
     "output_type": "execute_result"
    }
   ],
   "source": [
    "positions"
   ]
  },
  {
   "cell_type": "code",
   "execution_count": 58,
   "metadata": {},
   "outputs": [
    {
     "data": {
      "text/html": [
       "<div>\n",
       "<style scoped>\n",
       "    .dataframe tbody tr th:only-of-type {\n",
       "        vertical-align: middle;\n",
       "    }\n",
       "\n",
       "    .dataframe tbody tr th {\n",
       "        vertical-align: top;\n",
       "    }\n",
       "\n",
       "    .dataframe thead th {\n",
       "        text-align: right;\n",
       "    }\n",
       "</style>\n",
       "<table border=\"1\" class=\"dataframe\">\n",
       "  <thead>\n",
       "    <tr style=\"text-align: right;\">\n",
       "      <th></th>\n",
       "      <th>name</th>\n",
       "      <th>id</th>\n",
       "      <th>latitude</th>\n",
       "      <th>longitude</th>\n",
       "      <th>altitude</th>\n",
       "      <th>velocity</th>\n",
       "      <th>visibility</th>\n",
       "      <th>footprint</th>\n",
       "      <th>timestamp</th>\n",
       "      <th>daynum</th>\n",
       "      <th>solar_lat</th>\n",
       "      <th>solar_lon</th>\n",
       "      <th>units</th>\n",
       "    </tr>\n",
       "  </thead>\n",
       "  <tbody>\n",
       "    <tr>\n",
       "      <th>0</th>\n",
       "      <td>iss</td>\n",
       "      <td>25544</td>\n",
       "      <td>48.921700</td>\n",
       "      <td>67.709377</td>\n",
       "      <td>418.521276</td>\n",
       "      <td>27601.586073</td>\n",
       "      <td>daylight</td>\n",
       "      <td>4499.932713</td>\n",
       "      <td>1758797387</td>\n",
       "      <td>2.460944e+06</td>\n",
       "      <td>-1.044738</td>\n",
       "      <td>15.452779</td>\n",
       "      <td>kilometers</td>\n",
       "    </tr>\n",
       "    <tr>\n",
       "      <th>1</th>\n",
       "      <td>iss</td>\n",
       "      <td>25544</td>\n",
       "      <td>48.965126</td>\n",
       "      <td>67.886084</td>\n",
       "      <td>418.536344</td>\n",
       "      <td>27601.560413</td>\n",
       "      <td>daylight</td>\n",
       "      <td>4500.009528</td>\n",
       "      <td>1758797389</td>\n",
       "      <td>2.460944e+06</td>\n",
       "      <td>-1.044747</td>\n",
       "      <td>15.444443</td>\n",
       "      <td>kilometers</td>\n",
       "    </tr>\n",
       "    <tr>\n",
       "      <th>2</th>\n",
       "      <td>iss</td>\n",
       "      <td>25544</td>\n",
       "      <td>49.008255</td>\n",
       "      <td>68.063115</td>\n",
       "      <td>418.551353</td>\n",
       "      <td>27601.534742</td>\n",
       "      <td>daylight</td>\n",
       "      <td>4500.086042</td>\n",
       "      <td>1758797391</td>\n",
       "      <td>2.460944e+06</td>\n",
       "      <td>-1.044756</td>\n",
       "      <td>15.436108</td>\n",
       "      <td>kilometers</td>\n",
       "    </tr>\n",
       "    <tr>\n",
       "      <th>3</th>\n",
       "      <td>iss</td>\n",
       "      <td>25544</td>\n",
       "      <td>49.029707</td>\n",
       "      <td>68.151748</td>\n",
       "      <td>418.558836</td>\n",
       "      <td>27601.521902</td>\n",
       "      <td>daylight</td>\n",
       "      <td>4500.124184</td>\n",
       "      <td>1758797392</td>\n",
       "      <td>2.460944e+06</td>\n",
       "      <td>-1.044760</td>\n",
       "      <td>15.431940</td>\n",
       "      <td>kilometers</td>\n",
       "    </tr>\n",
       "    <tr>\n",
       "      <th>4</th>\n",
       "      <td>iss</td>\n",
       "      <td>25544</td>\n",
       "      <td>49.072388</td>\n",
       "      <td>68.329253</td>\n",
       "      <td>418.573756</td>\n",
       "      <td>27601.496215</td>\n",
       "      <td>daylight</td>\n",
       "      <td>4500.200241</td>\n",
       "      <td>1758797394</td>\n",
       "      <td>2.460944e+06</td>\n",
       "      <td>-1.044769</td>\n",
       "      <td>15.423605</td>\n",
       "      <td>kilometers</td>\n",
       "    </tr>\n",
       "    <tr>\n",
       "      <th>5</th>\n",
       "      <td>iss</td>\n",
       "      <td>25544</td>\n",
       "      <td>49.114769</td>\n",
       "      <td>68.507075</td>\n",
       "      <td>418.588616</td>\n",
       "      <td>27601.470518</td>\n",
       "      <td>daylight</td>\n",
       "      <td>4500.275992</td>\n",
       "      <td>1758797396</td>\n",
       "      <td>2.460944e+06</td>\n",
       "      <td>-1.044778</td>\n",
       "      <td>15.415270</td>\n",
       "      <td>kilometers</td>\n",
       "    </tr>\n",
       "    <tr>\n",
       "      <th>6</th>\n",
       "      <td>iss</td>\n",
       "      <td>25544</td>\n",
       "      <td>49.135847</td>\n",
       "      <td>68.596104</td>\n",
       "      <td>418.596024</td>\n",
       "      <td>27601.457666</td>\n",
       "      <td>daylight</td>\n",
       "      <td>4500.313753</td>\n",
       "      <td>1758797397</td>\n",
       "      <td>2.460944e+06</td>\n",
       "      <td>-1.044783</td>\n",
       "      <td>15.411102</td>\n",
       "      <td>kilometers</td>\n",
       "    </tr>\n",
       "    <tr>\n",
       "      <th>7</th>\n",
       "      <td>iss</td>\n",
       "      <td>25544</td>\n",
       "      <td>49.177777</td>\n",
       "      <td>68.774402</td>\n",
       "      <td>418.610795</td>\n",
       "      <td>27601.431954</td>\n",
       "      <td>daylight</td>\n",
       "      <td>4500.389044</td>\n",
       "      <td>1758797399</td>\n",
       "      <td>2.460944e+06</td>\n",
       "      <td>-1.044792</td>\n",
       "      <td>15.402767</td>\n",
       "      <td>kilometers</td>\n",
       "    </tr>\n",
       "    <tr>\n",
       "      <th>8</th>\n",
       "      <td>iss</td>\n",
       "      <td>25544</td>\n",
       "      <td>49.219405</td>\n",
       "      <td>68.953010</td>\n",
       "      <td>418.625505</td>\n",
       "      <td>27601.406233</td>\n",
       "      <td>daylight</td>\n",
       "      <td>4500.464025</td>\n",
       "      <td>1758797401</td>\n",
       "      <td>2.460944e+06</td>\n",
       "      <td>-1.044801</td>\n",
       "      <td>15.394431</td>\n",
       "      <td>kilometers</td>\n",
       "    </tr>\n",
       "    <tr>\n",
       "      <th>9</th>\n",
       "      <td>iss</td>\n",
       "      <td>25544</td>\n",
       "      <td>49.260729</td>\n",
       "      <td>69.131930</td>\n",
       "      <td>418.640154</td>\n",
       "      <td>27601.380504</td>\n",
       "      <td>daylight</td>\n",
       "      <td>4500.538696</td>\n",
       "      <td>1758797403</td>\n",
       "      <td>2.460944e+06</td>\n",
       "      <td>-1.044810</td>\n",
       "      <td>15.386096</td>\n",
       "      <td>kilometers</td>\n",
       "    </tr>\n",
       "    <tr>\n",
       "      <th>10</th>\n",
       "      <td>iss</td>\n",
       "      <td>25544</td>\n",
       "      <td>49.301750</td>\n",
       "      <td>69.311162</td>\n",
       "      <td>418.654743</td>\n",
       "      <td>27601.354766</td>\n",
       "      <td>daylight</td>\n",
       "      <td>4500.613055</td>\n",
       "      <td>1758797405</td>\n",
       "      <td>2.460944e+06</td>\n",
       "      <td>-1.044819</td>\n",
       "      <td>15.377761</td>\n",
       "      <td>kilometers</td>\n",
       "    </tr>\n",
       "    <tr>\n",
       "      <th>11</th>\n",
       "      <td>iss</td>\n",
       "      <td>25544</td>\n",
       "      <td>49.322147</td>\n",
       "      <td>69.400898</td>\n",
       "      <td>418.662015</td>\n",
       "      <td>27601.341894</td>\n",
       "      <td>daylight</td>\n",
       "      <td>4500.650118</td>\n",
       "      <td>1758797406</td>\n",
       "      <td>2.460944e+06</td>\n",
       "      <td>-1.044823</td>\n",
       "      <td>15.373593</td>\n",
       "      <td>kilometers</td>\n",
       "    </tr>\n",
       "    <tr>\n",
       "      <th>12</th>\n",
       "      <td>iss</td>\n",
       "      <td>25544</td>\n",
       "      <td>49.362709</td>\n",
       "      <td>69.580594</td>\n",
       "      <td>418.676511</td>\n",
       "      <td>27601.316145</td>\n",
       "      <td>daylight</td>\n",
       "      <td>4500.724006</td>\n",
       "      <td>1758797408</td>\n",
       "      <td>2.460944e+06</td>\n",
       "      <td>-1.044832</td>\n",
       "      <td>15.365258</td>\n",
       "      <td>kilometers</td>\n",
       "    </tr>\n",
       "    <tr>\n",
       "      <th>13</th>\n",
       "      <td>iss</td>\n",
       "      <td>25544</td>\n",
       "      <td>49.402966</td>\n",
       "      <td>69.760597</td>\n",
       "      <td>418.690947</td>\n",
       "      <td>27601.290389</td>\n",
       "      <td>daylight</td>\n",
       "      <td>4500.797580</td>\n",
       "      <td>1758797410</td>\n",
       "      <td>2.460944e+06</td>\n",
       "      <td>-1.044841</td>\n",
       "      <td>15.356922</td>\n",
       "      <td>kilometers</td>\n",
       "    </tr>\n",
       "    <tr>\n",
       "      <th>14</th>\n",
       "      <td>iss</td>\n",
       "      <td>25544</td>\n",
       "      <td>49.422979</td>\n",
       "      <td>69.850714</td>\n",
       "      <td>418.698141</td>\n",
       "      <td>27601.277508</td>\n",
       "      <td>daylight</td>\n",
       "      <td>4500.834248</td>\n",
       "      <td>1758797411</td>\n",
       "      <td>2.460944e+06</td>\n",
       "      <td>-1.044846</td>\n",
       "      <td>15.352755</td>\n",
       "      <td>kilometers</td>\n",
       "    </tr>\n",
       "  </tbody>\n",
       "</table>\n",
       "</div>"
      ],
      "text/plain": [
       "   name     id   latitude  longitude    altitude      velocity visibility  \\\n",
       "0   iss  25544  48.921700  67.709377  418.521276  27601.586073   daylight   \n",
       "1   iss  25544  48.965126  67.886084  418.536344  27601.560413   daylight   \n",
       "2   iss  25544  49.008255  68.063115  418.551353  27601.534742   daylight   \n",
       "3   iss  25544  49.029707  68.151748  418.558836  27601.521902   daylight   \n",
       "4   iss  25544  49.072388  68.329253  418.573756  27601.496215   daylight   \n",
       "5   iss  25544  49.114769  68.507075  418.588616  27601.470518   daylight   \n",
       "6   iss  25544  49.135847  68.596104  418.596024  27601.457666   daylight   \n",
       "7   iss  25544  49.177777  68.774402  418.610795  27601.431954   daylight   \n",
       "8   iss  25544  49.219405  68.953010  418.625505  27601.406233   daylight   \n",
       "9   iss  25544  49.260729  69.131930  418.640154  27601.380504   daylight   \n",
       "10  iss  25544  49.301750  69.311162  418.654743  27601.354766   daylight   \n",
       "11  iss  25544  49.322147  69.400898  418.662015  27601.341894   daylight   \n",
       "12  iss  25544  49.362709  69.580594  418.676511  27601.316145   daylight   \n",
       "13  iss  25544  49.402966  69.760597  418.690947  27601.290389   daylight   \n",
       "14  iss  25544  49.422979  69.850714  418.698141  27601.277508   daylight   \n",
       "\n",
       "      footprint   timestamp        daynum  solar_lat  solar_lon       units  \n",
       "0   4499.932713  1758797387  2.460944e+06  -1.044738  15.452779  kilometers  \n",
       "1   4500.009528  1758797389  2.460944e+06  -1.044747  15.444443  kilometers  \n",
       "2   4500.086042  1758797391  2.460944e+06  -1.044756  15.436108  kilometers  \n",
       "3   4500.124184  1758797392  2.460944e+06  -1.044760  15.431940  kilometers  \n",
       "4   4500.200241  1758797394  2.460944e+06  -1.044769  15.423605  kilometers  \n",
       "5   4500.275992  1758797396  2.460944e+06  -1.044778  15.415270  kilometers  \n",
       "6   4500.313753  1758797397  2.460944e+06  -1.044783  15.411102  kilometers  \n",
       "7   4500.389044  1758797399  2.460944e+06  -1.044792  15.402767  kilometers  \n",
       "8   4500.464025  1758797401  2.460944e+06  -1.044801  15.394431  kilometers  \n",
       "9   4500.538696  1758797403  2.460944e+06  -1.044810  15.386096  kilometers  \n",
       "10  4500.613055  1758797405  2.460944e+06  -1.044819  15.377761  kilometers  \n",
       "11  4500.650118  1758797406  2.460944e+06  -1.044823  15.373593  kilometers  \n",
       "12  4500.724006  1758797408  2.460944e+06  -1.044832  15.365258  kilometers  \n",
       "13  4500.797580  1758797410  2.460944e+06  -1.044841  15.356922  kilometers  \n",
       "14  4500.834248  1758797411  2.460944e+06  -1.044846  15.352755  kilometers  "
      ]
     },
     "execution_count": 58,
     "metadata": {},
     "output_type": "execute_result"
    }
   ],
   "source": [
    "df2 = pd.DataFrame(positions)\n",
    "df2"
   ]
  },
  {
   "cell_type": "code",
   "execution_count": null,
   "metadata": {},
   "outputs": [],
   "source": [
    "#df2.to_csv(\"satelite.csv\",header=True, index=False)"
   ]
  },
  {
   "cell_type": "code",
   "execution_count": null,
   "metadata": {},
   "outputs": [],
   "source": []
  },
  {
   "cell_type": "code",
   "execution_count": 60,
   "metadata": {},
   "outputs": [
    {
     "data": {
      "text/plain": [
       "<Response [200]>"
      ]
     },
     "execution_count": 60,
     "metadata": {},
     "output_type": "execute_result"
    }
   ],
   "source": [
    "url_matadero = 'https://api.wheretheiss.at/v1/coordinates/40.391883,-3.6985'\n",
    "respuesta = requests.get(url_matadero)\n",
    "respuesta"
   ]
  },
  {
   "cell_type": "code",
   "execution_count": 62,
   "metadata": {},
   "outputs": [
    {
     "data": {
      "text/plain": [
       "{'latitude': '40.391883',\n",
       " 'longitude': '-3.6985',\n",
       " 'timezone_id': 'Europe/Madrid',\n",
       " 'offset': 2,\n",
       " 'country_code': 'ES',\n",
       " 'map_url': 'https://maps.google.com/maps?q=40.391883,-3.6985&z=4'}"
      ]
     },
     "execution_count": 62,
     "metadata": {},
     "output_type": "execute_result"
    }
   ],
   "source": [
    "matadero = respuesta.json()\n",
    "matadero"
   ]
  },
  {
   "cell_type": "code",
   "execution_count": null,
   "metadata": {},
   "outputs": [],
   "source": []
  }
 ],
 "metadata": {
  "kernelspec": {
   "display_name": "Python 3 (ipykernel)",
   "language": "python",
   "name": "python3"
  },
  "language_info": {
   "codemirror_mode": {
    "name": "ipython",
    "version": 3
   },
   "file_extension": ".py",
   "mimetype": "text/x-python",
   "name": "python",
   "nbconvert_exporter": "python",
   "pygments_lexer": "ipython3",
   "version": "3.12.2"
  }
 },
 "nbformat": 4,
 "nbformat_minor": 4
}
