{
 "cells": [
  {
   "cell_type": "markdown",
   "metadata": {},
   "source": [
    "<center>\n",
    "<img src=\"https://encrypted-tbn0.gstatic.com/images?q=tbn:ANd9GcSWTop95oa3L3azM_q5GPHaWDGDKZOE5mFnqQ&s\"\n",
    "    style=\"width:35%;\">\n",
    "</center>"
   ]
  },
  {
   "cell_type": "markdown",
   "metadata": {},
   "source": [
    "<h1 style=\"color: #00BFFF;\">00 | Use case 2: News API</h1>"
   ]
  },
  {
   "cell_type": "markdown",
   "metadata": {},
   "source": [
    "The *News API* lets you locate articles and breaking news headlines from news sources and blogs across the web."
   ]
  },
  {
   "cell_type": "markdown",
   "metadata": {},
   "source": [
    "- Let's look at the [NewsAPI Authentication documentation](https://newsapi.org/docs/authentication)."
   ]
  },
  {
   "cell_type": "markdown",
   "metadata": {},
   "source": [
    "Storing an API key directly in your code can expose sensitive information, especially if your code is publicly available (e.g., on a public GitHub repository). \n",
    "**Check out also git ignore files**\n"
   ]
  },
  {
   "cell_type": "code",
   "execution_count": null,
   "metadata": {},
   "outputs": [],
   "source": [
    "# pip install python-dotenv"
   ]
  },
  {
   "cell_type": "code",
   "execution_count": null,
   "metadata": {},
   "outputs": [],
   "source": [
    "from dotenv import load_dotenv\n",
    "import os "
   ]
  },
  {
   "cell_type": "markdown",
   "metadata": {},
   "source": [
    "echo API_KEY=\"4a607b1154cd48b383b268e88a8aefce\" > .env   # echo API_KEY=*api_code* > .env   # ls -a"
   ]
  },
  {
   "cell_type": "code",
   "execution_count": null,
   "metadata": {},
   "outputs": [],
   "source": [
    "load_dotenv()"
   ]
  },
  {
   "cell_type": "code",
   "execution_count": null,
   "metadata": {},
   "outputs": [],
   "source": [
    "my_key = os.getenv(\"API_KEY\")   #4a607b1154cd48b383b268e88a8aefce\n",
    "my_key"
   ]
  },
  {
   "cell_type": "markdown",
   "metadata": {},
   "source": [
    "<h1 style=\"color: #00BFFF;\">01 | Data Extraction</h1>"
   ]
  },
  {
   "cell_type": "code",
   "execution_count": null,
   "metadata": {},
   "outputs": [],
   "source": [
    "import requests"
   ]
  },
  {
   "cell_type": "markdown",
   "metadata": {},
   "source": [
    "<h2 style=\"color: #008080;\">Where is my Data?</h2>"
   ]
  },
  {
   "cell_type": "markdown",
   "metadata": {},
   "source": [
    "https://newsapi.org/docs/endpoints/top-headlines"
   ]
  },
  {
   "cell_type": "code",
   "execution_count": null,
   "metadata": {},
   "outputs": [],
   "source": [
    "# Parameters for our API\n",
    "url = \"http://newsapi.org/v2/top-headlines\"\n",
    "parameters = {\"country\": \"us\", \"category\": \"entertainment\"}\n",
    "#my_key = os.getenv(\"API_KEY\") #OPCION DESEABLE\n",
    "my_key = \"4a607b1154cd48b383b268e88a8aefce\"  #OPCION NO DESEABLE\n",
    "headers = {\"X-Api-Key\": my_key}  "
   ]
  },
  {
   "cell_type": "code",
   "execution_count": null,
   "metadata": {},
   "outputs": [],
   "source": [
    "response = requests.get(url=url, params=parameters, headers=headers)"
   ]
  },
  {
   "cell_type": "code",
   "execution_count": null,
   "metadata": {},
   "outputs": [],
   "source": [
    "import pandas as pd\n",
    "pd.set_option('display.max_colwidth', None)"
   ]
  },
  {
   "cell_type": "code",
   "execution_count": null,
   "metadata": {},
   "outputs": [],
   "source": [
    "data = response.json()\n",
    "df = pd.DataFrame(data)\n",
    "df"
   ]
  },
  {
   "cell_type": "code",
   "execution_count": null,
   "metadata": {},
   "outputs": [],
   "source": [
    "ejemplo = {'source': {'id': None, 'name': 'Deadline'}, 'author': 'Lynette Rice', 'title': '‘Dancing With The Stars’ Sends Two Couples Home; See Who Derek Hough Declared “A Powerhouse Partnership” - Deadline', 'description': 'Dancing with the Stars week 2 results: Who went home on double elimination night', 'url': 'http://deadline.com/2025/09/dancing-with-the-stars-week-two-results-who-went-home-1236554023/', 'urlToImage': 'https://deadline.com/wp-content/uploads/2025/09/179176_EM209402.jpg?w=1024', 'publishedAt': '2025-09-24T02:01:00Z', 'content': 'It’s week two on Dancing with the Stars, or as host Alfonso Ribeiro proudly reports, “the most watched entertainment show in America!” Hmm, we’ll see if they can sustain that after tonight, especiall… [+6845 chars]'}"
   ]
  },
  {
   "cell_type": "code",
   "execution_count": null,
   "metadata": {},
   "outputs": [],
   "source": [
    "ejemplo"
   ]
  },
  {
   "cell_type": "code",
   "execution_count": null,
   "metadata": {},
   "outputs": [],
   "source": [
    "##### AÑADE UNA COLUMNA CON TITULOS Y OTRA CON LAS FECHAS DE LAS NOTICIAS\n",
    "\n"
   ]
  },
  {
   "cell_type": "code",
   "execution_count": null,
   "metadata": {},
   "outputs": [],
   "source": []
  },
  {
   "cell_type": "code",
   "execution_count": null,
   "metadata": {},
   "outputs": [],
   "source": []
  },
  {
   "cell_type": "code",
   "execution_count": null,
   "metadata": {},
   "outputs": [],
   "source": [
    "## AÑADE OTRAS COLUMNAS QUE CREAS NECESARIAS Y BORRA LAS QUE NO TE SIRVEN\n"
   ]
  },
  {
   "cell_type": "markdown",
   "metadata": {},
   "source": [
    "<h2 style=\"color: #008080;\">Where is my Data? II</h2>"
   ]
  },
  {
   "cell_type": "code",
   "execution_count": null,
   "metadata": {},
   "outputs": [],
   "source": [
    "data.keys()"
   ]
  },
  {
   "cell_type": "code",
   "execution_count": null,
   "metadata": {},
   "outputs": [],
   "source": [
    "data[\"totalResults\"]"
   ]
  },
  {
   "cell_type": "code",
   "execution_count": null,
   "metadata": {},
   "outputs": [],
   "source": [
    "type(data)"
   ]
  },
  {
   "cell_type": "code",
   "execution_count": null,
   "metadata": {},
   "outputs": [],
   "source": [
    "articles = data.get(\"articles\")"
   ]
  },
  {
   "cell_type": "code",
   "execution_count": null,
   "metadata": {},
   "outputs": [],
   "source": [
    "articles"
   ]
  },
  {
   "cell_type": "markdown",
   "metadata": {},
   "source": [
    "<h2 style=\"color: #008080;\">Title, Author and Content</h2>"
   ]
  },
  {
   "cell_type": "code",
   "execution_count": null,
   "metadata": {},
   "outputs": [],
   "source": [
    "data2 = [art[\"title\"] for art in articles] # lets get all the titles using list comprehension\n",
    "data3 = [art[\"author\"] for art in articles] # lets get all the titles using list comprehension\n",
    "data4 = [art[\"content\"] for art in articles] # lets get all the titles using list comprehension"
   ]
  },
  {
   "cell_type": "code",
   "execution_count": null,
   "metadata": {},
   "outputs": [],
   "source": [
    "# Hacemos un dataframe con estos datos???\n",
    "\n"
   ]
  },
  {
   "cell_type": "markdown",
   "metadata": {},
   "source": [
    "<h1 style=\"color: #00BFFF;\">More Examples!</h1>"
   ]
  },
  {
   "cell_type": "markdown",
   "metadata": {},
   "source": [
    "<h1 style=\"color: #00BFFF;\">Images from Pokemon API</h1>"
   ]
  },
  {
   "cell_type": "markdown",
   "metadata": {},
   "source": [
    "<center>\n",
    "<img src=\"https://screenshots.codesandbox.io/9zz0f/65.png\"\n",
    "    style=\"width:40%;\">\n",
    "</center>"
   ]
  },
  {
   "cell_type": "markdown",
   "metadata": {},
   "source": [
    "[PokeAPI](https://pokeapi.co/) is a full RESTful API linked to an extensive database detailing everything about the Pokémon main game series.\n",
    "\n",
    "In the documentation we see that we can get lot's of data. Let's look at the endpoint *pokemon*: ```https://pokeapi.co/api/v2/pokemon/{id or name}/``` "
   ]
  },
  {
   "cell_type": "code",
   "execution_count": null,
   "metadata": {},
   "outputs": [],
   "source": [
    "# ! New library to display images\n",
    "from IPython.display import Image"
   ]
  },
  {
   "cell_type": "code",
   "execution_count": null,
   "metadata": {},
   "outputs": [],
   "source": [
    "def get_pokemon(id_number):\n",
    "    res=requests.get('https://pokeapi.co/api/v2/pokemon/{}'.format(id_number))\n",
    "    \n",
    "    if (res.status_code==200):\n",
    "        data = res.json()\n",
    "        return {\"id\": id_number, 'name':data['name'],'image':data['sprites']['front_default']}\n",
    "    \n",
    "    else:\n",
    "        raise ValueError(\"Cannot get pokemon, id does not exist\")\n",
    "    \n",
    "def print_pokemon(poke):\n",
    "    print(str(poke[\"id\"])+\" \" +poke[\"name\"])\n",
    "    display(Image(url=poke['image']))"
   ]
  },
  {
   "cell_type": "code",
   "execution_count": null,
   "metadata": {},
   "outputs": [],
   "source": [
    "response =requests.get('https://pokeapi.co/api/v2/pokemon/50')\n",
    "data = response.json()\n",
    "data"
   ]
  },
  {
   "cell_type": "code",
   "execution_count": null,
   "metadata": {},
   "outputs": [],
   "source": [
    "#print(data[\"sprites\"][\"front_shiny\"])"
   ]
  },
  {
   "cell_type": "code",
   "execution_count": null,
   "metadata": {},
   "outputs": [],
   "source": [
    "for i in range(5):\n",
    "    print_pokemon(get_pokemon(i + 1))"
   ]
  },
  {
   "cell_type": "markdown",
   "metadata": {},
   "source": [
    "<h2 style=\"color: #008080;\">Also a dataframe</h2>"
   ]
  },
  {
   "cell_type": "code",
   "execution_count": null,
   "metadata": {},
   "outputs": [],
   "source": [
    "df = pd.DataFrame(data.items())\n",
    "df"
   ]
  },
  {
   "cell_type": "markdown",
   "metadata": {},
   "source": [
    "<h1 style=\"color: #00BFFF;\">Coincap API</h1>"
   ]
  },
  {
   "cell_type": "markdown",
   "metadata": {},
   "source": [
    "<center>\n",
    "<img src=\"https://cms.asdxstatic.com/wp-content/uploads/2022/11/28194321/CryptoBro-BlogPost-Outer-R3-1024x576.png\"\n",
    "    style=\"width:40%;\">\n",
    "</center>"
   ]
  },
  {
   "cell_type": "markdown",
   "metadata": {},
   "source": [
    "CoinCap is a useful tool for real-time pricing and market activity for over 1,000 cryptocurrencies. Check the documentation at https://docs.coincap.io/"
   ]
  },
  {
   "cell_type": "code",
   "execution_count": null,
   "metadata": {},
   "outputs": [],
   "source": [
    "import pandas as pd"
   ]
  },
  {
   "cell_type": "code",
   "execution_count": null,
   "metadata": {},
   "outputs": [],
   "source": [
    "url = \"http://api.coincap.io/v2/assets\""
   ]
  },
  {
   "cell_type": "code",
   "execution_count": null,
   "metadata": {},
   "outputs": [],
   "source": [
    "response = requests.get(url)\n",
    "response"
   ]
  },
  {
   "cell_type": "code",
   "execution_count": null,
   "metadata": {},
   "outputs": [],
   "source": [
    "res = response.json()"
   ]
  },
  {
   "cell_type": "code",
   "execution_count": null,
   "metadata": {},
   "outputs": [],
   "source": [
    "res.keys()"
   ]
  },
  {
   "cell_type": "code",
   "execution_count": null,
   "metadata": {},
   "outputs": [],
   "source": [
    "len(res['data'])"
   ]
  },
  {
   "cell_type": "code",
   "execution_count": null,
   "metadata": {},
   "outputs": [],
   "source": [
    "data = pd.DataFrame(res[\"data\"])\n",
    "data.head()"
   ]
  },
  {
   "cell_type": "code",
   "execution_count": null,
   "metadata": {},
   "outputs": [],
   "source": [
    "data.shape"
   ]
  },
  {
   "cell_type": "markdown",
   "metadata": {},
   "source": [
    "<h1 style=\"color: #00BFFF;\">Google Maps Geocoding API</h1>"
   ]
  },
  {
   "cell_type": "code",
   "execution_count": null,
   "metadata": {},
   "outputs": [],
   "source": [
    "import os, requests\n",
    "from dotenv import load_dotenv\n",
    "\n",
    "load_dotenv()\n",
    "key = os.getenv(\"GOOGLE_MAPS_API_KEY\")\n",
    "address = \"1600 Amphitheatre Parkway, Mountain View, CA\"\n",
    "response = requests.get(\"https://maps.googleapis.com/maps/api/geocode/json\", \n",
    "                        params={\"address\": address, \"key\": key})\n",
    "#location = response.json()['results'][0]['geometry']['location']\n",
    "#print(f\"Lat: {location['lat']}, Lng: {location['lng']}\")"
   ]
  },
  {
   "cell_type": "code",
   "execution_count": null,
   "metadata": {},
   "outputs": [],
   "source": [
    "response.json()"
   ]
  },
  {
   "cell_type": "markdown",
   "metadata": {},
   "source": [
    "<h1 style=\"color: #00BFFF;\">ChatGPT API</h1>"
   ]
  },
  {
   "cell_type": "code",
   "execution_count": null,
   "metadata": {},
   "outputs": [],
   "source": [
    "pip install openai"
   ]
  },
  {
   "cell_type": "code",
   "execution_count": null,
   "metadata": {},
   "outputs": [],
   "source": [
    "import os, openai\n",
    "from dotenv import load_dotenv\n",
    "\n",
    "load_dotenv()\n",
    "openai.api_key = os.getenv(\"OPENAI_API_KEY\")\n",
    "response = openai.Completion.create(\n",
    "    model=\"text-davinci-003\", prompt=\"What is the capital of France?\", max_tokens=10\n",
    ")\n",
    "print(response['choices'][0]['text'].strip())"
   ]
  },
  {
   "cell_type": "markdown",
   "metadata": {},
   "source": [
    "<h1 style=\"color: #00BFFF;\">Quotes API</h1>"
   ]
  },
  {
   "cell_type": "code",
   "execution_count": null,
   "metadata": {},
   "outputs": [],
   "source": [
    "import requests\n",
    "import pandas as pd\n",
    "\n",
    "# URL base de la API\n",
    "url = \"https://quotes.toscrape.com/api/quotes?page=1\"\n",
    "\n",
    "# Hacemos la petición\n",
    "resp = requests.get(url)\n",
    "data = resp.json()   # respuesta en JSON\n",
    "\n",
    "# Veamos qué devuelve\n",
    "print(data.keys())\n",
    "print(\"Número de citas en esta página:\", len(data[\"quotes\"]))\n",
    "\n",
    "# Convertir a DataFrame\n",
    "quotes = []\n",
    "for q in data[\"quotes\"]:\n",
    "    quotes.append({\n",
    "        \"cita\": q[\"text\"],\n",
    "        \"autor\": q[\"author\"][\"name\"],\n",
    "        \"tags\": \", \".join(q[\"tags\"])\n",
    "    })\n",
    "\n",
    "df = pd.DataFrame(quotes)\n",
    "df.head()\n"
   ]
  },
  {
   "cell_type": "markdown",
   "metadata": {},
   "source": [
    "<h1 style=\"color: #00BFFF;\">OpenWeatherMap</h1>"
   ]
  },
  {
   "cell_type": "code",
   "execution_count": null,
   "metadata": {},
   "outputs": [],
   "source": [
    "import os, requests\n",
    "from dotenv import load_dotenv\n",
    "\n",
    "# Cargar variables de entorno\n",
    "load_dotenv()\n",
    "key = os.getenv(\"OPENWEATHER_API_KEY\")\n",
    "\n",
    "city = \"London\"\n",
    "\n",
    "# Llamada a la API\n",
    "response = requests.get(\n",
    "    \"http://api.openweathermap.org/data/2.5/weather\",\n",
    "    params={\"q\": city, \"appid\": key, \"units\": \"metric\", \"lang\": \"es\"} # lang=es para español\n",
    ")\n",
    "\n",
    "data = response.json()\n",
    "\n",
    "# Mostrar resultados\n",
    "print(f\"Clima en {city}: {data['weather'][0]['description']}, Temp: {data['main']['temp']}°C\")"
   ]
  },
  {
   "cell_type": "markdown",
   "metadata": {},
   "source": [
    "<h1 style=\"color: #00BFFF;\">Summary</h1>"
   ]
  },
  {
   "cell_type": "markdown",
   "metadata": {},
   "source": [
    "- Import the `requests` library.\n",
    "- Store the necessary credentials, such as API key or OAuth tokens, if the API requires them.\n",
    "- Execute a `request.get` to the desired API endpoint (the API's documentation will provide details on available endpoints).\n",
    "- The API returns a JSON response.\n",
    "- This JSON can be converted into a dataframe, or you can further explore its elements (typically a list of dictionaries)."
   ]
  },
  {
   "cell_type": "markdown",
   "metadata": {},
   "source": [
    "<h2 style=\"color: #008080;\">Glossary</h2>"
   ]
  },
  {
   "cell_type": "markdown",
   "metadata": {},
   "source": [
    "* DNS: domain name system.\n",
    "* HTTP: is the protocol used to transfer data over the web.\n",
    "* API: application programming interface.\n",
    "* REST: series of rules, architectural style."
   ]
  },
  {
   "cell_type": "markdown",
   "metadata": {},
   "source": [
    "* `requests`: Python library for interacting with APIs.\n",
    "* URL: server name you want to ask information for.\n",
    "* endpoint: server service you want to ask information for.\n",
    "* parameters: extra parameters to your query.\n",
    "* headers: metadata, invisible information."
   ]
  },
  {
   "cell_type": "markdown",
   "metadata": {},
   "source": [
    "<h2 style=\"color: #008080;\">Further materials</h2>"
   ]
  },
  {
   "cell_type": "markdown",
   "metadata": {},
   "source": [
    "[5 Simple-To-Use APIs for Beginners](https://dev.to/alanconstantino/5-simple-to-use-apis-for-beginners-2e0n)"
   ]
  },
  {
   "cell_type": "markdown",
   "metadata": {},
   "source": [
    "[RapidAPI](https://rapidapi.com/category/Sports): access thousands of APIs."
   ]
  },
  {
   "cell_type": "code",
   "execution_count": null,
   "metadata": {},
   "outputs": [],
   "source": [
    "key = \"6fc298faa2mshbab32069675e188p162cccjsnd546f94ab75d\""
   ]
  },
  {
   "cell_type": "code",
   "execution_count": null,
   "metadata": {},
   "outputs": [],
   "source": [
    "import requests\n",
    "\n",
    "# URL del endpoint de la API en RapidAPI\n",
    "url = \"https://jokeapi-v2.p.rapidapi.com/joke/Any\"\n",
    "\n",
    "# Headers para autentificación\n",
    "headers = {\n",
    "    \"X-RapidAPI-Key\": \"6fc298faa2mshbab32069675e188p162cccjsnd546f94ab75d\",  # Reemplaza con tu clave de RapidAPI\n",
    "    \"X-RapidAPI-Host\": \"jokeapi-v2.p.rapidapi.com\"\n",
    "}\n",
    "\n",
    "# Hacer una solicitud GET a la API\n",
    "response = requests.get(url, headers=headers)\n",
    "\n",
    "# Verificar si la solicitud fue exitosa\n",
    "if response.status_code == 200:\n",
    "    data = response.json()  # Convertir la respuesta a formato JSON\n",
    "    #print(data.keys())\n",
    "        # Revisar el tipo de chiste\n",
    "        # Si es un chiste de una sola línea -> print(\"Chiste:\", data[\"joke\"])\n",
    "        # Si es un chiste de dos partes\n",
    "    if data['type']==\"single\":\n",
    "        print(data['joke'])\n",
    "    elif data['type']==\"twopart\":\n",
    "        print(\"CHISTE: \",data['setup'] + '-' + data['delivery'])\n",
    "\n",
    "else:\n",
    "    print(\"Error en la solicitud:\", response.status_code)"
   ]
  },
  {
   "cell_type": "code",
   "execution_count": null,
   "metadata": {},
   "outputs": [],
   "source": [
    "data"
   ]
  },
  {
   "cell_type": "markdown",
   "metadata": {},
   "source": [
    "La Joke API permite personalizar el tipo de chiste y otros detalles. Por ejemplo, puedes cambiar el endpoint para obtener solo chistes de un tipo específico (Programming, Misc, Spooky, etc.)."
   ]
  },
  {
   "cell_type": "code",
   "execution_count": null,
   "metadata": {},
   "outputs": [],
   "source": []
  }
 ],
 "metadata": {
  "kernelspec": {
   "display_name": "Python 3 (ipykernel)",
   "language": "python",
   "name": "python3"
  },
  "language_info": {
   "codemirror_mode": {
    "name": "ipython",
    "version": 3
   },
   "file_extension": ".py",
   "mimetype": "text/x-python",
   "name": "python",
   "nbconvert_exporter": "python",
   "pygments_lexer": "ipython3",
   "version": "3.12.2"
  }
 },
 "nbformat": 4,
 "nbformat_minor": 4
}
