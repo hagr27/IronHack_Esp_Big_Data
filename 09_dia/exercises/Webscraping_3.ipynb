{
 "cells": [
  {
   "cell_type": "code",
   "execution_count": 9,
   "id": "f6f6d1c0-8d73-408d-961d-c857406a32b1",
   "metadata": {},
   "outputs": [],
   "source": [
    "import requests\n",
    "import pandas as pd\n",
    "from bs4 import BeautifulSoup"
   ]
  },
  {
   "cell_type": "markdown",
   "id": "a74ad058-dcb6-49a9-84fd-958b74605f1e",
   "metadata": {},
   "source": [
    "### Wikipedia"
   ]
  },
  {
   "cell_type": "code",
   "execution_count": 3,
   "id": "b76aeeb0-59b9-48ec-b1d2-7bc33eee56be",
   "metadata": {},
   "outputs": [
    {
     "data": {
      "text/plain": [
       "403"
      ]
     },
     "execution_count": 3,
     "metadata": {},
     "output_type": "execute_result"
    }
   ],
   "source": [
    "response = requests.get('https://en.wikipedia.org/wiki/Silicon_Valley_(TV_series)')\n",
    "response.status_code"
   ]
  },
  {
   "cell_type": "code",
   "execution_count": 5,
   "id": "2614b226-b9de-442e-a462-d08897b30270",
   "metadata": {},
   "outputs": [
    {
     "data": {
      "text/plain": [
       "'Please set a user-agent and respect our robot policy https://w.wiki/4wJS. See also T400119.\\n'"
      ]
     },
     "execution_count": 5,
     "metadata": {},
     "output_type": "execute_result"
    }
   ],
   "source": [
    "html = response.text\n",
    "html"
   ]
  },
  {
   "cell_type": "code",
   "execution_count": 11,
   "id": "e66eb7b0-3537-45be-95cb-37977184472b",
   "metadata": {},
   "outputs": [
    {
     "name": "stderr",
     "output_type": "stream",
     "text": [
      "/var/folders/8t/zq3xcwcx3yjg8nwb95m76zsm0000gn/T/ipykernel_32012/1438405898.py:1: MarkupResemblesLocatorWarning: The input looks more like a filename than markup. You may want to open this file and pass the filehandle into Beautiful Soup.\n",
      "  soup = BeautifulSoup(html, 'html.parser')\n"
     ]
    },
    {
     "data": {
      "text/plain": [
       "Please set a user-agent and respect our robot policy https://w.wiki/4wJS. See also T400119."
      ]
     },
     "execution_count": 11,
     "metadata": {},
     "output_type": "execute_result"
    }
   ],
   "source": [
    "soup = BeautifulSoup(html, 'html.parser')\n",
    "soup"
   ]
  },
  {
   "cell_type": "code",
   "execution_count": null,
   "id": "3a5689b8-8fce-424f-8b3b-c4044131b4af",
   "metadata": {},
   "outputs": [],
   "source": []
  },
  {
   "cell_type": "markdown",
   "id": "6c64ffe3-b8dd-4461-936c-35a03801ca81",
   "metadata": {},
   "source": [
    "# MULTIPLES PAGINAS"
   ]
  },
  {
   "cell_type": "code",
   "execution_count": 39,
   "id": "d791ca09-f9d5-4e8c-ba04-00a1456d54b2",
   "metadata": {},
   "outputs": [],
   "source": [
    "lista_titulos = []\n",
    "lista_precios = []\n",
    "\n",
    "def book_scraper():\n",
    "    \n",
    "    for i in range(1,51):\n",
    "        \n",
    "        #hacemos la conexion\n",
    "        url = f'https://books.toscrape.com/catalogue/page-{i}.html'\n",
    "        response = requests.get(url)\n",
    "        html_aux = response.text\n",
    "        sopa_aux = BeautifulSoup(html_aux,'html.parser')\n",
    "\n",
    "        #sacamos los titulos\n",
    "        lista_aux_titulos = sopa_aux.find_all(\"h3\")\n",
    "        for titulo in lista_aux_titulos:\n",
    "            lista_titulos.append(titulo.a['title'])\n",
    "        \n",
    "        #sacamos los precios\n",
    "        lista_aux_precios = sopa_aux.find_all(class_=\"price_color\")\n",
    "        for precio in lista_aux_precios:\n",
    "            lista_precios.append(float(precio.text[2:]))\n",
    "\n",
    "    #hacemos el dataframe\n",
    "    diccionario = {'titulos': lista_titulos, 'precios': lista_precios}\n",
    "    df = pd.DataFrame(diccionario)\n",
    "    return df"
   ]
  },
  {
   "cell_type": "code",
   "execution_count": 45,
   "id": "82d26891-c36a-423a-90d0-aa6d1946ba2f",
   "metadata": {},
   "outputs": [
    {
     "data": {
      "text/html": [
       "<div>\n",
       "<style scoped>\n",
       "    .dataframe tbody tr th:only-of-type {\n",
       "        vertical-align: middle;\n",
       "    }\n",
       "\n",
       "    .dataframe tbody tr th {\n",
       "        vertical-align: top;\n",
       "    }\n",
       "\n",
       "    .dataframe thead th {\n",
       "        text-align: right;\n",
       "    }\n",
       "</style>\n",
       "<table border=\"1\" class=\"dataframe\">\n",
       "  <thead>\n",
       "    <tr style=\"text-align: right;\">\n",
       "      <th></th>\n",
       "      <th>titulos</th>\n",
       "      <th>precios</th>\n",
       "    </tr>\n",
       "  </thead>\n",
       "  <tbody>\n",
       "    <tr>\n",
       "      <th>0</th>\n",
       "      <td>A Light in the Attic</td>\n",
       "      <td>51.77</td>\n",
       "    </tr>\n",
       "    <tr>\n",
       "      <th>1</th>\n",
       "      <td>Tipping the Velvet</td>\n",
       "      <td>53.74</td>\n",
       "    </tr>\n",
       "    <tr>\n",
       "      <th>2</th>\n",
       "      <td>Soumission</td>\n",
       "      <td>50.10</td>\n",
       "    </tr>\n",
       "    <tr>\n",
       "      <th>3</th>\n",
       "      <td>Sharp Objects</td>\n",
       "      <td>47.82</td>\n",
       "    </tr>\n",
       "    <tr>\n",
       "      <th>4</th>\n",
       "      <td>Sapiens: A Brief History of Humankind</td>\n",
       "      <td>54.23</td>\n",
       "    </tr>\n",
       "    <tr>\n",
       "      <th>...</th>\n",
       "      <td>...</td>\n",
       "      <td>...</td>\n",
       "    </tr>\n",
       "    <tr>\n",
       "      <th>1995</th>\n",
       "      <td>Alice in Wonderland (Alice's Adventures in Won...</td>\n",
       "      <td>55.53</td>\n",
       "    </tr>\n",
       "    <tr>\n",
       "      <th>1996</th>\n",
       "      <td>Ajin: Demi-Human, Volume 1 (Ajin: Demi-Human #1)</td>\n",
       "      <td>57.06</td>\n",
       "    </tr>\n",
       "    <tr>\n",
       "      <th>1997</th>\n",
       "      <td>A Spy's Devotion (The Regency Spies of London #1)</td>\n",
       "      <td>16.97</td>\n",
       "    </tr>\n",
       "    <tr>\n",
       "      <th>1998</th>\n",
       "      <td>1st to Die (Women's Murder Club #1)</td>\n",
       "      <td>53.98</td>\n",
       "    </tr>\n",
       "    <tr>\n",
       "      <th>1999</th>\n",
       "      <td>1,000 Places to See Before You Die</td>\n",
       "      <td>26.08</td>\n",
       "    </tr>\n",
       "  </tbody>\n",
       "</table>\n",
       "<p>2000 rows × 2 columns</p>\n",
       "</div>"
      ],
      "text/plain": [
       "                                                titulos  precios\n",
       "0                                  A Light in the Attic    51.77\n",
       "1                                    Tipping the Velvet    53.74\n",
       "2                                            Soumission    50.10\n",
       "3                                         Sharp Objects    47.82\n",
       "4                 Sapiens: A Brief History of Humankind    54.23\n",
       "...                                                 ...      ...\n",
       "1995  Alice in Wonderland (Alice's Adventures in Won...    55.53\n",
       "1996   Ajin: Demi-Human, Volume 1 (Ajin: Demi-Human #1)    57.06\n",
       "1997  A Spy's Devotion (The Regency Spies of London #1)    16.97\n",
       "1998                1st to Die (Women's Murder Club #1)    53.98\n",
       "1999                 1,000 Places to See Before You Die    26.08\n",
       "\n",
       "[2000 rows x 2 columns]"
      ]
     },
     "execution_count": 45,
     "metadata": {},
     "output_type": "execute_result"
    }
   ],
   "source": [
    "libros_df = book_scraper()\n"
   ]
  },
  {
   "cell_type": "code",
   "execution_count": null,
   "id": "6a6608ae-77f6-4ffb-aac3-e751357c87ac",
   "metadata": {},
   "outputs": [],
   "source": []
  }
 ],
 "metadata": {
  "kernelspec": {
   "display_name": "Python 3 (ipykernel)",
   "language": "python",
   "name": "python3"
  },
  "language_info": {
   "codemirror_mode": {
    "name": "ipython",
    "version": 3
   },
   "file_extension": ".py",
   "mimetype": "text/x-python",
   "name": "python",
   "nbconvert_exporter": "python",
   "pygments_lexer": "ipython3",
   "version": "3.12.2"
  }
 },
 "nbformat": 4,
 "nbformat_minor": 5
}
