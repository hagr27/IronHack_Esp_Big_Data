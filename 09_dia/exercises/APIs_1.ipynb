{
 "cells": [
  {
   "cell_type": "markdown",
   "metadata": {},
   "source": [
    "<center>\n",
    "<img src=\"https://i.pinimg.com/originals/bf/9c/4e/bf9c4e928c2f6ef566a94cba7cc1b1e0.png\"\n",
    "    style=\"width:35%;\">\n",
    "    <h1 style=\"color: #00BFFF;\">APIs</h1>\n",
    "</center>"
   ]
  },
  {
   "cell_type": "markdown",
   "metadata": {},
   "source": [
    "<h2 style=\"color: #008080;\">DNS, IP</h2>"
   ]
  },
  {
   "cell_type": "markdown",
   "metadata": {},
   "source": [
    "[How do we connect to www.google.com?](https://www.youtube.com/watch?v=sUhEqT_HSBI&ab_channel=ProfeSang)\n",
    "* **DNS (Domain Name System)**: it's essentially the phonebook of the internet. Humans access information online through domain names, like \"google.com\". Web browsers, however, interact through Internet Protocol (IP) addresses. In this example, the DNS maps the internet address www.google.com to the server's IP: 216.58.222.196\n",
    " * **IP**: Server identification. A code that allows information to be sent and received by the correct parties\n",
    " * **Domain Providers**: Sell and purchase Internet domains"
   ]
  },
  {
   "cell_type": "markdown",
   "metadata": {},
   "source": [
    "*When making API calls to specific domains, the DNS translates the human-readable domain name into an IP address.*"
   ]
  },
  {
   "cell_type": "markdown",
   "metadata": {},
   "source": [
    "### HTTP"
   ]
  },
  {
   "cell_type": "markdown",
   "metadata": {},
   "source": [
    "**H**yper **T**ext **T**ransfer **P**rotocol\n",
    "- HTTP is a communications protocol that provides a structure for requests between the client and the server on a network.\n",
    "- For example, the web browser on the user's computer (the client) uses the HTTP protocol to request information from a website on a server.\n",
    "\n",
    "*We will use APIs that employ the **HTTP** protocol as transport.*"
   ]
  },
  {
   "cell_type": "markdown",
   "metadata": {},
   "source": [
    "### URL\n",
    "Contains information about the resource being requested from the **server**."
   ]
  },
  {
   "cell_type": "markdown",
   "metadata": {},
   "source": [
    "![](https://github.com/data-bootcamp-v4/lessons/blob/main/img/http.png?raw=true)"
   ]
  },
  {
   "cell_type": "markdown",
   "metadata": {},
   "source": [
    "Examples:\n",
    "\n",
    "- https://www.google.com/webhp?authuser=2\n",
    "- https://www.towardsdatascience.com\n",
    "- https://www.ironhack.com/\n",
    "    - Protocol: https (https == http is the same, but https is encrypted)\n",
    "    - Domain Name --> ironhack\n",
    "    - TLD (Top-Level Domain) --> .com"
   ]
  },
  {
   "cell_type": "markdown",
   "metadata": {},
   "source": [
    "<h2 style=\"color: #008080;\">HTTP Requests and Responses</h2>"
   ]
  },
  {
   "cell_type": "markdown",
   "metadata": {},
   "source": [
    "![](https://github.com/data-bootcamp-v4/lessons/blob/main/img/request-response.png?raw=true)"
   ]
  },
  {
   "cell_type": "markdown",
   "metadata": {},
   "source": [
    "**Requests** and **responses** are fundamental components of the client-server communication model."
   ]
  },
  {
   "cell_type": "markdown",
   "metadata": {},
   "source": [
    "### Requests"
   ]
  },
  {
   "cell_type": "markdown",
   "metadata": {},
   "source": [
    "These are queries or calls **sent by the client** (such as a web browser or other software) **to the server** in order to receive information (a **response**). \n",
    "\n",
    "A request typically consists of:\n",
    "- A method (such as GET, POST, PUT, DELETE) that defines the action to be performed\n",
    "     * GET: read the information of the resource, without modifying it in any way. Accessing the website from the browser **gets** information.\n",
    "- The URL or endpoint specifying the resource\n",
    "- Optional additional information such as:\n",
    "    - Headers (metadata): User-Agent, Accept-Language\n",
    "    - Parameters\n",
    "    - Body content. \n",
    "    \n",
    "For example, a client might send a GET request to retrieve information from a web page or a POST request to submit form data."
   ]
  },
  {
   "cell_type": "markdown",
   "metadata": {},
   "source": [
    "### Response"
   ]
  },
  {
   "cell_type": "markdown",
   "metadata": {},
   "source": [
    "These are the answers or data sent **by the server back to the client in reply to a request**. \n",
    "\n",
    "A response typically includes:\n",
    "- A status code that indicates the success or failure of the request\n",
    "- Headers with meta-information about the server's behavior\n",
    "- The actual content or data (if applicable), such as HTML, JSON (similar to a Python dictionary), images, or other media types.\n",
    "\n",
    "An important part of the **header** is the **status code**. This code is a numerical value that indicates the server's result. There are different status codes depending on whether the server has managed to carry out the request or has not managed to do anything. These are some groups of status codes:\n",
    "\n",
    "- **2xx successful**: the request was successfully received, understood, and accepted\n",
    "- **3xx redirection**: more actions are required to complete the request\n",
    "- **4xx client error**: the request contains incorrect syntax or cannot be fulfilled\n",
    "- **5xx server error**: the server has failed to complete an apparently valid request\n",
    "\n",
    "Complete list:\n",
    "https://en.wikipedia.org/wiki/List_of_HTTP_status_codes\n",
    "\n",
    "Much more fun:\n",
    "https://http.cat/"
   ]
  },
  {
   "cell_type": "markdown",
   "metadata": {},
   "source": [
    "<h2 style=\"color: #008080;\">APIs</h2>"
   ]
  },
  {
   "cell_type": "markdown",
   "metadata": {},
   "source": [
    "**A**pplication **P**rogramming **I**nterface\n",
    "\n",
    "- APIs define a set of rules and protocols that allow different software applications to communicate with each other.\n",
    "- The client calls the server through an API, and the server responds.\n",
    "-  Within a project, the backend may want to share information with the frontend without access to the database."
   ]
  },
  {
   "cell_type": "markdown",
   "metadata": {},
   "source": [
    "![](https://github.com/data-bootcamp-v4/lessons/blob/main/img/api.png?raw=true)"
   ]
  },
  {
   "cell_type": "markdown",
   "metadata": {},
   "source": [
    "import pandas as pd"
   ]
  },
  {
   "cell_type": "code",
   "execution_count": null,
   "metadata": {},
   "outputs": [],
   "source": []
  }
 ],
 "metadata": {
  "kernelspec": {
   "display_name": "Python 3 (ipykernel)",
   "language": "python",
   "name": "python3"
  },
  "language_info": {
   "codemirror_mode": {
    "name": "ipython",
    "version": 3
   },
   "file_extension": ".py",
   "mimetype": "text/x-python",
   "name": "python",
   "nbconvert_exporter": "python",
   "pygments_lexer": "ipython3",
   "version": "3.12.2"
  }
 },
 "nbformat": 4,
 "nbformat_minor": 4
}
