{
 "cells": [
  {
   "cell_type": "code",
   "execution_count": 32,
   "id": "64b5b512-32f5-45fb-9bb6-a63b5ad8a4b3",
   "metadata": {},
   "outputs": [],
   "source": [
    "import pandas as pd\n",
    "import matplotlib.pyplot as plt\n",
    "import seaborn as sns"
   ]
  },
  {
   "cell_type": "markdown",
   "id": "efa4cff0-5535-4a7e-8c9a-2e01e6cb4951",
   "metadata": {},
   "source": [
    "### DATOS"
   ]
  },
  {
   "cell_type": "code",
   "execution_count": 33,
   "id": "52a6bce1-4793-4892-ab16-b322294c2634",
   "metadata": {},
   "outputs": [
    {
     "data": {
      "text/html": [
       "<div>\n",
       "<style scoped>\n",
       "    .dataframe tbody tr th:only-of-type {\n",
       "        vertical-align: middle;\n",
       "    }\n",
       "\n",
       "    .dataframe tbody tr th {\n",
       "        vertical-align: top;\n",
       "    }\n",
       "\n",
       "    .dataframe thead th {\n",
       "        text-align: right;\n",
       "    }\n",
       "</style>\n",
       "<table border=\"1\" class=\"dataframe\">\n",
       "  <thead>\n",
       "    <tr style=\"text-align: right;\">\n",
       "      <th></th>\n",
       "      <th>restaurante</th>\n",
       "      <th>ciudad</th>\n",
       "      <th>tipo_comida</th>\n",
       "      <th>calificacion</th>\n",
       "      <th>precio_medio</th>\n",
       "    </tr>\n",
       "  </thead>\n",
       "  <tbody>\n",
       "    <tr>\n",
       "      <th>0</th>\n",
       "      <td>El Gourmet</td>\n",
       "      <td>Madrid</td>\n",
       "      <td>Española</td>\n",
       "      <td>4.5</td>\n",
       "      <td>25</td>\n",
       "    </tr>\n",
       "    <tr>\n",
       "      <th>1</th>\n",
       "      <td>Sabor Latino</td>\n",
       "      <td>Bogotá</td>\n",
       "      <td>Latina</td>\n",
       "      <td>4.0</td>\n",
       "      <td>15</td>\n",
       "    </tr>\n",
       "    <tr>\n",
       "      <th>2</th>\n",
       "      <td>Pizza Manía</td>\n",
       "      <td>Roma</td>\n",
       "      <td>Italiana</td>\n",
       "      <td>4.7</td>\n",
       "      <td>20</td>\n",
       "    </tr>\n",
       "    <tr>\n",
       "      <th>3</th>\n",
       "      <td>Café París</td>\n",
       "      <td>París</td>\n",
       "      <td>Francesa</td>\n",
       "      <td>4.2</td>\n",
       "      <td>30</td>\n",
       "    </tr>\n",
       "    <tr>\n",
       "      <th>4</th>\n",
       "      <td>La Trattoria</td>\n",
       "      <td>Roma</td>\n",
       "      <td>Italiana</td>\n",
       "      <td>4.8</td>\n",
       "      <td>18</td>\n",
       "    </tr>\n",
       "    <tr>\n",
       "      <th>5</th>\n",
       "      <td>Bistro 21</td>\n",
       "      <td>París</td>\n",
       "      <td>Francesa</td>\n",
       "      <td>4.1</td>\n",
       "      <td>40</td>\n",
       "    </tr>\n",
       "    <tr>\n",
       "      <th>6</th>\n",
       "      <td>Casa Mexicana</td>\n",
       "      <td>Ciudad de México</td>\n",
       "      <td>Mexicana</td>\n",
       "      <td>4.6</td>\n",
       "      <td>12</td>\n",
       "    </tr>\n",
       "    <tr>\n",
       "      <th>7</th>\n",
       "      <td>Sushi Master</td>\n",
       "      <td>Tokio</td>\n",
       "      <td>Japonesa</td>\n",
       "      <td>4.9</td>\n",
       "      <td>35</td>\n",
       "    </tr>\n",
       "    <tr>\n",
       "      <th>8</th>\n",
       "      <td>La Paella Real</td>\n",
       "      <td>Valencia</td>\n",
       "      <td>Española</td>\n",
       "      <td>4.3</td>\n",
       "      <td>28</td>\n",
       "    </tr>\n",
       "    <tr>\n",
       "      <th>9</th>\n",
       "      <td>Burger Station</td>\n",
       "      <td>Nueva York</td>\n",
       "      <td>Americana</td>\n",
       "      <td>4.0</td>\n",
       "      <td>14</td>\n",
       "    </tr>\n",
       "    <tr>\n",
       "      <th>10</th>\n",
       "      <td>La Cabaña</td>\n",
       "      <td>Buenos Aires</td>\n",
       "      <td>Argentina</td>\n",
       "      <td>4.7</td>\n",
       "      <td>25</td>\n",
       "    </tr>\n",
       "    <tr>\n",
       "      <th>11</th>\n",
       "      <td>Chifa Express</td>\n",
       "      <td>Lima</td>\n",
       "      <td>China</td>\n",
       "      <td>3.9</td>\n",
       "      <td>10</td>\n",
       "    </tr>\n",
       "    <tr>\n",
       "      <th>12</th>\n",
       "      <td>Pasta Lovers</td>\n",
       "      <td>Roma</td>\n",
       "      <td>Italiana</td>\n",
       "      <td>4.5</td>\n",
       "      <td>18</td>\n",
       "    </tr>\n",
       "    <tr>\n",
       "      <th>13</th>\n",
       "      <td>Tacos de Oro</td>\n",
       "      <td>Ciudad de México</td>\n",
       "      <td>Mexicana</td>\n",
       "      <td>4.6</td>\n",
       "      <td>8</td>\n",
       "    </tr>\n",
       "    <tr>\n",
       "      <th>14</th>\n",
       "      <td>La Brasserie</td>\n",
       "      <td>París</td>\n",
       "      <td>Francesa</td>\n",
       "      <td>4.2</td>\n",
       "      <td>32</td>\n",
       "    </tr>\n",
       "    <tr>\n",
       "      <th>15</th>\n",
       "      <td>Bella Italia</td>\n",
       "      <td>Roma</td>\n",
       "      <td>Italiana</td>\n",
       "      <td>4.9</td>\n",
       "      <td>20</td>\n",
       "    </tr>\n",
       "    <tr>\n",
       "      <th>16</th>\n",
       "      <td>Tapas y Vinos</td>\n",
       "      <td>Madrid</td>\n",
       "      <td>Española</td>\n",
       "      <td>4.8</td>\n",
       "      <td>22</td>\n",
       "    </tr>\n",
       "    <tr>\n",
       "      <th>17</th>\n",
       "      <td>La Alhambra</td>\n",
       "      <td>Granada</td>\n",
       "      <td>Árabe</td>\n",
       "      <td>4.4</td>\n",
       "      <td>24</td>\n",
       "    </tr>\n",
       "    <tr>\n",
       "      <th>18</th>\n",
       "      <td>El Rincón Peruano</td>\n",
       "      <td>Lima</td>\n",
       "      <td>Peruana</td>\n",
       "      <td>4.9</td>\n",
       "      <td>30</td>\n",
       "    </tr>\n",
       "    <tr>\n",
       "      <th>19</th>\n",
       "      <td>Grill House</td>\n",
       "      <td>Londres</td>\n",
       "      <td>Americana</td>\n",
       "      <td>3.8</td>\n",
       "      <td>15</td>\n",
       "    </tr>\n",
       "  </tbody>\n",
       "</table>\n",
       "</div>"
      ],
      "text/plain": [
       "          restaurante            ciudad tipo_comida  calificacion  \\\n",
       "0          El Gourmet            Madrid    Española           4.5   \n",
       "1        Sabor Latino            Bogotá      Latina           4.0   \n",
       "2         Pizza Manía              Roma    Italiana           4.7   \n",
       "3          Café París             París    Francesa           4.2   \n",
       "4        La Trattoria              Roma    Italiana           4.8   \n",
       "5           Bistro 21             París    Francesa           4.1   \n",
       "6       Casa Mexicana  Ciudad de México    Mexicana           4.6   \n",
       "7        Sushi Master             Tokio    Japonesa           4.9   \n",
       "8      La Paella Real          Valencia    Española           4.3   \n",
       "9      Burger Station        Nueva York   Americana           4.0   \n",
       "10          La Cabaña      Buenos Aires   Argentina           4.7   \n",
       "11      Chifa Express              Lima       China           3.9   \n",
       "12       Pasta Lovers              Roma    Italiana           4.5   \n",
       "13       Tacos de Oro  Ciudad de México    Mexicana           4.6   \n",
       "14       La Brasserie             París    Francesa           4.2   \n",
       "15       Bella Italia              Roma    Italiana           4.9   \n",
       "16      Tapas y Vinos            Madrid    Española           4.8   \n",
       "17        La Alhambra           Granada       Árabe           4.4   \n",
       "18  El Rincón Peruano              Lima     Peruana           4.9   \n",
       "19        Grill House           Londres   Americana           3.8   \n",
       "\n",
       "    precio_medio  \n",
       "0             25  \n",
       "1             15  \n",
       "2             20  \n",
       "3             30  \n",
       "4             18  \n",
       "5             40  \n",
       "6             12  \n",
       "7             35  \n",
       "8             28  \n",
       "9             14  \n",
       "10            25  \n",
       "11            10  \n",
       "12            18  \n",
       "13             8  \n",
       "14            32  \n",
       "15            20  \n",
       "16            22  \n",
       "17            24  \n",
       "18            30  \n",
       "19            15  "
      ]
     },
     "execution_count": 33,
     "metadata": {},
     "output_type": "execute_result"
    }
   ],
   "source": [
    "# Datos de la tabla\n",
    "data = {\n",
    "    'Restaurante': ['El Gourmet', 'Sabor Latino', 'Pizza Manía', 'Café París', 'La Trattoria', \n",
    "                    'Bistro 21', 'Casa Mexicana', 'Sushi Master', 'La Paella Real', 'Burger Station',\n",
    "                    'La Cabaña', 'Chifa Express', 'Pasta Lovers', 'Tacos de Oro', 'La Brasserie',\n",
    "                    'Bella Italia', 'Tapas y Vinos', 'La Alhambra', 'El Rincón Peruano', 'Grill House'],\n",
    "    'Ciudad': ['Madrid', 'Bogotá', 'Roma', 'París', 'Roma', \n",
    "               'París', 'Ciudad de México', 'Tokio', 'Valencia', 'Nueva York', \n",
    "               'Buenos Aires', 'Lima', 'Roma', 'Ciudad de México', 'París', \n",
    "               'Roma', 'Madrid', 'Granada', 'Lima', 'Londres'],\n",
    "    'Tipo de Comida': ['Española', 'Latina', 'Italiana', 'Francesa', 'Italiana', \n",
    "                       'Francesa', 'Mexicana', 'Japonesa', 'Española', 'Americana',\n",
    "                       'Argentina', 'China', 'Italiana', 'Mexicana', 'Francesa',\n",
    "                       'Italiana', 'Española', 'Árabe', 'Peruana', 'Americana'],\n",
    "    'Calificación': [4.5, 4.0, 4.7, 4.2, 4.8, \n",
    "                     4.1, 4.6, 4.9, 4.3, 4.0, \n",
    "                     4.7, 3.9, 4.5, 4.6, 4.2, \n",
    "                     4.9, 4.8, 4.4, 4.9, 3.8],\n",
    "    'Precio Medio (€)': [25, 15, 20, 30, 18, \n",
    "                         40, 12, 35, 28, 14, \n",
    "                         25, 10, 18, 8, 32, \n",
    "                         20, 22, 24, 30, 15]\n",
    "}\n",
    "\n",
    "# Crear el DataFrame\n",
    "df = pd.DataFrame(data)\n",
    "\n",
    "df = df.rename(columns=\n",
    "               {\"Restaurante\": \"restaurante\",\n",
    "                \"Ciudad\": \"ciudad\",\n",
    "                \"Tipo de Comida\": \"tipo_comida\",\n",
    "                \"Calificación\": \"calificacion\",\n",
    "                \"Precio Medio (€)\": \"precio_medio\"\n",
    "                })\n",
    "\n",
    "df"
   ]
  },
  {
   "cell_type": "markdown",
   "id": "9019ae1e-df34-4054-8947-64bd5cf1d642",
   "metadata": {},
   "source": [
    "### Exploracion inicial"
   ]
  },
  {
   "cell_type": "code",
   "execution_count": 34,
   "id": "15ad6759-350c-46ed-856a-fdb25ebfc198",
   "metadata": {},
   "outputs": [
    {
     "data": {
      "text/html": [
       "<div>\n",
       "<style scoped>\n",
       "    .dataframe tbody tr th:only-of-type {\n",
       "        vertical-align: middle;\n",
       "    }\n",
       "\n",
       "    .dataframe tbody tr th {\n",
       "        vertical-align: top;\n",
       "    }\n",
       "\n",
       "    .dataframe thead th {\n",
       "        text-align: right;\n",
       "    }\n",
       "</style>\n",
       "<table border=\"1\" class=\"dataframe\">\n",
       "  <thead>\n",
       "    <tr style=\"text-align: right;\">\n",
       "      <th></th>\n",
       "      <th>restaurante</th>\n",
       "      <th>ciudad</th>\n",
       "      <th>tipo_comida</th>\n",
       "      <th>calificacion</th>\n",
       "      <th>precio_medio</th>\n",
       "    </tr>\n",
       "  </thead>\n",
       "  <tbody>\n",
       "    <tr>\n",
       "      <th>12</th>\n",
       "      <td>Pasta Lovers</td>\n",
       "      <td>Roma</td>\n",
       "      <td>Italiana</td>\n",
       "      <td>4.5</td>\n",
       "      <td>18</td>\n",
       "    </tr>\n",
       "    <tr>\n",
       "      <th>8</th>\n",
       "      <td>La Paella Real</td>\n",
       "      <td>Valencia</td>\n",
       "      <td>Española</td>\n",
       "      <td>4.3</td>\n",
       "      <td>28</td>\n",
       "    </tr>\n",
       "    <tr>\n",
       "      <th>19</th>\n",
       "      <td>Grill House</td>\n",
       "      <td>Londres</td>\n",
       "      <td>Americana</td>\n",
       "      <td>3.8</td>\n",
       "      <td>15</td>\n",
       "    </tr>\n",
       "    <tr>\n",
       "      <th>9</th>\n",
       "      <td>Burger Station</td>\n",
       "      <td>Nueva York</td>\n",
       "      <td>Americana</td>\n",
       "      <td>4.0</td>\n",
       "      <td>14</td>\n",
       "    </tr>\n",
       "    <tr>\n",
       "      <th>14</th>\n",
       "      <td>La Brasserie</td>\n",
       "      <td>París</td>\n",
       "      <td>Francesa</td>\n",
       "      <td>4.2</td>\n",
       "      <td>32</td>\n",
       "    </tr>\n",
       "    <tr>\n",
       "      <th>10</th>\n",
       "      <td>La Cabaña</td>\n",
       "      <td>Buenos Aires</td>\n",
       "      <td>Argentina</td>\n",
       "      <td>4.7</td>\n",
       "      <td>25</td>\n",
       "    </tr>\n",
       "    <tr>\n",
       "      <th>4</th>\n",
       "      <td>La Trattoria</td>\n",
       "      <td>Roma</td>\n",
       "      <td>Italiana</td>\n",
       "      <td>4.8</td>\n",
       "      <td>18</td>\n",
       "    </tr>\n",
       "    <tr>\n",
       "      <th>11</th>\n",
       "      <td>Chifa Express</td>\n",
       "      <td>Lima</td>\n",
       "      <td>China</td>\n",
       "      <td>3.9</td>\n",
       "      <td>10</td>\n",
       "    </tr>\n",
       "    <tr>\n",
       "      <th>15</th>\n",
       "      <td>Bella Italia</td>\n",
       "      <td>Roma</td>\n",
       "      <td>Italiana</td>\n",
       "      <td>4.9</td>\n",
       "      <td>20</td>\n",
       "    </tr>\n",
       "    <tr>\n",
       "      <th>0</th>\n",
       "      <td>El Gourmet</td>\n",
       "      <td>Madrid</td>\n",
       "      <td>Española</td>\n",
       "      <td>4.5</td>\n",
       "      <td>25</td>\n",
       "    </tr>\n",
       "  </tbody>\n",
       "</table>\n",
       "</div>"
      ],
      "text/plain": [
       "       restaurante        ciudad tipo_comida  calificacion  precio_medio\n",
       "12    Pasta Lovers          Roma    Italiana           4.5            18\n",
       "8   La Paella Real      Valencia    Española           4.3            28\n",
       "19     Grill House       Londres   Americana           3.8            15\n",
       "9   Burger Station    Nueva York   Americana           4.0            14\n",
       "14    La Brasserie         París    Francesa           4.2            32\n",
       "10       La Cabaña  Buenos Aires   Argentina           4.7            25\n",
       "4     La Trattoria          Roma    Italiana           4.8            18\n",
       "11   Chifa Express          Lima       China           3.9            10\n",
       "15    Bella Italia          Roma    Italiana           4.9            20\n",
       "0       El Gourmet        Madrid    Española           4.5            25"
      ]
     },
     "execution_count": 34,
     "metadata": {},
     "output_type": "execute_result"
    }
   ],
   "source": [
    "df.sample(10)"
   ]
  },
  {
   "cell_type": "code",
   "execution_count": 35,
   "id": "c3445238-8414-4e28-a7d3-832e4fd3ca97",
   "metadata": {},
   "outputs": [
    {
     "data": {
      "text/plain": [
       "(20, 5)"
      ]
     },
     "execution_count": 35,
     "metadata": {},
     "output_type": "execute_result"
    }
   ],
   "source": [
    "df.shape"
   ]
  },
  {
   "cell_type": "code",
   "execution_count": 36,
   "id": "28d697ac-d151-4693-963c-1f995b0232cd",
   "metadata": {},
   "outputs": [
    {
     "name": "stdout",
     "output_type": "stream",
     "text": [
      "<class 'pandas.core.frame.DataFrame'>\n",
      "RangeIndex: 20 entries, 0 to 19\n",
      "Data columns (total 5 columns):\n",
      " #   Column        Non-Null Count  Dtype  \n",
      "---  ------        --------------  -----  \n",
      " 0   restaurante   20 non-null     object \n",
      " 1   ciudad        20 non-null     object \n",
      " 2   tipo_comida   20 non-null     object \n",
      " 3   calificacion  20 non-null     float64\n",
      " 4   precio_medio  20 non-null     int64  \n",
      "dtypes: float64(1), int64(1), object(3)\n",
      "memory usage: 928.0+ bytes\n"
     ]
    }
   ],
   "source": [
    "df.info()"
   ]
  },
  {
   "cell_type": "markdown",
   "id": "bfc0aa71-1916-4e66-bfac-5c884055ed7e",
   "metadata": {},
   "source": [
    "### UNIVARIATE - Categoricas"
   ]
  },
  {
   "cell_type": "markdown",
   "id": "a7036380-1633-47c4-979a-4bbaef971d5a",
   "metadata": {},
   "source": [
    "<h5 style=\"color: #00BFFF;\">Ciudad</h5>"
   ]
  },
  {
   "cell_type": "code",
   "execution_count": 37,
   "id": "550bc4b9-af5e-49b0-a823-795c591fc1d3",
   "metadata": {},
   "outputs": [],
   "source": [
    "# FRECUENCIAS ABSOLUTAS\n"
   ]
  },
  {
   "cell_type": "code",
   "execution_count": 38,
   "id": "517441ae-9595-4494-b92f-0cf9e0091caa",
   "metadata": {},
   "outputs": [],
   "source": [
    "# FRECUENCIAS ABSOLUTAS plot\n"
   ]
  },
  {
   "cell_type": "code",
   "execution_count": 39,
   "id": "c0348567-b338-4c80-bb1b-e320174955b1",
   "metadata": {},
   "outputs": [],
   "source": [
    "# FRECUENCIAS RELATIVAS\n"
   ]
  },
  {
   "cell_type": "code",
   "execution_count": 41,
   "id": "7052625e-fc54-4b1e-a6b4-1b37fbee6cb0",
   "metadata": {},
   "outputs": [
    {
     "data": {
      "text/plain": [
       "<Axes: >"
      ]
     },
     "execution_count": 41,
     "metadata": {},
     "output_type": "execute_result"
    },
    {
     "data": {
      "image/png": "[encoded data removed]",
      "text/plain": [
       "<Figure size 640x480 with 1 Axes>"
      ]
     },
     "metadata": {},
     "output_type": "display_data"
    }
   ],
   "source": [
    "# FRECUENCIAS RELATIVAS plot\n",
    "df.ciudad.value_counts(normalize=True).plot(kind='pie', autopct='%1.0f%%',ylabel='') # el autopct es para mostrar los % sin decimales"
   ]
  },
  {
   "cell_type": "markdown",
   "id": "5bcf3948-7dc1-4a50-b26a-23c740aa3148",
   "metadata": {},
   "source": [
    "<h5 style=\"color: #00BFFF;\">Tipo de Comida</h5>"
   ]
  },
  {
   "cell_type": "code",
   "execution_count": null,
   "id": "13c7a8e3-c75a-4dbd-8611-06cad903f061",
   "metadata": {},
   "outputs": [],
   "source": [
    "# FRECUENCIAS ABSOLUTAS\n"
   ]
  },
  {
   "cell_type": "code",
   "execution_count": null,
   "id": "8677ddc0-2823-4a1e-b510-c933a3312edb",
   "metadata": {},
   "outputs": [],
   "source": [
    "# Ejercicio: Mostrarlo con un grafico de barras\n",
    "\n"
   ]
  },
  {
   "cell_type": "code",
   "execution_count": 42,
   "id": "60888e12-9070-4f00-adc2-8fdfba37da17",
   "metadata": {},
   "outputs": [
    {
     "data": {
      "text/plain": [
       "tipo_comida\n",
       "Italiana     0.20\n",
       "Española     0.15\n",
       "Francesa     0.15\n",
       "Americana    0.10\n",
       "Mexicana     0.10\n",
       "Latina       0.05\n",
       "Japonesa     0.05\n",
       "Argentina    0.05\n",
       "China        0.05\n",
       "Árabe        0.05\n",
       "Peruana      0.05\n",
       "Name: proportion, dtype: float64"
      ]
     },
     "execution_count": 42,
     "metadata": {},
     "output_type": "execute_result"
    }
   ],
   "source": [
    "# FRECUENCIAS RELATIVAS\n",
    "df.tipo_comida.value_counts(normalize=True)"
   ]
  },
  {
   "cell_type": "code",
   "execution_count": 44,
   "id": "165da2c2-a4b9-4c6d-94e0-10772f77a4bc",
   "metadata": {},
   "outputs": [
    {
     "name": "stdout",
     "output_type": "stream",
     "text": [
      "        Color  Frecuencia Relativa\n",
      "0    Italiana                 0.20\n",
      "1    Española                 0.15\n",
      "2    Francesa                 0.15\n",
      "3   Americana                 0.10\n",
      "4    Mexicana                 0.10\n",
      "5      Latina                 0.05\n",
      "6    Japonesa                 0.05\n",
      "7   Argentina                 0.05\n",
      "8       China                 0.05\n",
      "9       Árabe                 0.05\n",
      "10    Peruana                 0.05\n"
     ]
    }
   ],
   "source": [
    "# Ejercicio: Mostrarlo como un grafico de pastel\n",
    "\n",
    "frecuencia_rel = df[\"tipo_comida\"].value_counts(normalize=True).reset_index()\n",
    "frecuencia_rel.columns = [\"Color\", \"Frecuencia Relativa\"]\n",
    "print(frecuencia_rel)\n"
   ]
  },
  {
   "cell_type": "markdown",
   "id": "091abe68-57f2-42b5-a3d7-1dad088862cc",
   "metadata": {},
   "source": [
    "### UNIVARIATE - Continuas"
   ]
  },
  {
   "cell_type": "code",
   "execution_count": null,
   "id": "89b98232-3857-45e6-ae34-5dc9b5b9e498",
   "metadata": {},
   "outputs": [],
   "source": [
    "df.describe()"
   ]
  },
  {
   "cell_type": "code",
   "execution_count": null,
   "id": "0f7a3ccb-71ca-43e6-8265-c01ec3baabc3",
   "metadata": {},
   "outputs": [],
   "source": []
  },
  {
   "cell_type": "markdown",
   "id": "f3b82f54-08d8-49fc-a9ee-147892c2d7a4",
   "metadata": {},
   "source": [
    "<h5 style=\"color: #00BFFF;\">Calificacion</h5>"
   ]
  },
  {
   "cell_type": "code",
   "execution_count": null,
   "id": "e1ac02e5-4519-4722-a17c-56433ff60c38",
   "metadata": {},
   "outputs": [],
   "source": [
    "# media"
   ]
  },
  {
   "cell_type": "code",
   "execution_count": null,
   "id": "b3b8a911-959c-4d49-9959-ea46c78ac255",
   "metadata": {},
   "outputs": [],
   "source": [
    "# desviacion estandard"
   ]
  },
  {
   "cell_type": "code",
   "execution_count": null,
   "id": "5555a777-47d0-4b6f-a7d5-874b2074cf73",
   "metadata": {},
   "outputs": [],
   "source": [
    "# DISTRIBUCION DE LA CALIFICACION  (OPCION A)\n",
    "df['Calificación'].plot(kind='hist', bins=20)"
   ]
  },
  {
   "cell_type": "code",
   "execution_count": null,
   "id": "a4beddc3-2873-43e7-bf06-ec328420a24e",
   "metadata": {},
   "outputs": [],
   "source": [
    "# DISTRIBUCION DE LA CALIFICACION (OPCION B)\n",
    "sns.histplot(df['Calificación'], bins=20, kde=True)"
   ]
  },
  {
   "cell_type": "code",
   "execution_count": null,
   "id": "25ccaee9-2066-4400-88be-baa5077b85c2",
   "metadata": {},
   "outputs": [],
   "source": [
    "#Histograma con curva de densidad para las calificaciones\n",
    "sns.histplot(df['Calificación'], kde=True, color='coral')\n",
    "plt.xlabel('Calificación')\n",
    "plt.ylabel('Frecuencia')\n",
    "plt.title('Distribución de Calificaciones con KDE')\n",
    "plt.show()"
   ]
  },
  {
   "cell_type": "code",
   "execution_count": null,
   "id": "839ef0e5-e5f7-41cb-9f0e-60c1772f40c9",
   "metadata": {},
   "outputs": [],
   "source": [
    "#BOXPLOT para ver distribucion y outliers\n",
    "sns.boxplot(x=df['Calificación'])\n",
    "plt.xlabel('Calificación')\n",
    "plt.title('Boxplot de Calificación')\n",
    "plt.show()"
   ]
  },
  {
   "cell_type": "markdown",
   "id": "61401e32-a2c5-4a36-ac9d-f59ed703ff98",
   "metadata": {},
   "source": [
    "<h5 style=\"color: #00BFFF;\">Precio</h5>"
   ]
  },
  {
   "cell_type": "code",
   "execution_count": null,
   "id": "1d4c6aba-4cdd-47d6-bd94-9cd5033c0c07",
   "metadata": {},
   "outputs": [],
   "source": [
    "df['Precio Medio (€)'].mean() #media"
   ]
  },
  {
   "cell_type": "code",
   "execution_count": null,
   "id": "65060374-7417-488c-afdb-3044732e817f",
   "metadata": {},
   "outputs": [],
   "source": [
    "df['Precio Medio (€)'].std() #desviacion estandard"
   ]
  },
  {
   "cell_type": "code",
   "execution_count": null,
   "id": "3f05f22b-2f97-4f02-80b1-f15fe8aa16a2",
   "metadata": {},
   "outputs": [],
   "source": [
    "# Hacer el gráfico de su distribucion"
   ]
  },
  {
   "cell_type": "code",
   "execution_count": null,
   "id": "ed81ce38-5fdd-4fab-9f93-dc5fb089a320",
   "metadata": {},
   "outputs": [],
   "source": []
  },
  {
   "cell_type": "code",
   "execution_count": null,
   "id": "9b311d30-e423-4ef5-a54a-1b5f40d54d1d",
   "metadata": {},
   "outputs": [],
   "source": []
  },
  {
   "cell_type": "code",
   "execution_count": null,
   "id": "78f715ec-984d-4578-b972-00f9e7f33e0d",
   "metadata": {},
   "outputs": [],
   "source": []
  },
  {
   "cell_type": "code",
   "execution_count": null,
   "id": "7f62b9d6-7517-47d8-a3dc-6d3a1c0fa066",
   "metadata": {},
   "outputs": [],
   "source": [
    "# Solucion opcion a\n",
    "df['Precio Medio (€)'].plot(kind='hist', bins=10, color='skyblue')\n",
    "plt.xlabel('Precio Medio (€)')\n",
    "plt.ylabel('Frecuencia')\n",
    "plt.title('Distribución del Precio Medio')\n",
    "plt.show()"
   ]
  },
  {
   "cell_type": "code",
   "execution_count": null,
   "id": "c28fcf3d-1e2e-4c86-bdad-6a585b302432",
   "metadata": {},
   "outputs": [],
   "source": [
    "df['Precio Medio (€)'].plot(kind='hist', bins=100, color='skyblue')\n",
    "plt.show()"
   ]
  },
  {
   "cell_type": "code",
   "execution_count": null,
   "id": "ecbe4397-2e86-4ece-8b23-cc513c87ada4",
   "metadata": {},
   "outputs": [],
   "source": [
    "sns.histplot(df['Precio Medio (€)'], bins= 20, kde=True)"
   ]
  },
  {
   "cell_type": "code",
   "execution_count": null,
   "id": "73072fde-641a-4856-a46e-79455ea22950",
   "metadata": {},
   "outputs": [],
   "source": [
    "#Gráfico de violín para el precio medio\n",
    "sns.violinplot(x=df['Precio Medio (€)'], color='lightgreen')\n",
    "plt.xlabel('Precio Medio (€)')\n",
    "plt.title('Distribución de Precio Medio (Violín)')\n",
    "plt.show()"
   ]
  },
  {
   "cell_type": "code",
   "execution_count": null,
   "id": "738b5d7b-5ca0-4cb0-99d5-8b6ae0751522",
   "metadata": {},
   "outputs": [],
   "source": [
    "# Distribución de calificaciones para los restaurantes con precios mayores a 20€\n",
    "df_filtrado_precio = df[df['Precio Medio (€)'] > 20]\n",
    "sns.histplot(df_filtrado_precio['Calificación'], kde=True, color='orange')\n",
    "plt.xlabel('Calificación')\n",
    "plt.ylabel('Frecuencia')\n",
    "plt.title('Distribución de Calificaciones para Restaurantes con Precio > 20€')\n",
    "plt.show()"
   ]
  },
  {
   "cell_type": "markdown",
   "id": "55a29043-7616-4c61-b6bb-a89b72ce44ac",
   "metadata": {},
   "source": [
    "### BIVARIATE - Categorica vs Categorica"
   ]
  },
  {
   "cell_type": "markdown",
   "id": "fa33b12c-0ad5-427d-bd5b-fb20d57f1659",
   "metadata": {},
   "source": [
    "<h5 style=\"color: #00BFFF;\">Ciudad y Tipo de comida</h5>"
   ]
  },
  {
   "cell_type": "code",
   "execution_count": null,
   "id": "1a988035-aa7d-4ff6-8691-1833e2e36e32",
   "metadata": {},
   "outputs": [],
   "source": [
    "# Tabla de contingencia entre ciudad y tipo de comida\n",
    "tabla_contingencia = \n",
    "\n"
   ]
  },
  {
   "cell_type": "code",
   "execution_count": null,
   "id": "34f6acb9-496a-4571-8ec7-863b7a157e3a",
   "metadata": {},
   "outputs": [],
   "source": [
    "# Mapa de calor de la tabla de contingencia\n",
    "sns.heatmap(tabla_contingencia, annot=True, cmap=\"YlGnBu\", fmt='d')\n",
    "plt.title('Mapa de Calor de la Contingencia Ciudad vs Tipo de Comida')\n",
    "plt.xlabel('Tipo de Comida')\n",
    "plt.ylabel('Ciudad')\n",
    "plt.show()"
   ]
  },
  {
   "cell_type": "markdown",
   "id": "ca545fcc-2d9d-4e34-b718-32ba3f00af12",
   "metadata": {},
   "source": [
    "### BIVARIATE - Categorica vs Continua"
   ]
  },
  {
   "cell_type": "code",
   "execution_count": null,
   "id": "9ab22503-1a28-4d61-a429-c99b0f0746e8",
   "metadata": {},
   "outputs": [],
   "source": [
    "# Gráfico de violín para el precio medio agrupado por tipo de comida -- MEDIA Y LA DISPERSION DE LA CONTINUA POR CATEGORIAS\n",
    "sns.violinplot(x='Tipo de Comida', y='Precio Medio (€)', data=df)\n",
    "plt.xticks(rotation=45)\n",
    "plt.xlabel('Tipo de Comida')\n",
    "plt.ylabel('Precio Medio (€)')\n",
    "plt.title('Distribución de Precio Medio por Tipo de Comida')\n",
    "plt.show()"
   ]
  },
  {
   "cell_type": "code",
   "execution_count": null,
   "id": "c06942b5-071a-40b7-b635-e865984b927a",
   "metadata": {},
   "outputs": [],
   "source": [
    "# Precio medio por tipo de comida\n",
    "precio_medio_tipo = df.groupby('Tipo de Comida')['Precio Medio (€)'].mean().sort_values(ascending=False)\n",
    "precio_medio_tipo.plot(kind='bar', color='salmon')\n",
    "plt.ylabel('Precio Medio (€)')\n",
    "plt.title('Precio Medio por Tipo de Comida')\n",
    "plt.show()\n",
    "print(\"Tipo de comida más caro en promedio:\", precio_medio_tipo.idxmax())"
   ]
  },
  {
   "cell_type": "code",
   "execution_count": null,
   "id": "afc9d8af-add9-4fc0-88d7-3b89e7622960",
   "metadata": {},
   "outputs": [],
   "source": [
    "# Calificación media por ciudad\n",
    "media_calificacion_ciudad = df.groupby('Ciudad')['Calificación'].mean().sort_values(ascending=False)\n",
    "media_calificacion_ciudad.plot(kind='bar', color='lightblue')\n",
    "plt.ylabel('Calificación Media')\n",
    "plt.title('Calificación Media por Ciudad')\n",
    "plt.show()\n",
    "print(\"Ciudad con la calificación media más alta:\", media_calificacion_ciudad.idxmax())"
   ]
  },
  {
   "cell_type": "code",
   "execution_count": null,
   "id": "94c96b85-7578-4462-a377-ffff97438d49",
   "metadata": {},
   "outputs": [],
   "source": [
    "# Boxplot para comparar calificación según tipo de comida\n",
    "sns.boxplot(x='Tipo de Comida', y='Calificación', data=df)\n",
    "plt.xticks(rotation=45)\n",
    "plt.xlabel('Tipo de Comida')\n",
    "plt.ylabel('Calificación')\n",
    "plt.title('Distribución de Calificación por Tipo de Comida')\n",
    "plt.show()"
   ]
  },
  {
   "cell_type": "code",
   "execution_count": null,
   "id": "5840a4ce-fb39-4032-8928-f9bfdd7e45e8",
   "metadata": {},
   "outputs": [],
   "source": [
    "# Análisis del precio de los tres tipos de comida más comunes\n",
    "tipos_comida_comunes = df['Tipo de Comida'].value_counts().nlargest(3).index\n",
    "df_comunes = df[df['Tipo de Comida'].isin(tipos_comida_comunes)]\n",
    "sns.boxplot(x='Tipo de Comida', y='Precio Medio (€)', data=df_comunes)\n",
    "plt.title('Distribución del Precio Medio para los Tres Tipos de Comida Más Comunes')\n",
    "plt.show()"
   ]
  },
  {
   "cell_type": "code",
   "execution_count": null,
   "id": "67219638-9026-4b4d-b18b-69c662fc0eb8",
   "metadata": {},
   "outputs": [],
   "source": [
    "# Boxplot de calificación para restaurantes en Madrid, París y Roma\n",
    "ciudades_seleccionadas = ['Madrid', 'París', 'Roma']\n",
    "df_ciudades = df[df['Ciudad'].isin(ciudades_seleccionadas)]\n",
    "sns.boxplot(x='Ciudad', y='Calificación', data=df_ciudades)\n",
    "plt.title('Boxplot de Calificación para Restaurantes en Madrid, París y Roma')\n",
    "plt.ylabel('Calificación')\n",
    "plt.show()"
   ]
  },
  {
   "cell_type": "code",
   "execution_count": null,
   "id": "798d24ab-0903-4065-8421-d93e21ffe2cf",
   "metadata": {},
   "outputs": [],
   "source": [
    "# Distribución de precios de comida italiana vs comida japonesa\n",
    "sns.violinplot(x='Tipo de Comida', y='Precio Medio (€)', data=df[df['Tipo de Comida'].isin(['Italiana', 'Japonesa'])])\n",
    "plt.title('Distribución de Precios: Comida Italiana vs Comida Japonesa')\n",
    "plt.ylabel('Precio Medio (€)')\n",
    "plt.show()"
   ]
  },
  {
   "cell_type": "code",
   "execution_count": null,
   "id": "6c32a844-4b8e-4d90-8d02-5838fe7d6896",
   "metadata": {},
   "outputs": [],
   "source": [
    "# Calificación media por tipo de comida en cada ciudad\n",
    "calificacion_media_tipo_ciudad = df.groupby(['Ciudad', 'Tipo de Comida'])['Calificación'].mean().unstack()\n",
    "calificacion_media_tipo_ciudad.plot(kind='bar', figsize=(10, 6))\n",
    "plt.ylabel('Calificación Media')\n",
    "plt.title('Calificación Media por Tipo de Comida en Cada Ciudad')\n",
    "plt.xticks(rotation=45)\n",
    "plt.show()"
   ]
  },
  {
   "cell_type": "markdown",
   "id": "447cc0e2-80b3-4bca-b648-1187e6929c3b",
   "metadata": {},
   "source": [
    "### BIVARIATE - Continua vs Continua"
   ]
  },
  {
   "cell_type": "markdown",
   "id": "c8c368f1-7fb3-40d5-92cd-609fd9dc960f",
   "metadata": {},
   "source": [
    "<h5 style=\"color: #00BFFF;\">Precio y Calificación</h5>"
   ]
  },
  {
   "cell_type": "code",
   "execution_count": null,
   "id": "bc5f57c5-da00-4e48-8ca2-c24d5484f3d7",
   "metadata": {},
   "outputs": [],
   "source": [
    "# Gráfico de dispersión \n",
    "\n",
    "\n"
   ]
  },
  {
   "cell_type": "code",
   "execution_count": null,
   "id": "100e3e9d-11e1-43b1-a22a-def907b57da4",
   "metadata": {},
   "outputs": [],
   "source": [
    "# Gráfico de dispersión \n",
    "plt.scatter(df['Precio Medio (€)'], df['Calificación'], color='blue')\n",
    "plt.xlabel('Precio Medio (€)')\n",
    "plt.ylabel('Calificación')\n",
    "plt.title('Relación entre Precio Medio y Calificación')\n",
    "plt.show()"
   ]
  },
  {
   "cell_type": "code",
   "execution_count": null,
   "id": "8af740f0-305d-48d1-b72b-f833e72cb330",
   "metadata": {},
   "outputs": [],
   "source": [
    "# Gráfico de dispersión con línea de tendencia entre precio medio y calificación\n",
    "sns.regplot(x='Precio Medio (€)', y='Calificación', data=df, line_kws={\"color\": \"red\"})\n",
    "plt.xlabel('Precio Medio (€)')\n",
    "plt.ylabel('Calificación')\n",
    "plt.title('Relación entre Precio Medio y Calificación con Línea de Tendencia')\n",
    "plt.show()"
   ]
  },
  {
   "cell_type": "code",
   "execution_count": null,
   "id": "ee41a1ec-2b0d-4cf5-9458-12713ecc91cd",
   "metadata": {},
   "outputs": [],
   "source": [
    "# Gráfico de dispersión entre calificación y precio en restaurantes de una ciudad específica\n",
    "ciudad_especifica = 'Roma'\n",
    "df_ciudad = df[df['Ciudad'] == ciudad_especifica]\n",
    "plt.scatter(df_ciudad['Precio Medio (€)'], df_ciudad['Calificación'], color='purple')\n",
    "plt.xlabel('Precio Medio (€)')\n",
    "plt.ylabel('Calificación')\n",
    "plt.title(f'Relación entre Precio y Calificación en {ciudad_especifica}')\n",
    "plt.show()"
   ]
  },
  {
   "cell_type": "code",
   "execution_count": null,
   "id": "ca20adc6-68f5-4d1a-abbf-b855abb439e8",
   "metadata": {},
   "outputs": [],
   "source": [
    "df_restaurantes_buenos = df[df['Calificación'] > df['Calificación'].mean()]"
   ]
  },
  {
   "cell_type": "code",
   "execution_count": null,
   "id": "4d3d3e44-51fe-4f02-9529-8f60223d4117",
   "metadata": {},
   "outputs": [],
   "source": [
    "# Relación entre precio medio y calificación en restaurantes por encima de la calificación media\n",
    " \n"
   ]
  },
  {
   "cell_type": "code",
   "execution_count": null,
   "id": "df6ebdfc-fe2f-4a47-8c37-fcf8ab8fe927",
   "metadata": {},
   "outputs": [],
   "source": []
  },
  {
   "cell_type": "code",
   "execution_count": null,
   "id": "090e284b-e591-4f92-a0c5-ccfb5697c5a5",
   "metadata": {},
   "outputs": [],
   "source": [
    "# Mapa de calor de la CORRELACION entre variables numéricas\n",
    "corr = df[['Calificación', 'Precio Medio (€)']].corr()\n",
    "sns.heatmap(corr, annot=True, cmap='coolwarm')\n",
    "plt.title('Matriz de Correlación')\n",
    "plt.show()"
   ]
  },
  {
   "cell_type": "code",
   "execution_count": null,
   "id": "e2a40134-c0ee-462f-8486-1d56a55c7ede",
   "metadata": {},
   "outputs": [],
   "source": [
    "df[['Calificación', 'Precio Medio (€)']].corr()"
   ]
  },
  {
   "cell_type": "markdown",
   "id": "ca712637-805a-4409-b58d-21ffc6a1e14f",
   "metadata": {},
   "source": [
    "### REPASO"
   ]
  },
  {
   "cell_type": "code",
   "execution_count": null,
   "id": "7e288509-e767-4dec-a100-b89ddf63c025",
   "metadata": {},
   "outputs": [],
   "source": [
    "df"
   ]
  },
  {
   "cell_type": "code",
   "execution_count": null,
   "id": "b91ef9ab-2756-4d03-a716-92cc8a0c9ef1",
   "metadata": {},
   "outputs": [],
   "source": [
    "# FILTRO FILAS - lo que estan en Paris\n",
    "df_paris = df[df.Ciudad == 'París']"
   ]
  },
  {
   "cell_type": "code",
   "execution_count": null,
   "id": "907d1181-99dc-4436-947a-d5a769155806",
   "metadata": {},
   "outputs": [],
   "source": [
    "df_paris.to_csv('paris.csv',header=True, index=False) # TIPS DE GUARDAR A CSV"
   ]
  },
  {
   "cell_type": "code",
   "execution_count": null,
   "id": "de2c246d-fee1-4834-a77e-db442d87318e",
   "metadata": {},
   "outputs": [],
   "source": [
    "# FILTRO COLUMNAS - Restaurante y calificacion\n",
    "\n",
    "df[['Restaurante','Calificación']]"
   ]
  },
  {
   "cell_type": "code",
   "execution_count": null,
   "id": "45cb4078-9bbb-4c91-91cb-82d5f2b203f6",
   "metadata": {},
   "outputs": [],
   "source": [
    "# Filtro de filas y columnas - Los de paris pero solo quiero ver el nombre y la calificacion"
   ]
  },
  {
   "cell_type": "code",
   "execution_count": null,
   "id": "37d475c7-7bda-4a00-ab15-6d62803d3343",
   "metadata": {},
   "outputs": [],
   "source": [
    "df[df.Ciudad == 'París'][['Restaurante','Calificación']]"
   ]
  },
  {
   "cell_type": "code",
   "execution_count": null,
   "id": "0fc30580-1051-4dc4-9a1a-ba8eef67dbf0",
   "metadata": {},
   "outputs": [],
   "source": [
    "df.columns"
   ]
  },
  {
   "cell_type": "code",
   "execution_count": null,
   "id": "b66cce12-36b2-4915-85e3-651f0fff926b",
   "metadata": {},
   "outputs": [],
   "source": [
    "# Creo una nueva columna que sea el ratio entre Precio/Calificacion\n",
    "\n",
    "df['ratio'] = round(df['Precio Medio (€)']/df['Calificación'],2)\n",
    "df"
   ]
  },
  {
   "cell_type": "code",
   "execution_count": null,
   "id": "309c5f14-f6f2-4db9-b267-43025e244771",
   "metadata": {},
   "outputs": [],
   "source": [
    "df['ratio'] = round(df['ratio'],2)\n",
    "df.head()"
   ]
  },
  {
   "cell_type": "code",
   "execution_count": null,
   "id": "b0ded9e8-e6ca-4686-9aff-acb5230ec55c",
   "metadata": {},
   "outputs": [],
   "source": [
    "df['Tipo de Comida'].unique()"
   ]
  },
  {
   "cell_type": "code",
   "execution_count": null,
   "id": "12bc302b-0ea0-4552-8149-d3f11d3f7a1a",
   "metadata": {},
   "outputs": [],
   "source": [
    "palabra = 'Española'\n",
    "palabra[0:3]"
   ]
  },
  {
   "cell_type": "code",
   "execution_count": null,
   "id": "129120c7-fab9-4567-9a84-b9c822913c39",
   "metadata": {},
   "outputs": [],
   "source": [
    "df['iniciales'] = df['Tipo de Comida'].apply(lambda x: x[0:3])\n",
    "df"
   ]
  },
  {
   "cell_type": "code",
   "execution_count": null,
   "id": "9905c00c-6b3f-4148-8d24-e224402f7b02",
   "metadata": {},
   "outputs": [],
   "source": [
    "def prueba(palabra):\n",
    "    numero_letras = str(len(palabra))\n",
    "    return  palabra + ' - ' + numero_letras"
   ]
  },
  {
   "cell_type": "code",
   "execution_count": null,
   "id": "9f8602fc-4e04-4e0e-b7c1-16bf362fa7ac",
   "metadata": {},
   "outputs": [],
   "source": [
    "prueba('catalina')"
   ]
  },
  {
   "cell_type": "code",
   "execution_count": null,
   "id": "3600bd9b-1aba-4826-a0d6-d6e33b4ac43f",
   "metadata": {},
   "outputs": [],
   "source": []
  },
  {
   "cell_type": "code",
   "execution_count": null,
   "id": "19f78b96-0cb3-41f2-8666-6dabf0c3a1b9",
   "metadata": {},
   "outputs": [],
   "source": []
  },
  {
   "cell_type": "code",
   "execution_count": null,
   "id": "4d217407-a200-40a7-8cda-1f412795eb89",
   "metadata": {},
   "outputs": [],
   "source": [
    "df['columna_prueba'] = df['Restaurante'].apply(lambda x: prueba(x))\n",
    "df.head()"
   ]
  },
  {
   "cell_type": "code",
   "execution_count": null,
   "id": "9919c3d0-906b-4adf-8f9e-fc6ca58ad70a",
   "metadata": {},
   "outputs": [],
   "source": [
    "df['Calificación'].mean()"
   ]
  },
  {
   "cell_type": "code",
   "execution_count": null,
   "id": "b9beec5c-440c-4088-9459-c5588b729b03",
   "metadata": {},
   "outputs": [],
   "source": [
    "df.groupby('Ciudad')['Calificación'].mean()"
   ]
  },
  {
   "cell_type": "code",
   "execution_count": null,
   "id": "06f21016-6f42-4306-9911-77d49edf4a12",
   "metadata": {},
   "outputs": [],
   "source": [
    "lista_ciudades = ['Roma','París', 'Granada','Londres']"
   ]
  },
  {
   "cell_type": "code",
   "execution_count": null,
   "id": "c8958cde-fc88-4ba5-8ca4-4179c972fe52",
   "metadata": {},
   "outputs": [],
   "source": [
    "df[~df.Ciudad.isin(lista_ciudades)]"
   ]
  },
  {
   "cell_type": "code",
   "execution_count": null,
   "id": "f83b80cd-f6a5-4e2d-b4a9-8dea2671e1e0",
   "metadata": {},
   "outputs": [],
   "source": [
    "df['ratio'] = df['ratio'].astype(int)\n",
    "df.info()"
   ]
  },
  {
   "cell_type": "code",
   "execution_count": null,
   "id": "88cddf01-a188-4e7f-968a-dbe7e729690d",
   "metadata": {},
   "outputs": [],
   "source": [
    "df.head()"
   ]
  },
  {
   "cell_type": "code",
   "execution_count": null,
   "id": "7094de01-556c-4e75-8f29-966c844b4372",
   "metadata": {},
   "outputs": [],
   "source": [
    "df.Ciudad.unique()"
   ]
  },
  {
   "cell_type": "code",
   "execution_count": null,
   "id": "5047b9f6-5099-4bb2-8336-94c05b24cb68",
   "metadata": {},
   "outputs": [],
   "source": [
    "diccionario_mapeo = {'Madrid': 'ES', 'Bogotá':'NOES', 'Roma':'NOES', 'París':'NOES', 'Ciudad de México':'NOES', 'Tokio':'NOES',\n",
    "       'Valencia':'ES', 'Nueva York':'NOES', 'Buenos Aires':'NOES', 'Lima':'NOES', 'Granada':'ES',\n",
    "       'Londres':'NOES'}\n",
    "\n",
    "df['ciudad_mapeada'] = df['Ciudad'].map(diccionario_mapeo)\n",
    "df.head()"
   ]
  },
  {
   "cell_type": "code",
   "execution_count": null,
   "id": "673a6b4b-5d6b-42d3-b127-8f0d7e693121",
   "metadata": {},
   "outputs": [],
   "source": [
    "prueba_x = 'El Gourmet - 10'\n",
    "prueba_x.split(' - ')[1]"
   ]
  },
  {
   "cell_type": "code",
   "execution_count": null,
   "id": "a9806e20-f451-4709-a402-3c6bec21d02a",
   "metadata": {},
   "outputs": [],
   "source": [
    "df['numero_letras'] = df['columna_prueba'].apply(lambda x: x.split(' - ')[1])\n",
    "df.head()"
   ]
  },
  {
   "cell_type": "code",
   "execution_count": null,
   "id": "0e48cfe2-cacf-4447-a7dc-4cf42b0a888c",
   "metadata": {},
   "outputs": [],
   "source": []
  }
 ],
 "metadata": {
  "kernelspec": {
   "display_name": "IronHack",
   "language": "python",
   "name": "python3"
  },
  "language_info": {
   "codemirror_mode": {
    "name": "ipython",
    "version": 3
   },
   "file_extension": ".py",
   "mimetype": "text/x-python",
   "name": "python",
   "nbconvert_exporter": "python",
   "pygments_lexer": "ipython3",
   "version": "3.10.12"
  }
 },
 "nbformat": 4,
 "nbformat_minor": 5
}
