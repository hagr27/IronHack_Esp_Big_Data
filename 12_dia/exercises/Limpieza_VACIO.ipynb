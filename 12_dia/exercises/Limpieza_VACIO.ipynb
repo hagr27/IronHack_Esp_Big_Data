{
 "cells": [
  {
   "cell_type": "code",
   "execution_count": 149,
   "id": "de5f8292-0934-4a1e-9bc5-f8c5763c6231",
   "metadata": {},
   "outputs": [],
   "source": [
    "# Librerias\n",
    "import pandas as pd\n",
    "import numpy as np"
   ]
  },
  {
   "cell_type": "code",
   "execution_count": 150,
   "id": "19ef9550-3224-4c02-bdf5-2a52fd3061c3",
   "metadata": {},
   "outputs": [
    {
     "data": {
      "text/html": [
       "<div>\n",
       "<style scoped>\n",
       "    .dataframe tbody tr th:only-of-type {\n",
       "        vertical-align: middle;\n",
       "    }\n",
       "\n",
       "    .dataframe tbody tr th {\n",
       "        vertical-align: top;\n",
       "    }\n",
       "\n",
       "    .dataframe thead th {\n",
       "        text-align: right;\n",
       "    }\n",
       "</style>\n",
       "<table border=\"1\" class=\"dataframe\">\n",
       "  <thead>\n",
       "    <tr style=\"text-align: right;\">\n",
       "      <th></th>\n",
       "      <th>ID</th>\n",
       "      <th>Genero</th>\n",
       "      <th>Ciudad</th>\n",
       "      <th>Edad</th>\n",
       "      <th>Ingreso</th>\n",
       "    </tr>\n",
       "  </thead>\n",
       "  <tbody>\n",
       "    <tr>\n",
       "      <th>0</th>\n",
       "      <td>1</td>\n",
       "      <td>Masculino</td>\n",
       "      <td>Madrid</td>\n",
       "      <td>15</td>\n",
       "      <td>25000.0</td>\n",
       "    </tr>\n",
       "    <tr>\n",
       "      <th>1</th>\n",
       "      <td>2</td>\n",
       "      <td>F</td>\n",
       "      <td>Barcelona</td>\n",
       "      <td>22</td>\n",
       "      <td>32000.0</td>\n",
       "    </tr>\n",
       "    <tr>\n",
       "      <th>2</th>\n",
       "      <td>3</td>\n",
       "      <td>M</td>\n",
       "      <td>Madrid</td>\n",
       "      <td>34</td>\n",
       "      <td>28000.0</td>\n",
       "    </tr>\n",
       "    <tr>\n",
       "      <th>3</th>\n",
       "      <td>4</td>\n",
       "      <td>Fem</td>\n",
       "      <td>Bilbao</td>\n",
       "      <td>45</td>\n",
       "      <td>NaN</td>\n",
       "    </tr>\n",
       "    <tr>\n",
       "      <th>4</th>\n",
       "      <td>5</td>\n",
       "      <td>Femenino</td>\n",
       "      <td>Sevilla</td>\n",
       "      <td>58</td>\n",
       "      <td>50000.0</td>\n",
       "    </tr>\n",
       "    <tr>\n",
       "      <th>5</th>\n",
       "      <td>6</td>\n",
       "      <td>NaN</td>\n",
       "      <td>Bilbao</td>\n",
       "      <td>67</td>\n",
       "      <td>54000.0</td>\n",
       "    </tr>\n",
       "  </tbody>\n",
       "</table>\n",
       "</div>"
      ],
      "text/plain": [
       "  ID     Genero     Ciudad  Edad  Ingreso\n",
       "0  1  Masculino     Madrid    15  25000.0\n",
       "1  2          F  Barcelona    22  32000.0\n",
       "2  3          M     Madrid    34  28000.0\n",
       "3  4        Fem     Bilbao    45      NaN\n",
       "4  5   Femenino    Sevilla    58  50000.0\n",
       "5  6        NaN     Bilbao    67  54000.0"
      ]
     },
     "execution_count": 150,
     "metadata": {},
     "output_type": "execute_result"
    }
   ],
   "source": [
    "# Cargar dataset de ejemplo\n",
    "data = {\n",
    "    \"ID\": [1, 2, 3, 4, 5, \"6\"],\n",
    "    \"Genero\": [\"Masculino\", \"F\", \"M\", \"Fem\", \"Femenino\", np.nan],\n",
    "    \"Ciudad\": [\"Madrid\", \"Barcelona\", \"Madrid\", \"Bilbao\", \"Sevilla\", \"Bilbao\"],\n",
    "    \"Edad\": [15, 22, 34, 45, 58, 67],\n",
    "    \"Ingreso\": [25000, 32000, 28000, np.nan, 50000, 54000]\n",
    "}\n",
    "df = pd.DataFrame(data)\n",
    "df"
   ]
  },
  {
   "cell_type": "code",
   "execution_count": 151,
   "id": "ef6a0490-b90c-4822-9493-f19a6131b5fb",
   "metadata": {},
   "outputs": [
    {
     "name": "stdout",
     "output_type": "stream",
     "text": [
      "<class 'pandas.core.frame.DataFrame'>\n",
      "RangeIndex: 6 entries, 0 to 5\n",
      "Data columns (total 5 columns):\n",
      " #   Column   Non-Null Count  Dtype  \n",
      "---  ------   --------------  -----  \n",
      " 0   ID       6 non-null      object \n",
      " 1   Genero   5 non-null      object \n",
      " 2   Ciudad   6 non-null      object \n",
      " 3   Edad     6 non-null      int64  \n",
      " 4   Ingreso  5 non-null      float64\n",
      "dtypes: float64(1), int64(1), object(3)\n",
      "memory usage: 368.0+ bytes\n"
     ]
    }
   ],
   "source": [
    "# 1️⃣ Asegurar que los tipos de datos sean correctos\n",
    "df.info()\n"
   ]
  },
  {
   "cell_type": "code",
   "execution_count": 152,
   "id": "94128abf",
   "metadata": {},
   "outputs": [
    {
     "data": {
      "text/plain": [
       "array(['Masculino', 'F', 'M', 'Fem', 'Femenino', nan], dtype=object)"
      ]
     },
     "execution_count": 152,
     "metadata": {},
     "output_type": "execute_result"
    }
   ],
   "source": [
    "#print(df[df['Genero'] == 'M'])\n",
    "df['Genero'].unique()"
   ]
  },
  {
   "cell_type": "code",
   "execution_count": 153,
   "id": "5a0007ac-a33e-4085-a6af-37a75215a3df",
   "metadata": {},
   "outputs": [
    {
     "name": "stdout",
     "output_type": "stream",
     "text": [
      "\n",
      "Tipos de datos corregidos:\n",
      " ID           object\n",
      "Genero     category\n",
      "Ciudad       object\n",
      "Edad          int64\n",
      "Ingreso     float64\n",
      "dtype: object\n"
     ]
    }
   ],
   "source": [
    "# Convertir Genero a categórica\n",
    "df[\"Genero\"] = df[\"Genero\"].replace({\n",
    "    \"M\": \"Masculino\",\n",
    "    \"F\": \"Femenino\",\n",
    "    \"Fem\": \"Femenino\"\n",
    "})\n",
    "df[\"Genero\"] = df[\"Genero\"].astype(\"category\")\n",
    "\n",
    "print(\"\\nTipos de datos corregidos:\\n\", df.dtypes)\n"
   ]
  },
  {
   "cell_type": "code",
   "execution_count": 154,
   "id": "5bfa67be-feed-4250-8cf8-71baee7571e6",
   "metadata": {},
   "outputs": [],
   "source": [
    "# Convertir ID a integer\n",
    "df[\"ID\"] = pd.to_numeric(df[\"ID\"], errors=\"coerce\").astype(\"Int64\")  # Int64 permite NaN"
   ]
  },
  {
   "cell_type": "code",
   "execution_count": 155,
   "id": "067dd113-7587-4fce-8940-1b2fc13095c6",
   "metadata": {},
   "outputs": [],
   "source": [
    "# 2️⃣ Manejo de valores nulos\n"
   ]
  },
  {
   "cell_type": "code",
   "execution_count": 156,
   "id": "3439cdbf-2a6e-4f04-a561-e0b220e76b86",
   "metadata": {},
   "outputs": [
    {
     "name": "stdout",
     "output_type": "stream",
     "text": [
      "\n",
      "Filas con más de 1 nulo:\n",
      " Empty DataFrame\n",
      "Columns: [ID, Genero, Ciudad, Edad, Ingreso]\n",
      "Index: []\n"
     ]
    }
   ],
   "source": [
    "# Y si quieres ver las filas que tienen muchos nulos??\n",
    "\n",
    "\n",
    "# Ver las filas con más de X valores nulos (por ejemplo, más de 3 nulos)\n",
    "filas_con_nulos = df[df.isnull().sum(axis=1) > 1]\n",
    "print(\"\\nFilas con más de 1 nulo:\\n\", filas_con_nulos)\n"
   ]
  },
  {
   "cell_type": "code",
   "execution_count": 157,
   "id": "0b8b4c70-04b7-47f7-8de0-015c0465579f",
   "metadata": {},
   "outputs": [
    {
     "name": "stdout",
     "output_type": "stream",
     "text": [
      "\n",
      "Filas con más de 1 nulo:\n",
      " Empty DataFrame\n",
      "Columns: [ID, Genero, Ciudad, Edad, Ingreso]\n",
      "Index: []\n"
     ]
    }
   ],
   "source": [
    "# Imputar nulos\n",
    "filas_con_nulos = df[df.isnull().sum(axis=1) > 1]\n",
    "print(\"\\nFilas con más de 1 nulo:\\n\", filas_con_nulos)\n",
    "\n",
    "# Imputar numérico con mediana\n",
    "for col in df.select_dtypes(include=[\"int64\", \"float64\", \"Int64\"]).columns:\n",
    "    mediana = df[col].median()\n",
    "    df[col] = df[col].fillna(mediana)\n",
    "\n",
    "# Imputar categórico con la moda u otro valor\n",
    "for col in df.select_dtypes(include=[\"category\", \"object\"]).columns:\n",
    "    moda = df[col].mode()[0]\n",
    "    df[col] = df[col].fillna(moda)"
   ]
  },
  {
   "cell_type": "code",
   "execution_count": null,
   "id": "d83ca6a5-9983-4580-8cac-536ac13f29a4",
   "metadata": {},
   "outputs": [
    {
     "name": "stdout",
     "output_type": "stream",
     "text": [
      "Genero inicial:\n",
      "       Genero GeneroInicial\n",
      "0  Masculino             M\n",
      "1   Femenino             F\n",
      "2  Masculino             M\n",
      "3   Femenino             F\n",
      "4   Femenino             F\n",
      "5   Femenino             F\n"
     ]
    }
   ],
   "source": [
    "# 3️⃣ Limpieza de valores categóricos  - con apply lambda\n",
    "\n",
    "# a) Quédate sólo con la inicial del género\n",
    "df['GeneroInicial'] = df['Genero'].apply(lambda x: str(x)[0] if pd.notnull(x) else np.nan)\n",
    "print(\"Genero inicial:\\n\", df[['Genero', 'GeneroInicial']])"
   ]
  },
  {
   "cell_type": "code",
   "execution_count": 159,
   "id": "9454ab4f-8216-4bc8-9ceb-6bfda49b29bd",
   "metadata": {},
   "outputs": [
    {
     "name": "stdout",
     "output_type": "stream",
     "text": [
      "   ID     Genero     Ciudad  Edad  Ingreso GeneroInicial GeneroEstandarizado\n",
      "0   1  Masculino     Madrid    15  25000.0             M           Masculino\n",
      "1   2   Femenino  Barcelona    22  32000.0             F            Femenino\n",
      "2   3  Masculino     Madrid    34  28000.0             M           Masculino\n",
      "3   4   Femenino     Bilbao    45  32000.0             F            Femenino\n",
      "4   5   Femenino    Sevilla    58  50000.0             F            Femenino\n",
      "5   6   Femenino     Bilbao    67  54000.0             F            Femenino\n"
     ]
    }
   ],
   "source": [
    "# 3️⃣ Limpieza de valores categóricos  - con map()\n",
    "\n",
    "# a) Estandarizalo a Femenino, Masculino y Neutro\n",
    "map_genero = {\n",
    "    \"M\": \"Masculino\",\n",
    "    \"F\": \"Femenino\",\n",
    "    \"Fem\": \"Femenino\",\n",
    "    \"Masculino\": \"Masculino\",\n",
    "    \"Femenino\": \"Femenino\",\n",
    "    np.nan: \"Neutro\"\n",
    "}\n",
    "\n",
    "df['GeneroEstandarizado'] = df['Genero'].map(lambda x: map_genero.get(x, \"Neutro\"))\n",
    "print(df)"
   ]
  },
  {
   "cell_type": "code",
   "execution_count": 160,
   "id": "ea1ffac8",
   "metadata": {},
   "outputs": [
    {
     "name": "stdout",
     "output_type": "stream",
     "text": [
      "\n",
      "Genero estandarizado:\n",
      "       Genero GeneroEstandarizado\n",
      "0  Masculino           Masculino\n",
      "1   Femenino            Femenino\n",
      "2  Masculino           Masculino\n",
      "3   Femenino            Femenino\n",
      "4   Femenino            Femenino\n",
      "5   Femenino            Femenino\n"
     ]
    }
   ],
   "source": [
    "print(\"\\nGenero estandarizado:\\n\", df[['Genero', 'GeneroEstandarizado']])"
   ]
  },
  {
   "cell_type": "code",
   "execution_count": 161,
   "id": "6672f749-d8c3-4cc2-ad1c-63f02496248a",
   "metadata": {},
   "outputs": [
    {
     "data": {
      "text/plain": [
       "['Madrid', 'Bilbao', 'Barcelona']"
      ]
     },
     "execution_count": 161,
     "metadata": {},
     "output_type": "execute_result"
    }
   ],
   "source": [
    "# 4️⃣ Reducir cardinalidad en variables categóricas: haz una lista de las ciudades mas frecuentes y quitate categorias\n",
    "\n",
    "# Obtener las ciudades más frecuentes (ejemplo top 3)\n",
    "top_ciudades = df['Ciudad'].value_counts().nlargest(3).index.tolist()\n",
    "top_ciudades"
   ]
  },
  {
   "cell_type": "code",
   "execution_count": 162,
   "id": "e1c5101c-339b-4c23-aa07-d2813e988c30",
   "metadata": {},
   "outputs": [
    {
     "name": "stdout",
     "output_type": "stream",
     "text": [
      "\n",
      "Ciudad con cardinalidad reducida:\n",
      "       Ciudad CiudadReducida\n",
      "0     Madrid         Madrid\n",
      "1  Barcelona      Barcelona\n",
      "2     Madrid         Madrid\n",
      "3     Bilbao         Bilbao\n",
      "4    Sevilla          Otros\n",
      "5     Bilbao         Bilbao\n"
     ]
    }
   ],
   "source": [
    "# Reemplazar el resto por 'Otros'\n",
    "df['CiudadReducida'] = df['Ciudad'].apply(lambda x: x if x in top_ciudades else 'Otros')\n",
    "print(\"\\nCiudad con cardinalidad reducida:\\n\", df[['Ciudad', 'CiudadReducida']])"
   ]
  },
  {
   "cell_type": "code",
   "execution_count": 163,
   "id": "deaec7ac-ecb0-4bf5-8e11-e6372d82445c",
   "metadata": {},
   "outputs": [
    {
     "name": "stdout",
     "output_type": "stream",
     "text": [
      "\n",
      "Edad binning:\n",
      "    Edad EdadBinned\n",
      "0    15      Joven\n",
      "1    22     Adulto\n",
      "2    34     Adulto\n",
      "3    45     Maduro\n",
      "4    58      Mayor\n",
      "5    67      Mayor\n"
     ]
    }
   ],
   "source": [
    "# 5️⃣ Binning en variables numéricas (Ejemplo: Edad)\n",
    "\n",
    "# Crear bins y etiquetas\n",
    "bins = [0, 18, 35, 50, 100]\n",
    "labels = ['Joven', 'Adulto', 'Maduro', 'Mayor']\n",
    "df['EdadBinned'] = pd.cut(df['Edad'], bins=bins, labels=labels)\n",
    "print(\"\\nEdad binning:\\n\", df[['Edad', 'EdadBinned']])"
   ]
  },
  {
   "cell_type": "code",
   "execution_count": null,
   "id": "df1f0640-8b74-438a-a720-7f7a676052d4",
   "metadata": {},
   "outputs": [],
   "source": []
  }
 ],
 "metadata": {
  "kernelspec": {
   "display_name": "IronHack",
   "language": "python",
   "name": "python3"
  },
  "language_info": {
   "codemirror_mode": {
    "name": "ipython",
    "version": 3
   },
   "file_extension": ".py",
   "mimetype": "text/x-python",
   "name": "python",
   "nbconvert_exporter": "python",
   "pygments_lexer": "ipython3",
   "version": "3.10.12"
  }
 },
 "nbformat": 4,
 "nbformat_minor": 5
}
