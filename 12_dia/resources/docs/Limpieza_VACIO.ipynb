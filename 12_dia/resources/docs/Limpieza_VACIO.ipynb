{
 "cells": [
  {
   "cell_type": "code",
   "execution_count": null,
   "id": "de5f8292-0934-4a1e-9bc5-f8c5763c6231",
   "metadata": {},
   "outputs": [],
   "source": [
    "# Librerias\n",
    "import pandas as pd\n",
    "import numpy as np"
   ]
  },
  {
   "cell_type": "code",
   "execution_count": null,
   "id": "19ef9550-3224-4c02-bdf5-2a52fd3061c3",
   "metadata": {},
   "outputs": [],
   "source": [
    "# 📌 Cargar dataset de ejemplo\n",
    "data = {\n",
    "    \"ID\": [1, 2, 3, 4, 5, \"6\"],\n",
    "    \"Genero\": [\"Masculino\", \"F\", \"M\", \"Fem\", \"Femenino\", np.nan],\n",
    "    \"Ciudad\": [\"Madrid\", \"Barcelona\", \"Madrid\", \"Bilbao\", \"Sevilla\", \"Bilbao\"],\n",
    "    \"Edad\": [15, 22, 34, 45, 58, 67],\n",
    "    \"Ingreso\": [25000, 32000, 28000, np.nan, 50000, 54000]\n",
    "}\n",
    "df = pd.DataFrame(data)\n",
    "df"
   ]
  },
  {
   "cell_type": "code",
   "execution_count": null,
   "id": "ef6a0490-b90c-4822-9493-f19a6131b5fb",
   "metadata": {},
   "outputs": [],
   "source": [
    "# 1️⃣ Asegurar que los tipos de datos sean correctos\n"
   ]
  },
  {
   "cell_type": "code",
   "execution_count": null,
   "id": "5a0007ac-a33e-4085-a6af-37a75215a3df",
   "metadata": {},
   "outputs": [],
   "source": [
    "# Convertir Genero a categórica"
   ]
  },
  {
   "cell_type": "code",
   "execution_count": null,
   "id": "5bfa67be-feed-4250-8cf8-71baee7571e6",
   "metadata": {},
   "outputs": [],
   "source": [
    "# Convertir ID a integer"
   ]
  },
  {
   "cell_type": "code",
   "execution_count": null,
   "id": "067dd113-7587-4fce-8940-1b2fc13095c6",
   "metadata": {},
   "outputs": [],
   "source": [
    "# 2️⃣ Manejo de valores nulos\n"
   ]
  },
  {
   "cell_type": "code",
   "execution_count": null,
   "id": "3439cdbf-2a6e-4f04-a561-e0b220e76b86",
   "metadata": {},
   "outputs": [],
   "source": [
    "# Y si quieres ver las filas que tienen muchos nulos??\n",
    "\n",
    "\n",
    "# Ver las filas con más de X valores nulos (por ejemplo, más de 3 nulos)\n",
    "\n"
   ]
  },
  {
   "cell_type": "code",
   "execution_count": null,
   "id": "0b8b4c70-04b7-47f7-8de0-015c0465579f",
   "metadata": {},
   "outputs": [],
   "source": [
    "# Imputar nulos\n",
    "\n",
    "# Imputar numérico con mediana\n",
    "\n",
    "# Imputar categórico con la moda u otro valor"
   ]
  },
  {
   "cell_type": "code",
   "execution_count": null,
   "id": "be415e45-3501-419b-b033-f736dd45fc45",
   "metadata": {},
   "outputs": [],
   "source": []
  },
  {
   "cell_type": "code",
   "execution_count": null,
   "id": "d83ca6a5-9983-4580-8cac-536ac13f29a4",
   "metadata": {},
   "outputs": [],
   "source": [
    "# 3️⃣ Limpieza de valores categóricos  - con apply lambda\n",
    "\n",
    "# a) Quédate sólo con la inicial del género\n",
    "\n"
   ]
  },
  {
   "cell_type": "code",
   "execution_count": null,
   "id": "9454ab4f-8216-4bc8-9ceb-6bfda49b29bd",
   "metadata": {},
   "outputs": [],
   "source": [
    "# 3️⃣ Limpieza de valores categóricos  - con map()\n",
    "\n",
    "# a) Estandarizalo a Femenino, Masculino y Neutro\n",
    "\n"
   ]
  },
  {
   "cell_type": "code",
   "execution_count": null,
   "id": "6672f749-d8c3-4cc2-ad1c-63f02496248a",
   "metadata": {},
   "outputs": [],
   "source": [
    "# 4️⃣ Reducir cardinalidad en variables categóricas: haz una lista de las ciudades mas frecuentes y quitate categorias\n"
   ]
  },
  {
   "cell_type": "code",
   "execution_count": null,
   "id": "e1c5101c-339b-4c23-aa07-d2813e988c30",
   "metadata": {},
   "outputs": [],
   "source": []
  },
  {
   "cell_type": "code",
   "execution_count": null,
   "id": "deaec7ac-ecb0-4bf5-8e11-e6372d82445c",
   "metadata": {},
   "outputs": [],
   "source": [
    "# 5️⃣ Binning en variables numéricas (Ejemplo: Edad)\n",
    "\n"
   ]
  },
  {
   "cell_type": "code",
   "execution_count": null,
   "id": "df1f0640-8b74-438a-a720-7f7a676052d4",
   "metadata": {},
   "outputs": [],
   "source": []
  }
 ],
 "metadata": {
  "kernelspec": {
   "display_name": "Python 3 (ipykernel)",
   "language": "python",
   "name": "python3"
  },
  "language_info": {
   "codemirror_mode": {
    "name": "ipython",
    "version": 3
   },
   "file_extension": ".py",
   "mimetype": "text/x-python",
   "name": "python",
   "nbconvert_exporter": "python",
   "pygments_lexer": "ipython3",
   "version": "3.12.2"
  }
 },
 "nbformat": 4,
 "nbformat_minor": 5
}
