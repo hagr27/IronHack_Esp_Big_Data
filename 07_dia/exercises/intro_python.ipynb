{
 "cells": [
  {
   "cell_type": "markdown",
   "id": "b29ac17b",
   "metadata": {},
   "source": [
    "\n",
    "# Introducción básica a Python y Pandas\n",
    "\n",
    "En este cuaderno repasaremos:\n",
    "- Tipos y estructuras básicas de Python (listas)\n",
    "- Control de flujo (`for`, `if/else`)\n",
    "- Funciones\n",
    "- Introducción a **pandas** usando el dataset **Iris**\n",
    "  - Cargar en un `DataFrame`\n",
    "  - Seleccionar columnas y filas\n",
    "  - Crear columnas nuevas a partir de operaciones\n",
    "  - `groupby` para agregaciones\n",
    "  - `map` y `apply` con `lambda`\n"
   ]
  },
  {
   "cell_type": "markdown",
   "id": "99c00f86",
   "metadata": {},
   "source": [
    "## 1. Python básico: listas"
   ]
  },
  {
   "cell_type": "code",
   "execution_count": null,
   "id": "b9dc5592-af81-4407-9dab-dd81a853456c",
   "metadata": {},
   "outputs": [],
   "source": [
    "# Crear una lista\n"
   ]
  },
  {
   "cell_type": "code",
   "execution_count": null,
   "id": "af567765-373e-4468-acb3-8f9292a2e94a",
   "metadata": {},
   "outputs": [],
   "source": [
    "# Acceso por índice"
   ]
  },
  {
   "cell_type": "code",
   "execution_count": null,
   "id": "dd0688c1-3ec7-4ae2-b4a4-253cc8fbcea7",
   "metadata": {},
   "outputs": [],
   "source": []
  },
  {
   "cell_type": "code",
   "execution_count": null,
   "id": "ff411f55-6ae6-4697-80db-04a1ef0d54eb",
   "metadata": {},
   "outputs": [],
   "source": [
    "print(\"Últimos dos elementos:\", numeros[-2:])"
   ]
  },
  {
   "cell_type": "code",
   "execution_count": null,
   "id": "d9566ae3-b8e1-4cd0-acec-2c64c076a0d3",
   "metadata": {},
   "outputs": [],
   "source": []
  },
  {
   "cell_type": "code",
   "execution_count": null,
   "id": "d1410039-16ff-49f5-83ec-56fb4e348ed0",
   "metadata": {},
   "outputs": [],
   "source": [
    "# Métodos útiles\n",
    "numeros.append(2)           # añadir al final\n",
    "numeros.insert(1, 7)       # insertar en posición 1\n",
    "numeros.remove(1)          # elimina la primera aparición de 1\n",
    "print(\"Lista tras operaciones:\", numeros)"
   ]
  },
  {
   "cell_type": "code",
   "execution_count": null,
   "id": "d8103de0-8a4a-484d-aa00-d870e1dbf0ed",
   "metadata": {},
   "outputs": [],
   "source": []
  },
  {
   "cell_type": "code",
   "execution_count": null,
   "id": "1f43a4b5-c3f6-4582-bcb5-e2a61089b4b1",
   "metadata": {},
   "outputs": [],
   "source": [
    "# Ordenar (.sort()) --> observa"
   ]
  },
  {
   "cell_type": "code",
   "execution_count": null,
   "id": "4f3cce0f-24dd-40bd-a8bf-7541a37969ae",
   "metadata": {},
   "outputs": [],
   "source": [
    "# Nueva lista ordenada, sin modificar la original (sorted())"
   ]
  },
  {
   "cell_type": "code",
   "execution_count": null,
   "id": "8776254f-4b68-4f22-8282-ea072eb04337",
   "metadata": {},
   "outputs": [],
   "source": []
  },
  {
   "cell_type": "code",
   "execution_count": null,
   "id": "c19e6982-e08c-47c2-96db-ac52c5b23c92",
   "metadata": {},
   "outputs": [],
   "source": []
  },
  {
   "cell_type": "markdown",
   "id": "36f61247",
   "metadata": {},
   "source": [
    "## 2. Control de flujo: `for`, `if/else`"
   ]
  },
  {
   "cell_type": "code",
   "execution_count": null,
   "id": "3ebbad62-55e5-438f-9432-de8f4b24aaa4",
   "metadata": {},
   "outputs": [],
   "source": [
    "# Haz una lista de palabras\n"
   ]
  },
  {
   "cell_type": "code",
   "execution_count": null,
   "id": "d3f12d91-c131-4319-9d03-565fbfc63688",
   "metadata": {},
   "outputs": [],
   "source": [
    "# Crea una lista nueva con el numero de letras de las palabras\n"
   ]
  },
  {
   "cell_type": "code",
   "execution_count": null,
   "id": "05d70514",
   "metadata": {},
   "outputs": [],
   "source": [
    "\n",
    "# Sumar solo los pares usando for + if\n",
    "numeros = [3, 1, 4, 1, 5, 9, 2, 6]\n",
    "suma_pares = 0\n",
    "for n in numeros:\n",
    "    if n % 2 == 0:\n",
    "        suma_pares += n\n",
    "print(\"Suma de pares:\", suma_pares)\n",
    "\n",
    "# List comprehension (azúcar sintáctico)\n",
    "pares = [n for n in numeros if n % 2 == 0]\n",
    "print(\"Pares:\", pares)"
   ]
  },
  {
   "cell_type": "markdown",
   "id": "9755b5a7",
   "metadata": {},
   "source": [
    "## 3. Funciones"
   ]
  },
  {
   "cell_type": "code",
   "execution_count": null,
   "id": "87b3b8eb-0026-48c2-b64d-6a44824edc03",
   "metadata": {},
   "outputs": [],
   "source": [
    "# Crea una funcion que dados dos números te devuelve la suma\n",
    "\n"
   ]
  },
  {
   "cell_type": "code",
   "execution_count": null,
   "id": "d71f2974-1ec5-49f2-92d5-1d25c12a5ea4",
   "metadata": {},
   "outputs": [],
   "source": []
  },
  {
   "cell_type": "code",
   "execution_count": null,
   "id": "75c5a3be",
   "metadata": {},
   "outputs": [],
   "source": [
    "# Funcion del area de un rectangulo\n",
    "def area_rectangulo(base, altura):\n",
    "    \"\"\"Devuelve el área de un rectángulo.\"\"\"\n",
    "    return base * altura\n",
    "\n",
    "print(\"Área 3x5:\", area_rectangulo(3, 5))\n",
    "\n",
    "# Función con valor por defecto y tipo simple\n",
    "def saludo(nombre, mayusculas=False):\n",
    "    texto = f\"Hola, {nombre}\"\n",
    "    return texto.upper() if mayusculas else texto\n",
    "\n",
    "print(saludo(\"Ana\"))\n",
    "print(saludo(\"Ana\", mayusculas=True))\n"
   ]
  },
  {
   "cell_type": "code",
   "execution_count": null,
   "id": "4ecc4f90-bdb9-4812-b2f4-212f21cd559e",
   "metadata": {},
   "outputs": [],
   "source": [
    "# Haz una función que de dos números te devuelva el más mayor\n"
   ]
  },
  {
   "cell_type": "markdown",
   "id": "565a91f1-2cd8-42f1-88a3-742b0f9db43e",
   "metadata": {},
   "source": [
    "#### Ejercicio: haz una funcion para el juego de piedra, papel y tijeras"
   ]
  },
  {
   "cell_type": "code",
   "execution_count": null,
   "id": "466ad318-402f-4b6f-962c-b29eecf70599",
   "metadata": {},
   "outputs": [],
   "source": []
  },
  {
   "cell_type": "code",
   "execution_count": null,
   "id": "0f67aa11-a0d9-4dd1-9d49-035fdb789265",
   "metadata": {},
   "outputs": [],
   "source": []
  },
  {
   "cell_type": "code",
   "execution_count": null,
   "id": "b73699ea-ed8b-4a59-8b59-a2da6140aadd",
   "metadata": {},
   "outputs": [],
   "source": []
  },
  {
   "cell_type": "markdown",
   "id": "7eda3afa",
   "metadata": {},
   "source": [
    "## 4. Introducción a pandas con el dataset Iris"
   ]
  },
  {
   "cell_type": "code",
   "execution_count": null,
   "id": "e80b621e-220d-46ae-a87f-9061deefb455",
   "metadata": {},
   "outputs": [],
   "source": [
    "import pandas as pd"
   ]
  },
  {
   "cell_type": "code",
   "execution_count": null,
   "id": "ad540f37",
   "metadata": {},
   "outputs": [],
   "source": [
    "# Cargar dataset Iris desde scikit-learn (sin descargas externas)\n",
    "from sklearn.datasets import load_iris\n",
    "iris = load_iris(as_frame=True)\n",
    "iris"
   ]
  },
  {
   "cell_type": "code",
   "execution_count": null,
   "id": "5164f131-2159-412c-9566-f68bfb7508bf",
   "metadata": {},
   "outputs": [],
   "source": [
    "df = iris.frame  # incluye características + target\n",
    "df.head()"
   ]
  },
  {
   "cell_type": "code",
   "execution_count": null,
   "id": "835d60d0-58a2-4fc8-baf9-33f8afe366b9",
   "metadata": {},
   "outputs": [],
   "source": [
    "df.rename(columns={\n",
    "    \"sepal length (cm)\": \"sepal_length\",\n",
    "    \"sepal width (cm)\": \"sepal_width\",\n",
    "    \"petal length (cm)\": \"petal_length\",\n",
    "    \"petal width (cm)\": \"petal_width\",\n",
    "    \"target\": \"species_id\",\n",
    "}, inplace=True)"
   ]
  },
  {
   "cell_type": "code",
   "execution_count": null,
   "id": "1970e7ec-70f4-4972-b7ff-688d3b3d229a",
   "metadata": {},
   "outputs": [],
   "source": [
    "# Mapear id a etiqueta de especie\n",
    "species_map = {i: name for i, name in enumerate(iris.target_names)}\n",
    "df[\"species\"] = df[\"species_id\"].map(species_map)\n",
    "\n",
    "df.head()"
   ]
  },
  {
   "cell_type": "code",
   "execution_count": null,
   "id": "879e9a84-5add-4055-b060-ff4060ff4f8b",
   "metadata": {},
   "outputs": [],
   "source": [
    "# MAPEA DE OTRA MANERA\n"
   ]
  },
  {
   "cell_type": "code",
   "execution_count": null,
   "id": "8d06ea2f-7fc4-4d5e-a457-b4abeafb9e37",
   "metadata": {},
   "outputs": [],
   "source": []
  },
  {
   "cell_type": "markdown",
   "id": "95a009c4",
   "metadata": {},
   "source": [
    "### 4.1 Seleccionar columnas y filas"
   ]
  },
  {
   "cell_type": "code",
   "execution_count": null,
   "id": "2ccc3fb8",
   "metadata": {},
   "outputs": [],
   "source": [
    "# Haz un nuevo dataframe con solo las dos columnas de petal\n",
    "\n"
   ]
  },
  {
   "cell_type": "markdown",
   "id": "f7cb1c47",
   "metadata": {},
   "source": [
    "### 4.2 Crear una columna nueva"
   ]
  },
  {
   "cell_type": "code",
   "execution_count": null,
   "id": "77651d9d",
   "metadata": {},
   "outputs": [],
   "source": [
    "# Ejemplo: área aproximada del pétalo (producto simple)\n",
    "\n",
    "\n"
   ]
  },
  {
   "cell_type": "markdown",
   "id": "1852d520",
   "metadata": {},
   "source": [
    "### 4.3 Agrupar con `groupby`"
   ]
  },
  {
   "cell_type": "code",
   "execution_count": null,
   "id": "3bb6ea5d",
   "metadata": {},
   "outputs": [],
   "source": [
    "\n",
    "# Media de medidas por especie\n",
    "mean_by_species = (\n",
    "    df.groupby(\"species\")[[\"sepal_length\", \"sepal_width\", \"petal_length\", \"petal_width\", \"petal_area\"]]\n",
    "      .mean()\n",
    "      .round(2)\n",
    ")\n",
    "mean_by_species\n"
   ]
  },
  {
   "cell_type": "markdown",
   "id": "97e30394",
   "metadata": {},
   "source": [
    "### 4.4 `map` y `apply` con `lambda`"
   ]
  },
  {
   "cell_type": "code",
   "execution_count": null,
   "id": "05b44ef2",
   "metadata": {},
   "outputs": [],
   "source": [
    "\n",
    "# map: transformar valores de una serie\n",
    "genero_simple = {\"setosa\": \"A\", \"versicolor\": \"B\", \"virginica\": \"C\"}\n",
    "df[\"species_code\"] = df[\"species\"].map(genero_simple)\n",
    "df[[\"species\", \"species_code\"]].head()\n"
   ]
  },
  {
   "cell_type": "code",
   "execution_count": null,
   "id": "77518258-efc6-4571-8db8-f147537d0b67",
   "metadata": {},
   "outputs": [],
   "source": [
    "# Quedate solo con las dos primeras letras de la especie, usando apply lambda"
   ]
  },
  {
   "cell_type": "code",
   "execution_count": null,
   "id": "771e7a6e-5855-4b45-bc61-d92236be64a3",
   "metadata": {},
   "outputs": [],
   "source": []
  },
  {
   "cell_type": "code",
   "execution_count": null,
   "id": "0620db27-41ef-45b1-8b4e-843b8e14c336",
   "metadata": {},
   "outputs": [],
   "source": [
    "# Vamos a categorizar la longitud del sepalo: \n",
    "# si es menor que 5cm es corto, si es mayor que 6.5 es largo, entremedias es normal\n",
    "# apply lambda lo que hace es aplicar una funcion a toda una columna\n",
    "df[\"sepal_category\"] = df[\"sepal_length\"].apply(\n",
    "    lambda x: \"corto\" if x < 5 else (\"medio\" if x < 6.5 else \"largo\")\n",
    ")"
   ]
  },
  {
   "cell_type": "code",
   "execution_count": null,
   "id": "e5f04e41-b28b-4fb9-bbe0-0f06e2eea68c",
   "metadata": {},
   "outputs": [],
   "source": []
  },
  {
   "cell_type": "code",
   "execution_count": null,
   "id": "03df3f8f-540b-4b09-b240-a1c3a9f19e54",
   "metadata": {},
   "outputs": [],
   "source": []
  },
  {
   "cell_type": "code",
   "execution_count": null,
   "id": "75ec3759",
   "metadata": {},
   "outputs": [],
   "source": [
    "\n",
    "# apply con lambda a filas: crear etiqueta simple\n",
    "def clasificar_petal(row):\n",
    "    return \"petalo_grande\" if row[\"petal_area\"] >= df[\"petal_area\"].median() else \"petalo_pequeño\"\n",
    "\n",
    "df[\"petal_size\"] = df.apply(lamclasificar_petal, axis=1)\n",
    "df[[\"petal_area\", \"petal_size\", \"species\"]].head()\n"
   ]
  },
  {
   "cell_type": "markdown",
   "id": "e87d7fa5",
   "metadata": {},
   "source": [
    "\n",
    "## 5. Ejercicios propuestos (opcionales)\n",
    "\n",
    "1. Dada la lista `valores = [5, 7, 2, 8, 3, 4]`, crea otra lista con los **cuadrados** de los números **impares** usando list comprehension.\n",
    "2. Escribe una función `es_primo(n)` que devuelva `True` si `n` es primo y `False` en caso contrario.\n",
    "3. En el `DataFrame` `df`, crea una columna `sepal_ratio` = `sepal_length / sepal_width` y muestra las 5 primeras filas.\n",
    "4. Calcula, con `groupby`, la **desviación estándar** de `petal_length` por `species`.\n",
    "5. Usa `apply` para crear una columna `alerta` que valga `\"OK\"` si `sepal_length` < 6.0 y `\"LARGO\"` en caso contrario.\n"
   ]
  }
 ],
 "metadata": {
  "kernelspec": {
   "display_name": "Python 3 (ipykernel)",
   "language": "python",
   "name": "python3"
  },
  "language_info": {
   "codemirror_mode": {
    "name": "ipython",
    "version": 3
   },
   "file_extension": ".py",
   "mimetype": "text/x-python",
   "name": "python",
   "nbconvert_exporter": "python",
   "pygments_lexer": "ipython3",
   "version": "3.12.2"
  }
 },
 "nbformat": 4,
 "nbformat_minor": 5
}
